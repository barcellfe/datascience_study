{
  "nbformat": 4,
  "nbformat_minor": 0,
  "metadata": {
    "colab": {
      "name": "Captura IPCA.ipynb",
      "provenance": [],
      "collapsed_sections": [],
      "authorship_tag": "ABX9TyM8+EHOA4UUEoBJf596VQzS",
      "include_colab_link": true
    },
    "kernelspec": {
      "name": "python3",
      "display_name": "Python 3"
    }
  },
  "cells": [
    {
      "cell_type": "markdown",
      "metadata": {
        "id": "view-in-github",
        "colab_type": "text"
      },
      "source": [
        "<a href=\"https://colab.research.google.com/github/barcellfe/datascience_study/blob/master/Captura_IPCA.ipynb\" target=\"_parent\"><img src=\"https://colab.research.google.com/assets/colab-badge.svg\" alt=\"Open In Colab\"/></a>"
      ]
    },
    {
      "cell_type": "markdown",
      "metadata": {
        "id": "Q4CnVwzk8ViJ",
        "colab_type": "text"
      },
      "source": [
        "# IPCA15 - Aula de 26 de Agosto de 2020"
      ]
    },
    {
      "cell_type": "code",
      "metadata": {
        "id": "c_Hdor1l-Cvs",
        "colab_type": "code",
        "colab": {}
      },
      "source": [
        "# install chromium, its driver, and selenium\n",
        "!apt update\n",
        "!apt install chromium-chromedriver\n",
        "!pip install selenium\n",
        "# set options to be headless, ..\n",
        "from bs4 import BeautifulSoup\n",
        "from selenium import webdriver\n",
        "import time\n",
        "options = webdriver.ChromeOptions()\n",
        "options.add_argument('--headless')\n",
        "options.add_argument('--no-sandbox')\n",
        "options.add_argument('--disable-dev-shm-usage')\n",
        "# open it, go to a website, and get results\n",
        "wd = webdriver.Chrome('chromedriver',options=options)\n",
        "wd.get(\"https://www.website.com\")\n",
        "print(wd.page_source)  # results"
      ],
      "execution_count": null,
      "outputs": []
    },
    {
      "cell_type": "code",
      "metadata": {
        "id": "OfkEnp9u-mkC",
        "colab_type": "code",
        "colab": {}
      },
      "source": [
        "nav = webdriver.Chrome('chromedriver',options=options)\n",
        "strUrl = \"https://sidra.ibge.gov.br/home/ipca15/brasil\"\n",
        "nav.get(strUrl)\n",
        "pagina = BeautifulSoup(nav.page_source, 'html.parser')\n",
        "tabela = pagina.find('div' , attrs={'id': 'ipca15-q1' })"
      ],
      "execution_count": 2,
      "outputs": []
    },
    {
      "cell_type": "code",
      "metadata": {
        "id": "0HJjOTX0_HL0",
        "colab_type": "code",
        "colab": {}
      },
      "source": [
        "def tableDataText(table):       \n",
        "    rows = []\n",
        "    trs = table.find_all('tr')\n",
        "    headerow = [td.get_text(strip=True) for td in trs[2].find_all('th')] # header row\n",
        "    if headerow: # if there is a header row include first\n",
        "        rows.append(headerow)\n",
        "        trs = trs[2:]\n",
        "    for tr in trs: # for every table row\n",
        "        rows.append([td.get_text(strip=True) for td in tr.find_all(['th','td'])]) # data row\n",
        "    return rows"
      ],
      "execution_count": null,
      "outputs": []
    },
    {
      "cell_type": "code",
      "metadata": {
        "id": "c7gojhgX_OUb",
        "colab_type": "code",
        "colab": {}
      },
      "source": [
        "list_table = tableDataText(tabela)"
      ],
      "execution_count": null,
      "outputs": []
    },
    {
      "cell_type": "code",
      "metadata": {
        "id": "6xIiclfZ_QlU",
        "colab_type": "code",
        "colab": {
          "base_uri": "https://localhost:8080/",
          "height": 347
        },
        "outputId": "5d6dd9b4-2b52-4272-97ee-26610a9c9ac4"
      },
      "source": [
        "import pandas as pd\n",
        "dftable = pd.DataFrame(list_table)\n",
        "headers = dftable.iloc[0]\n",
        "#dftable = dftable.rename(columns=dftable.iloc[0])\n",
        "dftable  = pd.DataFrame(dftable.values[2:12], columns=headers)\n",
        "dftable"
      ],
      "execution_count": null,
      "outputs": [
        {
          "output_type": "execute_result",
          "data": {
            "text/html": [
              "<div>\n",
              "<style scoped>\n",
              "    .dataframe tbody tr th:only-of-type {\n",
              "        vertical-align: middle;\n",
              "    }\n",
              "\n",
              "    .dataframe tbody tr th {\n",
              "        vertical-align: top;\n",
              "    }\n",
              "\n",
              "    .dataframe thead th {\n",
              "        text-align: right;\n",
              "    }\n",
              "</style>\n",
              "<table border=\"1\" class=\"dataframe\">\n",
              "  <thead>\n",
              "    <tr style=\"text-align: right;\">\n",
              "      <th></th>\n",
              "      <th>Índice geral e grupos de produtos e serviços</th>\n",
              "      <th>Variação mensal (%)</th>\n",
              "      <th>Variação acumulada no ano (%)</th>\n",
              "      <th>Peso mensal (%)</th>\n",
              "    </tr>\n",
              "  </thead>\n",
              "  <tbody>\n",
              "    <tr>\n",
              "      <th>0</th>\n",
              "      <td>Índice geral</td>\n",
              "      <td>0,23</td>\n",
              "      <td>0,90</td>\n",
              "      <td>100,0000</td>\n",
              "    </tr>\n",
              "    <tr>\n",
              "      <th>1</th>\n",
              "      <td>Alimentação e bebidas</td>\n",
              "      <td>0,34</td>\n",
              "      <td>5,78</td>\n",
              "      <td>20,0478</td>\n",
              "    </tr>\n",
              "    <tr>\n",
              "      <th>2</th>\n",
              "      <td>Habitação</td>\n",
              "      <td>0,57</td>\n",
              "      <td>0,49</td>\n",
              "      <td>15,6260</td>\n",
              "    </tr>\n",
              "    <tr>\n",
              "      <th>3</th>\n",
              "      <td>Artigos de residência</td>\n",
              "      <td>0,88</td>\n",
              "      <td>0,23</td>\n",
              "      <td>3,7065</td>\n",
              "    </tr>\n",
              "    <tr>\n",
              "      <th>4</th>\n",
              "      <td>Vestuário</td>\n",
              "      <td>-0,63</td>\n",
              "      <td>-2,80</td>\n",
              "      <td>4,4430</td>\n",
              "    </tr>\n",
              "    <tr>\n",
              "      <th>5</th>\n",
              "      <td>Transportes</td>\n",
              "      <td>0,75</td>\n",
              "      <td>-3,17</td>\n",
              "      <td>19,6069</td>\n",
              "    </tr>\n",
              "    <tr>\n",
              "      <th>6</th>\n",
              "      <td>Saúde e cuidados pessoais</td>\n",
              "      <td>0,62</td>\n",
              "      <td>1,47</td>\n",
              "      <td>13,5509</td>\n",
              "    </tr>\n",
              "    <tr>\n",
              "      <th>7</th>\n",
              "      <td>Despesas pessoais</td>\n",
              "      <td>0,03</td>\n",
              "      <td>0,19</td>\n",
              "      <td>10,7817</td>\n",
              "    </tr>\n",
              "    <tr>\n",
              "      <th>8</th>\n",
              "      <td>Educação</td>\n",
              "      <td>-3,27</td>\n",
              "      <td>1,02</td>\n",
              "      <td>6,4693</td>\n",
              "    </tr>\n",
              "    <tr>\n",
              "      <th>9</th>\n",
              "      <td>Comunicação</td>\n",
              "      <td>0,86</td>\n",
              "      <td>2,29</td>\n",
              "      <td>5,7679</td>\n",
              "    </tr>\n",
              "  </tbody>\n",
              "</table>\n",
              "</div>"
            ],
            "text/plain": [
              "0 Índice geral e grupos de produtos e serviços  ... Peso mensal (%)\n",
              "0                                 Índice geral  ...        100,0000\n",
              "1                        Alimentação e bebidas  ...         20,0478\n",
              "2                                    Habitação  ...         15,6260\n",
              "3                        Artigos de residência  ...          3,7065\n",
              "4                                    Vestuário  ...          4,4430\n",
              "5                                  Transportes  ...         19,6069\n",
              "6                    Saúde e cuidados pessoais  ...         13,5509\n",
              "7                            Despesas pessoais  ...         10,7817\n",
              "8                                     Educação  ...          6,4693\n",
              "9                                  Comunicação  ...          5,7679\n",
              "\n",
              "[10 rows x 4 columns]"
            ]
          },
          "metadata": {
            "tags": []
          },
          "execution_count": 5
        }
      ]
    },
    {
      "cell_type": "markdown",
      "metadata": {
        "id": "V6pFHlOI-R06",
        "colab_type": "text"
      },
      "source": [
        "https://sidra.ibge.gov.br/home/ipca15"
      ]
    },
    {
      "cell_type": "markdown",
      "metadata": {
        "id": "rj4Mbub4CP_X",
        "colab_type": "text"
      },
      "source": [
        ""
      ]
    },
    {
      "cell_type": "markdown",
      "metadata": {
        "id": "2sUS60XYfRfW",
        "colab_type": "text"
      },
      "source": [
        "# 2a Tentativa"
      ]
    },
    {
      "cell_type": "code",
      "metadata": {
        "id": "uIXRSaSPeG4_",
        "colab_type": "code",
        "colab": {}
      },
      "source": [
        "# install chromium, its driver, and selenium\n",
        "!apt update\n",
        "!apt install chromium-chromedriver\n",
        "!pip install selenium\n",
        "# set options to be headless, ..\n",
        "from bs4 import BeautifulSoup\n",
        "from selenium import webdriver\n",
        "import time\n",
        "options = webdriver.ChromeOptions()\n",
        "options.add_argument('--headless')\n",
        "options.add_argument('--no-sandbox')\n",
        "options.add_argument('--disable-dev-shm-usage')\n",
        "# open it, go to a website, and get results\n",
        "wd = webdriver.Chrome('chromedriver',options=options)\n",
        "wd.get(\"https://www.website.com\")\n",
        "print(wd.page_source)  # results"
      ],
      "execution_count": null,
      "outputs": []
    },
    {
      "cell_type": "code",
      "metadata": {
        "id": "1x7UyvH9ettm",
        "colab_type": "code",
        "colab": {}
      },
      "source": [
        "nav = webdriver.Chrome('chromedriver',options=options)\n",
        "strUrl = \"https://sidra.ibge.gov.br/home/ipca/brasil\"\n",
        "nav.get(strUrl)\n",
        "pagina = BeautifulSoup(nav.page_source, 'html.parser')\n",
        "tabela = pagina.find('div' , attrs={'id': 'ipca-q1' })"
      ],
      "execution_count": null,
      "outputs": []
    },
    {
      "cell_type": "code",
      "metadata": {
        "id": "XzEcc9r-e1z1",
        "colab_type": "code",
        "colab": {}
      },
      "source": [
        "def tableDataText(table):       \n",
        "    rows = []\n",
        "    trs = table.find_all('tr')\n",
        "    headerow = [td.get_text(strip=True) for td in trs[2].find_all('th')] # header row\n",
        "    if headerow: # if there is a header row include first\n",
        "        rows.append(headerow)\n",
        "        trs = trs[2:]\n",
        "    for tr in trs: # for every table row\n",
        "        rows.append([td.get_text(strip=True) for td in tr.find_all(['th','td'])]) # data row\n",
        "    return rows"
      ],
      "execution_count": null,
      "outputs": []
    },
    {
      "cell_type": "code",
      "metadata": {
        "id": "1BUdAgYle7Hn",
        "colab_type": "code",
        "colab": {}
      },
      "source": [
        "list_table = tableDataText(tabela)"
      ],
      "execution_count": null,
      "outputs": []
    },
    {
      "cell_type": "code",
      "metadata": {
        "id": "12qk_1rWfAym",
        "colab_type": "code",
        "colab": {
          "base_uri": "https://localhost:8080/",
          "height": 347
        },
        "outputId": "f72f9449-f598-4e4d-b335-dacb3237424b"
      },
      "source": [
        "import pandas as pd\n",
        "dftable = pd.DataFrame(list_table)\n",
        "headers = dftable.iloc[0]\n",
        "#dftable = dftable.rename(columns=dftable.iloc[0])\n",
        "dftable  = pd.DataFrame(dftable.values[2:12], columns=headers)\n",
        "dftable"
      ],
      "execution_count": null,
      "outputs": [
        {
          "output_type": "execute_result",
          "data": {
            "text/html": [
              "<div>\n",
              "<style scoped>\n",
              "    .dataframe tbody tr th:only-of-type {\n",
              "        vertical-align: middle;\n",
              "    }\n",
              "\n",
              "    .dataframe tbody tr th {\n",
              "        vertical-align: top;\n",
              "    }\n",
              "\n",
              "    .dataframe thead th {\n",
              "        text-align: right;\n",
              "    }\n",
              "</style>\n",
              "<table border=\"1\" class=\"dataframe\">\n",
              "  <thead>\n",
              "    <tr style=\"text-align: right;\">\n",
              "      <th></th>\n",
              "      <th>Índice geral e grupos de produtos e serviços</th>\n",
              "      <th>Variação mensal (%)</th>\n",
              "      <th>Variação acumulada no ano (%)</th>\n",
              "      <th>Peso mensal (%)</th>\n",
              "    </tr>\n",
              "  </thead>\n",
              "  <tbody>\n",
              "    <tr>\n",
              "      <th>0</th>\n",
              "      <td>Índice geral</td>\n",
              "      <td>0,36</td>\n",
              "      <td>0,46</td>\n",
              "      <td>100,0000</td>\n",
              "    </tr>\n",
              "    <tr>\n",
              "      <th>1</th>\n",
              "      <td>Alimentação e bebidas</td>\n",
              "      <td>0,01</td>\n",
              "      <td>4,10</td>\n",
              "      <td>20,1194</td>\n",
              "    </tr>\n",
              "    <tr>\n",
              "      <th>2</th>\n",
              "      <td>Habitação</td>\n",
              "      <td>0,80</td>\n",
              "      <td>0,76</td>\n",
              "      <td>15,5709</td>\n",
              "    </tr>\n",
              "    <tr>\n",
              "      <th>3</th>\n",
              "      <td>Artigos de residência</td>\n",
              "      <td>0,90</td>\n",
              "      <td>0,16</td>\n",
              "      <td>3,7222</td>\n",
              "    </tr>\n",
              "    <tr>\n",
              "      <th>4</th>\n",
              "      <td>Vestuário</td>\n",
              "      <td>-0,52</td>\n",
              "      <td>-2,44</td>\n",
              "      <td>4,4849</td>\n",
              "    </tr>\n",
              "    <tr>\n",
              "      <th>5</th>\n",
              "      <td>Transportes</td>\n",
              "      <td>0,78</td>\n",
              "      <td>-4,25</td>\n",
              "      <td>19,5577</td>\n",
              "    </tr>\n",
              "    <tr>\n",
              "      <th>6</th>\n",
              "      <td>Saúde e cuidados pessoais</td>\n",
              "      <td>0,44</td>\n",
              "      <td>1,09</td>\n",
              "      <td>13,6048</td>\n",
              "    </tr>\n",
              "    <tr>\n",
              "      <th>7</th>\n",
              "      <td>Despesas pessoais</td>\n",
              "      <td>-0,11</td>\n",
              "      <td>0,10</td>\n",
              "      <td>10,7453</td>\n",
              "    </tr>\n",
              "    <tr>\n",
              "      <th>8</th>\n",
              "      <td>Educação</td>\n",
              "      <td>-0,12</td>\n",
              "      <td>4,42</td>\n",
              "      <td>6,4198</td>\n",
              "    </tr>\n",
              "    <tr>\n",
              "      <th>9</th>\n",
              "      <td>Comunicação</td>\n",
              "      <td>0,51</td>\n",
              "      <td>1,67</td>\n",
              "      <td>5,7748</td>\n",
              "    </tr>\n",
              "  </tbody>\n",
              "</table>\n",
              "</div>"
            ],
            "text/plain": [
              "0 Índice geral e grupos de produtos e serviços  ... Peso mensal (%)\n",
              "0                                 Índice geral  ...        100,0000\n",
              "1                        Alimentação e bebidas  ...         20,1194\n",
              "2                                    Habitação  ...         15,5709\n",
              "3                        Artigos de residência  ...          3,7222\n",
              "4                                    Vestuário  ...          4,4849\n",
              "5                                  Transportes  ...         19,5577\n",
              "6                    Saúde e cuidados pessoais  ...         13,6048\n",
              "7                            Despesas pessoais  ...         10,7453\n",
              "8                                     Educação  ...          6,4198\n",
              "9                                  Comunicação  ...          5,7748\n",
              "\n",
              "[10 rows x 4 columns]"
            ]
          },
          "metadata": {
            "tags": []
          },
          "execution_count": 6
        }
      ]
    },
    {
      "cell_type": "markdown",
      "metadata": {
        "id": "EG1cRLELfDi5",
        "colab_type": "text"
      },
      "source": [
        "**Fim da 2a Tentativa**"
      ]
    },
    {
      "cell_type": "markdown",
      "metadata": {
        "id": "iPeIRh_1d6T4",
        "colab_type": "text"
      },
      "source": [
        "# 1a Tentativa"
      ]
    },
    {
      "cell_type": "code",
      "metadata": {
        "id": "GMM4ZcZBMVNv",
        "colab_type": "code",
        "colab": {}
      },
      "source": [
        "# install chromium, its driver, and selenium\n",
        "!apt update\n",
        "!apt install chromium-chromedriver\n",
        "!pip install selenium\n",
        "# set options to be headless, ..\n",
        "from bs4 import BeautifulSoup\n",
        "from selenium import webdriver\n",
        "import time\n",
        "options = webdriver.ChromeOptions()\n",
        "options.add_argument('--headless')\n",
        "options.add_argument('--no-sandbox')\n",
        "options.add_argument('--disable-dev-shm-usage')\n",
        "# open it, go to a website, and get results\n",
        "wd = webdriver.Chrome('chromedriver',options=options)\n",
        "wd.get(\"https://www.website.com\")\n",
        "print(wd.page_source)  # results"
      ],
      "execution_count": null,
      "outputs": []
    },
    {
      "cell_type": "code",
      "metadata": {
        "id": "R4BpWiu7NsbB",
        "colab_type": "code",
        "colab": {}
      },
      "source": [
        "class Captura:\n",
        "    '''\n",
        "    PASSO 1: Abrir o navegador\n",
        "    O objeto webdriver é o responsável pela manipulação do navegador\n",
        "    '''\n",
        "    nav = webdriver.Chrome('chromedriver',options=options)\n",
        "\n",
        "    '''\n",
        "    um método auxiliar apenas aguardar 'x' segundos e ir nos dando no terminal o status da operação\n",
        "    '''\n",
        "    def aguarde(self, tempo, texto):\n",
        "        print(\"[i] \" + texto + \"...Aguardando...\")\n",
        "        time.sleep(tempo)\n",
        "        self.nav.maximize_window()\n",
        "\n",
        "    '''\n",
        "    o método principal da nossa classe de captura\n",
        "    '''\n",
        "    def inicio(self):\n",
        "        '''\n",
        "        PASSO 2: Abrir o site alvo\n",
        "        Aqui setamos o endereço e mandamos o navegador para o site\n",
        "        '''\n",
        "        print(\"------------------------------------------------------\")\n",
        "        self.aguarde(2, \"Navegando até a página...\")\n",
        "        strUrl = \"https://sidra.ibge.gov.br/home/ipca/brasil\"\n",
        "        self.nav.get(strUrl)\n",
        "\n",
        "\n",
        "        '''\n",
        "        PASSO 3: Localizar na página a tabela\n",
        "        Aqui usaremos o beautifulSoup para analisar o código fonte da página\n",
        "        '''\n",
        "        # pagina: variavel que guarda todo o código html da página alvo\n",
        "        print(\"------------------------------------------------------\")\n",
        "        self.aguarde(2, \"Capturando o código da página...\")\n",
        "        pagina = BeautifulSoup(self.nav.page_source, 'html.parser')\n",
        "\n",
        "        # vamos então localizar nosso div alvo e gravar tudo que está dentro dessa tag numa variavel\n",
        "        tabela = pagina.find('div' , attrs={'id': 'ipca-q1' })\n",
        "\n",
        "\n",
        "        # Aqui instaciamos um objeto do tipo parser\n",
        "        parser = parserTabelaIPCA()\n",
        "        saida = parser.analisaTabela(tabela)\n",
        "        print(\"------------------------------------------------------\")\n",
        "        self.aguarde(2, \"Tratando os dados...\")\n",
        "        print(\"------------------------------------------------------\")\n",
        "        print( saida )\n",
        "        print(\"------------------------------------------------------\")\n",
        "\n",
        "\n",
        "        # fechando o navegador\n",
        "        self.nav.close()\n",
        "        self.nav.quit()\n",
        "\n",
        "\n",
        "class parserTabelaIPCA:\n",
        "    '''\n",
        "    Este é o 'coração' do sistema, onde nós analisamos a tabela alvo e\n",
        "    pegamos o que nos interessa: os dados dentro de cada <td>\n",
        "    '''\n",
        "    def analisaTabela(self, tabela):\n",
        "        nColunas = 0\n",
        "        nLinhas = 0\n",
        "        column_names = []\n",
        "\n",
        "\n",
        "        #contar o numero de linhas e colunas\n",
        "        for row in tabela.find_all(\"tr\"):\n",
        "            td_tags = row.find_all(\"td\")\n",
        "            if len(td_tags) > 0:\n",
        "                nLinhas+=1\n",
        "                if nColunas == 0:\n",
        "                    nColunas = len(td_tags)\n",
        "\n",
        "            #captura o titulo das colunas - se tiver thead/th\n",
        "            th_tags = row.find_all(\"th\", attrs={\"tabela-titulo\"})\n",
        "            if len(th_tags) > 0 and len(column_names) == 0:\n",
        "                for th in th_tags:\n",
        "                    column_names.append(th.get_text())\n",
        "\n",
        "        # contar numero de nomes na lista e comparar com o n. de colunas\n",
        "        if len(column_names) > 0 and len(column_names) != nColunas:\n",
        "            raise Exception(\"[e] Quantidade de colunas difere da quantidade de titulos de colunas capturados!\")\n",
        "\n",
        "        #separando para o dataFrame os titulos das colunas\n",
        "        columns = column_names if len(column_names) > 0 else range(0,nColunas)\n",
        "\n",
        "        #criando um arquivo CSV para saida do processamento\n",
        "        fname = 'C:\\\\TEMP\\\\base.csv'\n",
        "        txt_column = \"\"\n",
        "\n",
        "        #gravar titulos das colunas no arquivo texto\n",
        "        txt_column = (\";\").join(column_names)\n",
        "        with open(fname, \"a\", encoding=\"utf-8\") as f:\n",
        "            f.write(txt_column+\"\\n\")\n",
        "\n",
        "        #criando o dataframe com o pandas para armazenar os dados\n",
        "        df = pd.DataFrame(columns = columns, index= range(0,nLinhas))\n",
        "        row_marker = 0\n",
        "\n",
        "        #percorre as celulas para extrair o texto e gravar no arquivo\n",
        "        for row in tabela.find_all('tr'):\n",
        "            column_marker = 0\n",
        "            columns = row.find_all('td')\n",
        "            txt_cell = \"\"\n",
        "            for column in columns:\n",
        "                df.iat[row_marker,column_marker] = column.get_text()\n",
        "                column_marker += 1\n",
        "                txt_cell = txt_cell + column.get_text() + \"; \"\n",
        "            if len(columns) > 0:\n",
        "                row_marker += 1\n",
        "            if(txt_cell != \"\"):\n",
        "                #salvando a saida no arquivo criado\n",
        "                with open(fname, \"a\", encoding=\"utf-8\") as f:\n",
        "                    f.write(str(txt_cell) +\"\\n\")\n",
        "\n",
        "        return df\n",
        "\n",
        "\n",
        "# Nosso programa para rodar esse código é bastante simples\n",
        "print(\"------------------------------- -> Spider IPCA v.1 <-\")\n",
        "tela = Captura()\n",
        "tela.inicio()\n",
        "print(\"[i] Finalizado!\")\n",
        "print(\"------------------------------------------------------\")"
      ],
      "execution_count": null,
      "outputs": []
    },
    {
      "cell_type": "code",
      "metadata": {
        "id": "9oe0aNO_PEt-",
        "colab_type": "code",
        "colab": {}
      },
      "source": [
        "nav = webdriver.Chrome('chromedriver',options=options)\n",
        "strUrl = \"https://sidra.ibge.gov.br/home/ipca/brasil\"\n",
        "nav.get(strUrl)\n",
        "pagina = BeautifulSoup(nav.page_source, 'html.parser')\n",
        "tabela = pagina.find('div' , attrs={'id': 'ipca-q1' })\n",
        "parser = parserTabelaIPCA()"
      ],
      "execution_count": null,
      "outputs": []
    },
    {
      "cell_type": "code",
      "metadata": {
        "id": "ZIehmKTsSg1o",
        "colab_type": "code",
        "colab": {}
      },
      "source": [
        "nColunas = 0\n",
        "nLinhas = 0\n",
        "column_names = []"
      ],
      "execution_count": null,
      "outputs": []
    },
    {
      "cell_type": "code",
      "metadata": {
        "id": "pTCfouobPPFt",
        "colab_type": "code",
        "colab": {}
      },
      "source": [
        "for row in tabela.find_all(\"tr\"):\n",
        "            td_tags = row.find_all(\"td\")\n",
        "            if len(td_tags) > 0:\n",
        "                nLinhas+=1\n",
        "                if nColunas == 0:\n",
        "                    nColunas = len(td_tags)"
      ],
      "execution_count": null,
      "outputs": []
    },
    {
      "cell_type": "code",
      "metadata": {
        "id": "NK6evcjMS-m6",
        "colab_type": "code",
        "colab": {}
      },
      "source": [
        "nColunas"
      ],
      "execution_count": null,
      "outputs": []
    }
  ]
}