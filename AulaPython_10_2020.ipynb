{
  "nbformat": 4,
  "nbformat_minor": 0,
  "metadata": {
    "colab": {
      "name": "AulaPython_10-2020.ipynb",
      "provenance": [],
      "collapsed_sections": [],
      "authorship_tag": "ABX9TyOha2uDk3yJS0z4Pmd8dhYN",
      "include_colab_link": true
    },
    "kernelspec": {
      "name": "python3",
      "display_name": "Python 3"
    }
  },
  "cells": [
    {
      "cell_type": "markdown",
      "metadata": {
        "id": "view-in-github",
        "colab_type": "text"
      },
      "source": [
        "<a href=\"https://colab.research.google.com/github/barcellfe/datascience_study/blob/master/AulaPython_10_2020.ipynb\" target=\"_parent\"><img src=\"https://colab.research.google.com/assets/colab-badge.svg\" alt=\"Open In Colab\"/></a>"
      ]
    },
    {
      "cell_type": "markdown",
      "metadata": {
        "id": "e_4dL76HTOOR"
      },
      "source": [
        "# Aula 26-10-2020 Jhean"
      ]
    },
    {
      "cell_type": "markdown",
      "metadata": {
        "id": "2cE6OQCQL1um"
      },
      "source": [
        "1.   Vamos relembrar aqui, primeiramente, como trabalhamos com objetos do tipo Lista\n",
        "2.   listas são declaradas com dois colchetes []"
      ]
    },
    {
      "cell_type": "code",
      "metadata": {
        "id": "2KZDKiCpLw3m",
        "outputId": "c3b254ac-c805-4c65-b153-b61fba382cd1",
        "colab": {
          "base_uri": "https://localhost:8080/",
          "height": 34
        }
      },
      "source": [
        "lista = []\n",
        "print(lista)"
      ],
      "execution_count": 1,
      "outputs": [
        {
          "output_type": "stream",
          "text": [
            "[]\n"
          ],
          "name": "stdout"
        }
      ]
    },
    {
      "cell_type": "code",
      "metadata": {
        "id": "9erXTuypL5GS",
        "outputId": "ac6a5e79-288d-4f62-eb90-935d3f869144",
        "colab": {
          "base_uri": "https://localhost:8080/",
          "height": 34
        }
      },
      "source": [
        "type(lista)"
      ],
      "execution_count": 2,
      "outputs": [
        {
          "output_type": "execute_result",
          "data": {
            "text/plain": [
              "list"
            ]
          },
          "metadata": {
            "tags": []
          },
          "execution_count": 2
        }
      ]
    },
    {
      "cell_type": "code",
      "metadata": {
        "id": "PzRm7PT5NG90"
      },
      "source": [
        "import math as mt\n",
        "import statistics as st"
      ],
      "execution_count": 3,
      "outputs": []
    },
    {
      "cell_type": "markdown",
      "metadata": {
        "id": "z7CsOxstNfrz"
      },
      "source": [
        "3. Todo objeto declarado dentro de uma lista é separado por virgula"
      ]
    },
    {
      "cell_type": "code",
      "metadata": {
        "id": "u2rAkf0kNXAJ",
        "outputId": "c4f18869-6c08-498b-b0cc-735c29615264",
        "colab": {
          "base_uri": "https://localhost:8080/",
          "height": 34
        }
      },
      "source": [
        "lista = [10, 20, 30, 40, 50, 60]\n",
        "print(lista)"
      ],
      "execution_count": 4,
      "outputs": [
        {
          "output_type": "stream",
          "text": [
            "[10, 20, 30, 40, 50, 60]\n"
          ],
          "name": "stdout"
        }
      ]
    },
    {
      "cell_type": "markdown",
      "metadata": {
        "id": "eXoxndcRNhAw"
      },
      "source": [
        "4. As listas podem ser acessadas por meio do index. Na linguagem Python todo indice começa com 0."
      ]
    },
    {
      "cell_type": "code",
      "metadata": {
        "id": "fykL2bFUOHTG",
        "outputId": "85cc1566-203c-48ed-bd6a-3885a7d41599",
        "colab": {
          "base_uri": "https://localhost:8080/",
          "height": 34
        }
      },
      "source": [
        "lista[5]"
      ],
      "execution_count": 5,
      "outputs": [
        {
          "output_type": "execute_result",
          "data": {
            "text/plain": [
              "60"
            ]
          },
          "metadata": {
            "tags": []
          },
          "execution_count": 5
        }
      ]
    },
    {
      "cell_type": "markdown",
      "metadata": {
        "id": "R7r79Q60ObMx"
      },
      "source": [
        "5. Um índice negativo pega a última posição da lista, ou seja, se eu usar um valor de -1 para a lista anterior, é o mesmo que acessar a posição 5 (que é a última posição da lista)"
      ]
    },
    {
      "cell_type": "code",
      "metadata": {
        "id": "vVxnsNlXOP4Z",
        "outputId": "10c89258-eab8-44a2-ad3c-7aa3a091f9cb",
        "colab": {
          "base_uri": "https://localhost:8080/",
          "height": 34
        }
      },
      "source": [
        "lista[-1]"
      ],
      "execution_count": 6,
      "outputs": [
        {
          "output_type": "execute_result",
          "data": {
            "text/plain": [
              "60"
            ]
          },
          "metadata": {
            "tags": []
          },
          "execution_count": 6
        }
      ]
    },
    {
      "cell_type": "markdown",
      "metadata": {
        "id": "zCQSQjJjOsQ7"
      },
      "source": [
        "6. Listas são objetos mutáveis em Python, ou seja, listas podem ser modificadas quando acessadas em sua estrutura interna. Objetos como tuplas, não são mutáveis. Lembrando que quando usamos o sinal de igual, estamos atribuindo valor a algum objeto."
      ]
    },
    {
      "cell_type": "code",
      "metadata": {
        "id": "2q3IhG-tOTO_",
        "outputId": "6649bd8a-77e2-43ba-c11a-9426ffca4f4c",
        "colab": {
          "base_uri": "https://localhost:8080/",
          "height": 34
        }
      },
      "source": [
        "lista[0] = 0\n",
        "print(lista)"
      ],
      "execution_count": 7,
      "outputs": [
        {
          "output_type": "stream",
          "text": [
            "[0, 20, 30, 40, 50, 60]\n"
          ],
          "name": "stdout"
        }
      ]
    },
    {
      "cell_type": "markdown",
      "metadata": {
        "id": "aIZ00OpKPIOV"
      },
      "source": [
        "7. Listas como objeto de Python possuem algumas propriedades especiais. São acessadas quando se coloca um ponto depois do objeto declarado. Veremos abaixo algumas.\n",
        "\n",
        "8. append: acrescenta um valor novo a lista\n",
        "\n",
        "9. pop: remove o último objeto da lista\n",
        "\n",
        "10. count: conta o numero de determinado elemento da lista\n",
        "\n",
        "11. remove: remove determinado elemento da lista\n",
        "\n",
        "12. copy: copia a lista para outra lista\n",
        "\n",
        "13. reverse: inverte a ordem da lista\n",
        "\n",
        "14. sort: ordena a lista em ordem crescente"
      ]
    },
    {
      "cell_type": "code",
      "metadata": {
        "id": "JPOPz81OPfFo"
      },
      "source": [
        "lista.append(70)"
      ],
      "execution_count": 8,
      "outputs": []
    },
    {
      "cell_type": "code",
      "metadata": {
        "id": "b8Mfcgw4PqP9",
        "outputId": "6fd3f7d0-7ee1-4473-e8da-c10c290ce27a",
        "colab": {
          "base_uri": "https://localhost:8080/",
          "height": 34
        }
      },
      "source": [
        "lista[0] = 10\n",
        "print(lista)"
      ],
      "execution_count": 9,
      "outputs": [
        {
          "output_type": "stream",
          "text": [
            "[10, 20, 30, 40, 50, 60, 70]\n"
          ],
          "name": "stdout"
        }
      ]
    },
    {
      "cell_type": "code",
      "metadata": {
        "id": "xtpXzoZRPsiR",
        "outputId": "63b5efbc-c909-4fd7-86c6-db6fa6e52692",
        "colab": {
          "base_uri": "https://localhost:8080/",
          "height": 34
        }
      },
      "source": [
        "lista.append(80)\n",
        "print(lista)"
      ],
      "execution_count": 10,
      "outputs": [
        {
          "output_type": "stream",
          "text": [
            "[10, 20, 30, 40, 50, 60, 70, 80]\n"
          ],
          "name": "stdout"
        }
      ]
    },
    {
      "cell_type": "code",
      "metadata": {
        "id": "FXrSziD6QA0H",
        "outputId": "bb3dcd57-f55d-47a3-c90a-c916636b84d6",
        "colab": {
          "base_uri": "https://localhost:8080/",
          "height": 34
        }
      },
      "source": [
        "lista.pop()"
      ],
      "execution_count": 11,
      "outputs": [
        {
          "output_type": "execute_result",
          "data": {
            "text/plain": [
              "80"
            ]
          },
          "metadata": {
            "tags": []
          },
          "execution_count": 11
        }
      ]
    },
    {
      "cell_type": "code",
      "metadata": {
        "id": "FLYlze-TQKa3",
        "outputId": "a8afcd35-1f66-4c7e-9234-09be8b779d94",
        "colab": {
          "base_uri": "https://localhost:8080/",
          "height": 34
        }
      },
      "source": [
        "print(lista)"
      ],
      "execution_count": 12,
      "outputs": [
        {
          "output_type": "stream",
          "text": [
            "[10, 20, 30, 40, 50, 60, 70]\n"
          ],
          "name": "stdout"
        }
      ]
    },
    {
      "cell_type": "code",
      "metadata": {
        "id": "naM4AS_fQt4A",
        "outputId": "6698e70c-0de6-47bf-f7a6-0ee0717aee7d",
        "colab": {
          "base_uri": "https://localhost:8080/",
          "height": 34
        }
      },
      "source": [
        "lista.append(30)\n",
        "lista.count(30)"
      ],
      "execution_count": 13,
      "outputs": [
        {
          "output_type": "execute_result",
          "data": {
            "text/plain": [
              "2"
            ]
          },
          "metadata": {
            "tags": []
          },
          "execution_count": 13
        }
      ]
    },
    {
      "cell_type": "code",
      "metadata": {
        "id": "k9BFj7uYQ59B",
        "outputId": "efb79934-4917-41d1-8f33-66f27011d410",
        "colab": {
          "base_uri": "https://localhost:8080/",
          "height": 34
        }
      },
      "source": [
        "lista.remove(30)\n",
        "print(lista)"
      ],
      "execution_count": 14,
      "outputs": [
        {
          "output_type": "stream",
          "text": [
            "[10, 20, 40, 50, 60, 70, 30]\n"
          ],
          "name": "stdout"
        }
      ]
    },
    {
      "cell_type": "code",
      "metadata": {
        "id": "iJAVhcRTRSFB",
        "outputId": "661ec78b-7cca-4541-ce37-acdac954963d",
        "colab": {
          "base_uri": "https://localhost:8080/",
          "height": 34
        }
      },
      "source": [
        "lista2 = lista.copy()\n",
        "print(lista2)"
      ],
      "execution_count": 15,
      "outputs": [
        {
          "output_type": "stream",
          "text": [
            "[10, 20, 40, 50, 60, 70, 30]\n"
          ],
          "name": "stdout"
        }
      ]
    },
    {
      "cell_type": "code",
      "metadata": {
        "id": "kEz1r0aWRdvQ"
      },
      "source": [
        "lista2.reverse()"
      ],
      "execution_count": 16,
      "outputs": []
    },
    {
      "cell_type": "code",
      "metadata": {
        "id": "2PxB7DJ7Ryff",
        "outputId": "4886acd6-e979-4447-b92c-a9a3f2253dbf",
        "colab": {
          "base_uri": "https://localhost:8080/",
          "height": 34
        }
      },
      "source": [
        "print(lista2)"
      ],
      "execution_count": 17,
      "outputs": [
        {
          "output_type": "stream",
          "text": [
            "[30, 70, 60, 50, 40, 20, 10]\n"
          ],
          "name": "stdout"
        }
      ]
    },
    {
      "cell_type": "code",
      "metadata": {
        "id": "J1dDBsj8R54f"
      },
      "source": [
        "lista2.sort()"
      ],
      "execution_count": 18,
      "outputs": []
    },
    {
      "cell_type": "code",
      "metadata": {
        "id": "YMlNVtH8R_6p",
        "outputId": "c2f225df-21d2-4d66-9d1a-cc4837c4b30b",
        "colab": {
          "base_uri": "https://localhost:8080/",
          "height": 34
        }
      },
      "source": [
        "print(lista2)"
      ],
      "execution_count": 19,
      "outputs": [
        {
          "output_type": "stream",
          "text": [
            "[10, 20, 30, 40, 50, 60, 70]\n"
          ],
          "name": "stdout"
        }
      ]
    },
    {
      "cell_type": "markdown",
      "metadata": {
        "id": "i9GINq-UUREU"
      },
      "source": [
        "15. Listas podem ser guardadas dentro de listas. O nome disso é processo nestado"
      ]
    },
    {
      "cell_type": "code",
      "metadata": {
        "id": "oz31irpfSD0r",
        "outputId": "eae57b68-7703-4a53-fb58-9b054a4fff47",
        "colab": {
          "base_uri": "https://localhost:8080/",
          "height": 34
        }
      },
      "source": [
        "lista3 =[[10, 20, 30], 40, 50, 60, 70]\n",
        "lista3"
      ],
      "execution_count": 20,
      "outputs": [
        {
          "output_type": "execute_result",
          "data": {
            "text/plain": [
              "[[10, 20, 30], 40, 50, 60, 70]"
            ]
          },
          "metadata": {
            "tags": []
          },
          "execution_count": 20
        }
      ]
    },
    {
      "cell_type": "code",
      "metadata": {
        "id": "4TLuWEu0Unjn",
        "outputId": "933688c8-8d1b-4b45-9363-73863ae6d173",
        "colab": {
          "base_uri": "https://localhost:8080/",
          "height": 34
        }
      },
      "source": [
        "lista3[0]"
      ],
      "execution_count": 21,
      "outputs": [
        {
          "output_type": "execute_result",
          "data": {
            "text/plain": [
              "[10, 20, 30]"
            ]
          },
          "metadata": {
            "tags": []
          },
          "execution_count": 21
        }
      ]
    },
    {
      "cell_type": "markdown",
      "metadata": {
        "id": "9Aco-aCXVqMp"
      },
      "source": [
        "Exercício 1 - Cálculo da média / Usar a Lista2 e calacular a média de seus elementos"
      ]
    },
    {
      "cell_type": "code",
      "metadata": {
        "id": "A-qnae7SV1y_",
        "outputId": "efd11be8-0c9f-4de5-f671-956259f18126",
        "colab": {
          "base_uri": "https://localhost:8080/",
          "height": 34
        }
      },
      "source": [
        "lista2"
      ],
      "execution_count": 22,
      "outputs": [
        {
          "output_type": "execute_result",
          "data": {
            "text/plain": [
              "[10, 20, 30, 40, 50, 60, 70]"
            ]
          },
          "metadata": {
            "tags": []
          },
          "execution_count": 22
        }
      ]
    },
    {
      "cell_type": "code",
      "metadata": {
        "id": "B2VptLJMV9Tn"
      },
      "source": [
        "soma_lista = sum(lista2)"
      ],
      "execution_count": 23,
      "outputs": []
    },
    {
      "cell_type": "code",
      "metadata": {
        "id": "_Md4rQRVWDyl",
        "outputId": "9180a5ee-605c-438c-e207-d48a0f55486b",
        "colab": {
          "base_uri": "https://localhost:8080/",
          "height": 34
        }
      },
      "source": [
        "soma_lista"
      ],
      "execution_count": 24,
      "outputs": [
        {
          "output_type": "execute_result",
          "data": {
            "text/plain": [
              "280"
            ]
          },
          "metadata": {
            "tags": []
          },
          "execution_count": 24
        }
      ]
    },
    {
      "cell_type": "code",
      "metadata": {
        "id": "Wr3X1b7FWMMj",
        "outputId": "ced73e54-4d2f-4cf1-9648-3b7dcfa17c34",
        "colab": {
          "base_uri": "https://localhost:8080/",
          "height": 34
        }
      },
      "source": [
        "len(lista2)"
      ],
      "execution_count": 25,
      "outputs": [
        {
          "output_type": "execute_result",
          "data": {
            "text/plain": [
              "7"
            ]
          },
          "metadata": {
            "tags": []
          },
          "execution_count": 25
        }
      ]
    },
    {
      "cell_type": "code",
      "metadata": {
        "id": "aQYywChEWR6L",
        "outputId": "396d857d-efef-4d3a-a2dc-5319634d4956",
        "colab": {
          "base_uri": "https://localhost:8080/",
          "height": 34
        }
      },
      "source": [
        "media = soma_lista/len(lista2)\n",
        "media"
      ],
      "execution_count": 26,
      "outputs": [
        {
          "output_type": "execute_result",
          "data": {
            "text/plain": [
              "40.0"
            ]
          },
          "metadata": {
            "tags": []
          },
          "execution_count": 26
        }
      ]
    },
    {
      "cell_type": "markdown",
      "metadata": {
        "id": "vVzpZhJXXAVI"
      },
      "source": [
        "**Exercício Resolvido** 2: Construir uma função genérica que calcula qualquer média para qualquer entrada de lista."
      ]
    },
    {
      "cell_type": "code",
      "metadata": {
        "id": "V8QQC3LSXB-K"
      },
      "source": [
        "##\n",
        "##Etapas\n",
        "## def media(x):\n",
        "##   result = sum(x)/len(x) ##a lista entra dentro do argumento x, já somamos e dividimos na mesma linha para otimizar o código\n",
        "##   return(result) ##o comando return serve para devolver o valor calculado para a memória do computador\n",
        "## \n",
        "##Vamos checar para saber se o cálculo está correto:\n",
        "## media(lista_media)"
      ],
      "execution_count": 27,
      "outputs": []
    },
    {
      "cell_type": "code",
      "metadata": {
        "id": "31j7OtWyXX8X"
      },
      "source": [
        "def media(x):\n",
        " result = sum(x)/len(x)\n",
        " return(result)"
      ],
      "execution_count": 28,
      "outputs": []
    },
    {
      "cell_type": "code",
      "metadata": {
        "id": "QTLPgU9_bmvp",
        "outputId": "58ddf38b-2d54-4802-d12f-d2eab3289b84",
        "colab": {
          "base_uri": "https://localhost:8080/",
          "height": 34
        }
      },
      "source": [
        "media(lista2)"
      ],
      "execution_count": 29,
      "outputs": [
        {
          "output_type": "execute_result",
          "data": {
            "text/plain": [
              "40.0"
            ]
          },
          "metadata": {
            "tags": []
          },
          "execution_count": 29
        }
      ]
    },
    {
      "cell_type": "markdown",
      "metadata": {
        "id": "nwsmwxzfdJNV"
      },
      "source": [
        "**Exercício Resolvido** 3: Uma vez em que codificamos a média, ela pode ser usada para calcular a variância. A variância pode ser calculada subtraindo cada elemento xi de uma lista, subtraída da média, essa subtração é elevada ao quadrado e depois somada. Depois se divide pela quantidade de elementos -1, que é uma correção da amostra.\n",
        "\n",
        "S2=∑ni=1(Xi−X~)2n−1\n",
        "\n",
        "Para a resolução do Exercício, precisamo nos atentar, que a média é presente na equação, então vamos usar ela para guiar o novo cálculo."
      ]
    },
    {
      "cell_type": "code",
      "metadata": {
        "id": "DEDxJKA4bvg_"
      },
      "source": [
        "import numpy as np"
      ],
      "execution_count": 30,
      "outputs": []
    },
    {
      "cell_type": "code",
      "metadata": {
        "id": "P-Ok8gqAdOwW",
        "outputId": "ed782b1e-0aec-4e14-8be3-b1cfce8296de",
        "colab": {
          "base_uri": "https://localhost:8080/",
          "height": 34
        }
      },
      "source": [
        "lista2_array = np.array(lista2)\n",
        "print(lista2_array)"
      ],
      "execution_count": 31,
      "outputs": [
        {
          "output_type": "stream",
          "text": [
            "[10 20 30 40 50 60 70]\n"
          ],
          "name": "stdout"
        }
      ]
    },
    {
      "cell_type": "code",
      "metadata": {
        "id": "4-uIPUiLjMmC",
        "outputId": "e507bf2c-87d4-4e9c-988a-3fe823692d96",
        "colab": {
          "base_uri": "https://localhost:8080/",
          "height": 34
        }
      },
      "source": [
        "media(lista)"
      ],
      "execution_count": 32,
      "outputs": [
        {
          "output_type": "execute_result",
          "data": {
            "text/plain": [
              "40.0"
            ]
          },
          "metadata": {
            "tags": []
          },
          "execution_count": 32
        }
      ]
    },
    {
      "cell_type": "code",
      "metadata": {
        "id": "dxl9etk6faOG",
        "outputId": "7e9187bd-0cf2-4c10-fb0b-58f21d300ad7",
        "colab": {
          "base_uri": "https://localhost:8080/",
          "height": 34
        }
      },
      "source": [
        "lista2_array - media(lista2_array)"
      ],
      "execution_count": 33,
      "outputs": [
        {
          "output_type": "execute_result",
          "data": {
            "text/plain": [
              "array([-30., -20., -10.,   0.,  10.,  20.,  30.])"
            ]
          },
          "metadata": {
            "tags": []
          },
          "execution_count": 33
        }
      ]
    },
    {
      "cell_type": "code",
      "metadata": {
        "id": "CXZ1t9uuf4uK",
        "outputId": "8d37dd37-b280-470b-fa04-4d05f54fba4b",
        "colab": {
          "base_uri": "https://localhost:8080/",
          "height": 34
        }
      },
      "source": [
        "sum((lista2_array - media(lista2_array))**2)"
      ],
      "execution_count": 34,
      "outputs": [
        {
          "output_type": "execute_result",
          "data": {
            "text/plain": [
              "2800.0"
            ]
          },
          "metadata": {
            "tags": []
          },
          "execution_count": 34
        }
      ]
    },
    {
      "cell_type": "code",
      "metadata": {
        "id": "ewoTn0-vgZ11"
      },
      "source": [
        "lista2_Var = (lista2_array - media(lista2_array))**2"
      ],
      "execution_count": 35,
      "outputs": []
    },
    {
      "cell_type": "code",
      "metadata": {
        "id": "WZugmcsbhKd3"
      },
      "source": [
        "variancia = sum(lista2_Var)/(len(lista2_Var) - 1)"
      ],
      "execution_count": 36,
      "outputs": []
    },
    {
      "cell_type": "code",
      "metadata": {
        "id": "jeIc1oLbher9",
        "outputId": "446e8c2f-ad6c-4376-8237-930bd5d297d2",
        "colab": {
          "base_uri": "https://localhost:8080/",
          "height": 34
        }
      },
      "source": [
        "variancia"
      ],
      "execution_count": 37,
      "outputs": [
        {
          "output_type": "execute_result",
          "data": {
            "text/plain": [
              "466.6666666666667"
            ]
          },
          "metadata": {
            "tags": []
          },
          "execution_count": 37
        }
      ]
    },
    {
      "cell_type": "code",
      "metadata": {
        "id": "1ikt4_y7hidd",
        "outputId": "4967b9bf-4ddf-40ed-ca5d-74e18e1f414d",
        "colab": {
          "base_uri": "https://localhost:8080/",
          "height": 34
        }
      },
      "source": [
        "## checando\n",
        "import statistics as st\n",
        "st.variance(lista2)"
      ],
      "execution_count": 38,
      "outputs": [
        {
          "output_type": "execute_result",
          "data": {
            "text/plain": [
              "466.6666666666667"
            ]
          },
          "metadata": {
            "tags": []
          },
          "execution_count": 38
        }
      ]
    },
    {
      "cell_type": "markdown",
      "metadata": {
        "id": "0xaBvyatoDNG"
      },
      "source": [
        "Exercício resolvido 4: Generalizar a função da variância para qualquer caso.\n",
        "\n",
        "Bom, sabendo os elementos da função, basta escrever uma função genérica como fizemos antes:"
      ]
    },
    {
      "cell_type": "code",
      "metadata": {
        "id": "EGlsSFhBiJ5j"
      },
      "source": [
        "## definindo minha função variância\n",
        "def variancia(x):\n",
        "  x=np.array(x)\n",
        "  var = (x - media(x))**2\n",
        "  var = sum(var)/(len(x) - 1)\n",
        "  var = round(var)\n",
        "  return(var)"
      ],
      "execution_count": 39,
      "outputs": []
    },
    {
      "cell_type": "code",
      "metadata": {
        "id": "oJ1AmzX4mRX4",
        "outputId": "e4809707-dc6e-4963-c120-3e5e2f6d2b1b",
        "colab": {
          "base_uri": "https://localhost:8080/",
          "height": 34
        }
      },
      "source": [
        "variancia (lista2)"
      ],
      "execution_count": 40,
      "outputs": [
        {
          "output_type": "execute_result",
          "data": {
            "text/plain": [
              "467.0"
            ]
          },
          "metadata": {
            "tags": []
          },
          "execution_count": 40
        }
      ]
    },
    {
      "cell_type": "markdown",
      "metadata": {
        "id": "KE3Ii_eQoMuw"
      },
      "source": [
        "**Exercício Resolvido** 5: Vamos generalizar a equação da variância para o desvio-padrão, o desvio padrão é simplesmente a raiz quadrada da variância.\n",
        "\n",
        "S=∑ni=1(Xi−X~)2n−1−−−−−−−−−√"
      ]
    },
    {
      "cell_type": "code",
      "metadata": {
        "id": "i8kKD722mcvW"
      },
      "source": [
        "import math as mt\n",
        "def desvio_padrao(x): \n",
        "  desvio = variancia(x)\n",
        "  desvio = mt.sqrt(desvio)\n",
        "  return(desvio)"
      ],
      "execution_count": 41,
      "outputs": []
    },
    {
      "cell_type": "code",
      "metadata": {
        "id": "j2L4M4jrodUL",
        "outputId": "84722317-4463-4fde-aa25-f965f192a7d2",
        "colab": {
          "base_uri": "https://localhost:8080/",
          "height": 34
        }
      },
      "source": [
        "desvio_padrao(lista2)"
      ],
      "execution_count": 42,
      "outputs": [
        {
          "output_type": "execute_result",
          "data": {
            "text/plain": [
              "21.61018278497431"
            ]
          },
          "metadata": {
            "tags": []
          },
          "execution_count": 42
        }
      ]
    },
    {
      "cell_type": "markdown",
      "metadata": {
        "id": "YoIBoVa1o0m-"
      },
      "source": [
        "**Exercício resolvido** 6: Implementação da moda.\n",
        "\n",
        "Moda é uma medida de estatística descritiva que encontra o valor que mais se repete em uma amostra de dados. Podemos implementar a moda de um jeito bem simples, utilizando apenas os conceitos de max (máximo e contagem)"
      ]
    },
    {
      "cell_type": "code",
      "metadata": {
        "id": "hSN30TBtomyx",
        "outputId": "349b7284-4d26-4230-a8ed-ec5d56b33d45",
        "colab": {
          "base_uri": "https://localhost:8080/",
          "height": 34
        }
      },
      "source": [
        "lista4 = [0, 0, 1, 2, 3, 4, 4, 4, 5, 10, 12, 16]\n",
        "lista4"
      ],
      "execution_count": 43,
      "outputs": [
        {
          "output_type": "execute_result",
          "data": {
            "text/plain": [
              "[0, 0, 1, 2, 3, 4, 4, 4, 5, 10, 12, 16]"
            ]
          },
          "metadata": {
            "tags": []
          },
          "execution_count": 43
        }
      ]
    },
    {
      "cell_type": "code",
      "metadata": {
        "id": "fDte_I3WpbQ3",
        "outputId": "b8bd9019-54bc-4ed4-dd86-7b98c8ef139d",
        "colab": {
          "base_uri": "https://localhost:8080/",
          "height": 34
        }
      },
      "source": [
        "[[x,lista4.count(x)] for x in set(lista4)]"
      ],
      "execution_count": 44,
      "outputs": [
        {
          "output_type": "execute_result",
          "data": {
            "text/plain": [
              "[[0, 2], [1, 1], [2, 1], [3, 1], [4, 3], [5, 1], [10, 1], [12, 1], [16, 1]]"
            ]
          },
          "metadata": {
            "tags": []
          },
          "execution_count": 44
        }
      ]
    },
    {
      "cell_type": "code",
      "metadata": {
        "id": "4uJ3JfE5pssY"
      },
      "source": [
        "## criando a função da moda\n",
        "def moda(x):\n",
        "  mod = max(x, key = x.count)\n",
        "  return(mod)"
      ],
      "execution_count": 61,
      "outputs": []
    },
    {
      "cell_type": "code",
      "metadata": {
        "id": "nre7D81Sp-se",
        "outputId": "06996762-03ba-4130-a63f-d9a8a8bda88f",
        "colab": {
          "base_uri": "https://localhost:8080/",
          "height": 34
        }
      },
      "source": [
        "moda(lista4)"
      ],
      "execution_count": 46,
      "outputs": [
        {
          "output_type": "execute_result",
          "data": {
            "text/plain": [
              "4"
            ]
          },
          "metadata": {
            "tags": []
          },
          "execution_count": 46
        }
      ]
    },
    {
      "cell_type": "code",
      "metadata": {
        "id": "khD9JYa_qROe"
      },
      "source": [
        "from matplotlib import pyplot as plt"
      ],
      "execution_count": 47,
      "outputs": []
    },
    {
      "cell_type": "code",
      "metadata": {
        "id": "thzO55xwrJ_J"
      },
      "source": [
        "lista4 = np.array(lista4)"
      ],
      "execution_count": 48,
      "outputs": []
    },
    {
      "cell_type": "code",
      "metadata": {
        "id": "2MmObxXArehk",
        "outputId": "acb79f56-b30a-4b1d-abac-e04eeaa84e08",
        "colab": {
          "base_uri": "https://localhost:8080/",
          "height": 317
        }
      },
      "source": [
        "plt.hist(lista4)"
      ],
      "execution_count": 49,
      "outputs": [
        {
          "output_type": "execute_result",
          "data": {
            "text/plain": [
              "(array([3., 2., 3., 1., 0., 0., 1., 1., 0., 1.]),\n",
              " array([ 0. ,  1.6,  3.2,  4.8,  6.4,  8. ,  9.6, 11.2, 12.8, 14.4, 16. ]),\n",
              " <a list of 10 Patch objects>)"
            ]
          },
          "metadata": {
            "tags": []
          },
          "execution_count": 49
        },
        {
          "output_type": "display_data",
          "data": {
            "image/png": "[encoded data removed]",
            "text/plain": [
              "<Figure size 432x288 with 1 Axes>"
            ]
          },
          "metadata": {
            "tags": [],
            "needs_background": "light"
          }
        }
      ]
    },
    {
      "cell_type": "markdown",
      "metadata": {
        "id": "OiI3yz22OfIo"
      },
      "source": [
        ""
      ]
    },
    {
      "cell_type": "markdown",
      "metadata": {
        "id": "Qy8BC1y8Oo3G"
      },
      "source": [
        "# Aula 27-10-2020"
      ]
    },
    {
      "cell_type": "markdown",
      "metadata": {
        "id": "lWcmkfXSO7ug"
      },
      "source": [
        "**Exercício 1**: A Diretora do Instituto Zass Trass, renomada escola Suiça recebeu a compilação das notas dos alunos do primeiro ano do curso de estatística.\n",
        "\n",
        "As notas dos alunos são definidas da seguinte maneira:\n",
        "\n",
        "6 5 9 8 4 2 8 7 6 5 9 1 5 2 9 1 0 2 8 8 3 5 2 4 10 2 3 7 3 2 7 9 9 6 6 1 6 4 8 2 2 5 2 2 2 4 0 1 7 3\n",
        "\n",
        "Usando as funções implementadas até o momento, calcule:\n",
        "\n",
        "A média da distribuição\n",
        "A variância da distribuição\n",
        "O Desvio-Padrão da Distribuição"
      ]
    },
    {
      "cell_type": "code",
      "metadata": {
        "id": "w-rHyunAOwEi"
      },
      "source": [
        "Nota_ZassTrass = [6, 5, 9, 8, 4, 2, 8, 7, 6, 5, 9, 1, 5, 2, 9, 1, 0, 2, 8, 8, 3, 5, 2, 4, 10, 2, 3, 7, 3, 2, 7, 9, 9, 6, 6, 1, 6, 4, 8, 2, 2, 5, 2, 2, 2, 4, 0, 1, 7, 3]"
      ],
      "execution_count": 50,
      "outputs": []
    },
    {
      "cell_type": "code",
      "metadata": {
        "id": "Ejh2tl9VPnJI"
      },
      "source": [
        "Nota_ZassTrass = np.array(Nota_ZassTrass)"
      ],
      "execution_count": 51,
      "outputs": []
    },
    {
      "cell_type": "code",
      "metadata": {
        "id": "VnBYkSqMQDZh",
        "outputId": "329fb0ee-4882-49c0-9948-885ef9ef3283",
        "colab": {
          "base_uri": "https://localhost:8080/",
          "height": 34
        }
      },
      "source": [
        "media(Nota_ZassTrass)"
      ],
      "execution_count": 52,
      "outputs": [
        {
          "output_type": "execute_result",
          "data": {
            "text/plain": [
              "4.64"
            ]
          },
          "metadata": {
            "tags": []
          },
          "execution_count": 52
        }
      ]
    },
    {
      "cell_type": "code",
      "metadata": {
        "id": "PhjMQEH7QORW",
        "outputId": "329e6951-681b-4f35-c7f5-98a93ed85562",
        "colab": {
          "base_uri": "https://localhost:8080/",
          "height": 34
        }
      },
      "source": [
        "variancia(Nota_ZassTrass)"
      ],
      "execution_count": 53,
      "outputs": [
        {
          "output_type": "execute_result",
          "data": {
            "text/plain": [
              "8.0"
            ]
          },
          "metadata": {
            "tags": []
          },
          "execution_count": 53
        }
      ]
    },
    {
      "cell_type": "code",
      "metadata": {
        "id": "HccuoPrOQTX0",
        "outputId": "de843257-67a7-4f08-f910-9fb1ed2e7164",
        "colab": {
          "base_uri": "https://localhost:8080/",
          "height": 34
        }
      },
      "source": [
        "desvio_padrao(Nota_ZassTrass)"
      ],
      "execution_count": 54,
      "outputs": [
        {
          "output_type": "execute_result",
          "data": {
            "text/plain": [
              "2.8284271247461903"
            ]
          },
          "metadata": {
            "tags": []
          },
          "execution_count": 54
        }
      ]
    },
    {
      "cell_type": "markdown",
      "metadata": {
        "id": "2R788HuMQm05"
      },
      "source": [
        "**Exercício 2**: A jornalista Luiza Nazira está estudando o comportamento do número do número de casos de Covid na cidade de Itapipoca (CE). A Série representa o número de contaminados no último mês:\n",
        "\n",
        "179 261 213 87 125 97 113 60 182 250 145 200 179 86 294 238 206 185 228 113 119 245 87 167 203 67 230 97 82 93\n",
        "\n",
        "Calcule as estatísticas descritivas de média, variância e desvio-padrão para a requisição da jornalista."
      ]
    },
    {
      "cell_type": "code",
      "metadata": {
        "id": "WZQg7hN1QfYi"
      },
      "source": [
        "Covid19_Itapipoca = [179, 261, 213, 87, 125, 97, 113, 60, 182, 250, 145, 200, 179, 86, 294, 238, 206, 185, 228, 113, 119, 245, 87, 167, 203, 67, 230, 97, 82, 93]"
      ],
      "execution_count": 55,
      "outputs": []
    },
    {
      "cell_type": "code",
      "metadata": {
        "id": "sODy8vSvRJ1L"
      },
      "source": [
        "Covid19_Itapipoca = np.array(Covid19_Itapipoca)"
      ],
      "execution_count": 57,
      "outputs": []
    },
    {
      "cell_type": "code",
      "metadata": {
        "id": "lD_nyyUURaP3",
        "outputId": "ca8dc3c1-49fd-48ba-ff62-5109f5a2461b",
        "colab": {
          "base_uri": "https://localhost:8080/",
          "height": 34
        }
      },
      "source": [
        "media(Covid19_Itapipoca)"
      ],
      "execution_count": 58,
      "outputs": [
        {
          "output_type": "execute_result",
          "data": {
            "text/plain": [
              "161.03333333333333"
            ]
          },
          "metadata": {
            "tags": []
          },
          "execution_count": 58
        }
      ]
    },
    {
      "cell_type": "code",
      "metadata": {
        "id": "Sksj8yvuRfd7",
        "outputId": "a53193dc-d0a5-4380-efb3-306bb279c955",
        "colab": {
          "base_uri": "https://localhost:8080/",
          "height": 34
        }
      },
      "source": [
        "variancia(Covid19_Itapipoca)"
      ],
      "execution_count": 59,
      "outputs": [
        {
          "output_type": "execute_result",
          "data": {
            "text/plain": [
              "4488.0"
            ]
          },
          "metadata": {
            "tags": []
          },
          "execution_count": 59
        }
      ]
    },
    {
      "cell_type": "code",
      "metadata": {
        "id": "C2l_wNBZRmO9",
        "outputId": "67a633db-109c-4bb9-dac1-53d9b4817771",
        "colab": {
          "base_uri": "https://localhost:8080/",
          "height": 34
        }
      },
      "source": [
        "desvio_padrao(Covid19_Itapipoca)"
      ],
      "execution_count": 60,
      "outputs": [
        {
          "output_type": "execute_result",
          "data": {
            "text/plain": [
              "66.9925368977769"
            ]
          },
          "metadata": {
            "tags": []
          },
          "execution_count": 60
        }
      ]
    },
    {
      "cell_type": "code",
      "metadata": {
        "id": "7XWY7LpRScFy"
      },
      "source": [
        "## Uma rápida implementação de um gráfico de séries\n",
        "from matplotlib import pyplot as plt"
      ],
      "execution_count": 65,
      "outputs": []
    },
    {
      "cell_type": "code",
      "metadata": {
        "id": "8i-cbhkUS1KS",
        "outputId": "b823a8ce-008a-4fcc-ecd4-1823f442df6c",
        "colab": {
          "base_uri": "https://localhost:8080/",
          "height": 335
        }
      },
      "source": [
        "plt.hist(Covid19_Itapipoca)"
      ],
      "execution_count": 66,
      "outputs": [
        {
          "output_type": "execute_result",
          "data": {
            "text/plain": [
              "(array([3., 6., 4., 1., 1., 5., 3., 4., 2., 1.]),\n",
              " array([ 60. ,  83.4, 106.8, 130.2, 153.6, 177. , 200.4, 223.8, 247.2,\n",
              "        270.6, 294. ]),\n",
              " <a list of 10 Patch objects>)"
            ]
          },
          "metadata": {
            "tags": []
          },
          "execution_count": 66
        },
        {
          "output_type": "display_data",
          "data": {
            "image/png": "[encoded data removed]",
            "text/plain": [
              "<Figure size 432x288 with 1 Axes>"
            ]
          },
          "metadata": {
            "tags": [],
            "needs_background": "light"
          }
        }
      ]
    },
    {
      "cell_type": "code",
      "metadata": {
        "id": "k3Ttzh9DTCml"
      },
      "source": [
        ""
      ],
      "execution_count": null,
      "outputs": []
    }
  ]
}