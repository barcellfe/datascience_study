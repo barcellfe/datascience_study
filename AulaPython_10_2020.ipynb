{
  "nbformat": 4,
  "nbformat_minor": 0,
  "metadata": {
    "colab": {
      "name": "AulaPython_10-2020.ipynb",
      "provenance": [],
      "collapsed_sections": [],
      "authorship_tag": "ABX9TyPoZoU83UxXiLvrtNbCDl43",
      "include_colab_link": true
    },
    "kernelspec": {
      "name": "python3",
      "display_name": "Python 3"
    }
  },
  "cells": [
    {
      "cell_type": "markdown",
      "metadata": {
        "id": "view-in-github",
        "colab_type": "text"
      },
      "source": [
        "<a href=\"https://colab.research.google.com/github/barcellfe/datascience_study/blob/master/AulaPython_10_2020.ipynb\" target=\"_parent\"><img src=\"https://colab.research.google.com/assets/colab-badge.svg\" alt=\"Open In Colab\"/></a>"
      ]
    },
    {
      "cell_type": "markdown",
      "metadata": {
        "id": "e_4dL76HTOOR"
      },
      "source": [
        "# Aula 26-10-2020 Jhean"
      ]
    },
    {
      "cell_type": "markdown",
      "metadata": {
        "id": "2cE6OQCQL1um"
      },
      "source": [
        "1.   Vamos relembrar aqui, primeiramente, como trabalhamos com objetos do tipo Lista\n",
        "2.   listas são declaradas com dois colchetes []"
      ]
    },
    {
      "cell_type": "code",
      "metadata": {
        "id": "2KZDKiCpLw3m",
        "outputId": "afff4347-8293-4bc1-f6e9-fda1c54822ab",
        "colab": {
          "base_uri": "https://localhost:8080/",
          "height": 34
        }
      },
      "source": [
        "lista = []\n",
        "print(lista)"
      ],
      "execution_count": 1,
      "outputs": [
        {
          "output_type": "stream",
          "text": [
            "[]\n"
          ],
          "name": "stdout"
        }
      ]
    },
    {
      "cell_type": "code",
      "metadata": {
        "id": "9erXTuypL5GS",
        "outputId": "c707f0e5-e93d-4c1a-e063-95a3086198ca",
        "colab": {
          "base_uri": "https://localhost:8080/",
          "height": 34
        }
      },
      "source": [
        "type(lista)"
      ],
      "execution_count": 2,
      "outputs": [
        {
          "output_type": "execute_result",
          "data": {
            "text/plain": [
              "list"
            ]
          },
          "metadata": {
            "tags": []
          },
          "execution_count": 2
        }
      ]
    },
    {
      "cell_type": "code",
      "metadata": {
        "id": "PzRm7PT5NG90"
      },
      "source": [
        "import math as mt\n",
        "import statistics as st"
      ],
      "execution_count": 3,
      "outputs": []
    },
    {
      "cell_type": "markdown",
      "metadata": {
        "id": "z7CsOxstNfrz"
      },
      "source": [
        "3. Todo objeto declarado dentro de uma lista é separado por virgula"
      ]
    },
    {
      "cell_type": "code",
      "metadata": {
        "id": "u2rAkf0kNXAJ",
        "outputId": "0b714ffc-99b6-4925-fdf3-555c4b632216",
        "colab": {
          "base_uri": "https://localhost:8080/",
          "height": 34
        }
      },
      "source": [
        "lista = [10, 20, 30, 40, 50, 60]\n",
        "print(lista)"
      ],
      "execution_count": 4,
      "outputs": [
        {
          "output_type": "stream",
          "text": [
            "[10, 20, 30, 40, 50, 60]\n"
          ],
          "name": "stdout"
        }
      ]
    },
    {
      "cell_type": "markdown",
      "metadata": {
        "id": "eXoxndcRNhAw"
      },
      "source": [
        "4. As listas podem ser acessadas por meio do index. Na linguagem Python todo indice começa com 0."
      ]
    },
    {
      "cell_type": "code",
      "metadata": {
        "id": "fykL2bFUOHTG",
        "outputId": "a8785d45-a1e5-429e-88ed-15b90349b4b4",
        "colab": {
          "base_uri": "https://localhost:8080/",
          "height": 34
        }
      },
      "source": [
        "lista[5]"
      ],
      "execution_count": 5,
      "outputs": [
        {
          "output_type": "execute_result",
          "data": {
            "text/plain": [
              "60"
            ]
          },
          "metadata": {
            "tags": []
          },
          "execution_count": 5
        }
      ]
    },
    {
      "cell_type": "markdown",
      "metadata": {
        "id": "R7r79Q60ObMx"
      },
      "source": [
        "5. Um índice negativo pega a última posição da lista, ou seja, se eu usar um valor de -1 para a lista anterior, é o mesmo que acessar a posição 5 (que é a última posição da lista)"
      ]
    },
    {
      "cell_type": "code",
      "metadata": {
        "id": "vVxnsNlXOP4Z",
        "outputId": "af75895a-beb0-41d4-a98e-f457a4276b98",
        "colab": {
          "base_uri": "https://localhost:8080/",
          "height": 34
        }
      },
      "source": [
        "lista[-1]"
      ],
      "execution_count": 6,
      "outputs": [
        {
          "output_type": "execute_result",
          "data": {
            "text/plain": [
              "60"
            ]
          },
          "metadata": {
            "tags": []
          },
          "execution_count": 6
        }
      ]
    },
    {
      "cell_type": "markdown",
      "metadata": {
        "id": "zCQSQjJjOsQ7"
      },
      "source": [
        "6. Listas são objetos mutáveis em Python, ou seja, listas podem ser modificadas quando acessadas em sua estrutura interna. Objetos como tuplas, não são mutáveis. Lembrando que quando usamos o sinal de igual, estamos atribuindo valor a algum objeto."
      ]
    },
    {
      "cell_type": "code",
      "metadata": {
        "id": "2q3IhG-tOTO_",
        "outputId": "aa247b8e-dee5-4e8a-9f27-85ed7afe2912",
        "colab": {
          "base_uri": "https://localhost:8080/",
          "height": 34
        }
      },
      "source": [
        "lista[0] = 0\n",
        "print(lista)"
      ],
      "execution_count": 7,
      "outputs": [
        {
          "output_type": "stream",
          "text": [
            "[0, 20, 30, 40, 50, 60]\n"
          ],
          "name": "stdout"
        }
      ]
    },
    {
      "cell_type": "markdown",
      "metadata": {
        "id": "aIZ00OpKPIOV"
      },
      "source": [
        "7. Listas como objeto de Python possuem algumas propriedades especiais. São acessadas quando se coloca um ponto depois do objeto declarado. Veremos abaixo algumas.\n",
        "\n",
        "8. append: acrescenta um valor novo a lista\n",
        "\n",
        "9. pop: remove o último objeto da lista\n",
        "\n",
        "10. count: conta o numero de determinado elemento da lista\n",
        "\n",
        "11. remove: remove determinado elemento da lista\n",
        "\n",
        "12. copy: copia a lista para outra lista\n",
        "\n",
        "13. reverse: inverte a ordem da lista\n",
        "\n",
        "14. sort: ordena a lista em ordem crescente"
      ]
    },
    {
      "cell_type": "code",
      "metadata": {
        "id": "JPOPz81OPfFo"
      },
      "source": [
        "lista.append(70)"
      ],
      "execution_count": 8,
      "outputs": []
    },
    {
      "cell_type": "code",
      "metadata": {
        "id": "b8Mfcgw4PqP9",
        "outputId": "eef5463c-182b-45d5-8269-636e3aa7fa2f",
        "colab": {
          "base_uri": "https://localhost:8080/",
          "height": 34
        }
      },
      "source": [
        "lista[0] = 10\n",
        "print(lista)"
      ],
      "execution_count": 10,
      "outputs": [
        {
          "output_type": "stream",
          "text": [
            "[10, 20, 30, 40, 50, 60, 70]\n"
          ],
          "name": "stdout"
        }
      ]
    },
    {
      "cell_type": "code",
      "metadata": {
        "id": "xtpXzoZRPsiR",
        "outputId": "b37a1cdd-ddac-4259-ce6c-6cd157a2e083",
        "colab": {
          "base_uri": "https://localhost:8080/",
          "height": 34
        }
      },
      "source": [
        "lista.append(80)\n",
        "print(lista)"
      ],
      "execution_count": 11,
      "outputs": [
        {
          "output_type": "stream",
          "text": [
            "[10, 20, 30, 40, 50, 60, 70, 80]\n"
          ],
          "name": "stdout"
        }
      ]
    },
    {
      "cell_type": "code",
      "metadata": {
        "id": "FXrSziD6QA0H",
        "outputId": "5049988b-b22f-40c3-c375-2e19c82d2333",
        "colab": {
          "base_uri": "https://localhost:8080/",
          "height": 34
        }
      },
      "source": [
        "lista.pop()"
      ],
      "execution_count": 14,
      "outputs": [
        {
          "output_type": "execute_result",
          "data": {
            "text/plain": [
              "80"
            ]
          },
          "metadata": {
            "tags": []
          },
          "execution_count": 14
        }
      ]
    },
    {
      "cell_type": "code",
      "metadata": {
        "id": "FLYlze-TQKa3",
        "outputId": "d0136460-ceec-4619-88b0-642abda42969",
        "colab": {
          "base_uri": "https://localhost:8080/",
          "height": 34
        }
      },
      "source": [
        "print(lista)"
      ],
      "execution_count": 15,
      "outputs": [
        {
          "output_type": "stream",
          "text": [
            "[10, 20, 30, 40, 50, 60, 70]\n"
          ],
          "name": "stdout"
        }
      ]
    },
    {
      "cell_type": "code",
      "metadata": {
        "id": "naM4AS_fQt4A",
        "outputId": "156258c7-fdb7-42e9-8def-2ad4932c42bc",
        "colab": {
          "base_uri": "https://localhost:8080/",
          "height": 34
        }
      },
      "source": [
        "lista.append(30)\n",
        "lista.count(30)"
      ],
      "execution_count": 17,
      "outputs": [
        {
          "output_type": "execute_result",
          "data": {
            "text/plain": [
              "2"
            ]
          },
          "metadata": {
            "tags": []
          },
          "execution_count": 17
        }
      ]
    },
    {
      "cell_type": "code",
      "metadata": {
        "id": "k9BFj7uYQ59B",
        "outputId": "f9b778c7-ed08-4899-a974-bd07e54aca60",
        "colab": {
          "base_uri": "https://localhost:8080/",
          "height": 34
        }
      },
      "source": [
        "lista.remove(30)\n",
        "print(lista)"
      ],
      "execution_count": 18,
      "outputs": [
        {
          "output_type": "stream",
          "text": [
            "[10, 20, 40, 50, 60, 70, 30]\n"
          ],
          "name": "stdout"
        }
      ]
    },
    {
      "cell_type": "code",
      "metadata": {
        "id": "iJAVhcRTRSFB",
        "outputId": "9ce776ef-5316-4594-a972-cf08e58b1206",
        "colab": {
          "base_uri": "https://localhost:8080/",
          "height": 34
        }
      },
      "source": [
        "lista2 = lista.copy()\n",
        "print(lista2)"
      ],
      "execution_count": 20,
      "outputs": [
        {
          "output_type": "stream",
          "text": [
            "[10, 20, 40, 50, 60, 70, 30]\n"
          ],
          "name": "stdout"
        }
      ]
    },
    {
      "cell_type": "code",
      "metadata": {
        "id": "kEz1r0aWRdvQ"
      },
      "source": [
        "lista2.reverse()"
      ],
      "execution_count": 22,
      "outputs": []
    },
    {
      "cell_type": "code",
      "metadata": {
        "id": "2PxB7DJ7Ryff",
        "outputId": "521e0245-c4ba-4f27-facc-344c07057c8e",
        "colab": {
          "base_uri": "https://localhost:8080/",
          "height": 34
        }
      },
      "source": [
        "print(lista2)"
      ],
      "execution_count": 23,
      "outputs": [
        {
          "output_type": "stream",
          "text": [
            "[30, 70, 60, 50, 40, 20, 10]\n"
          ],
          "name": "stdout"
        }
      ]
    },
    {
      "cell_type": "code",
      "metadata": {
        "id": "J1dDBsj8R54f"
      },
      "source": [
        "lista2.sort()"
      ],
      "execution_count": 24,
      "outputs": []
    },
    {
      "cell_type": "code",
      "metadata": {
        "id": "YMlNVtH8R_6p",
        "outputId": "d16e2481-6a4c-4c6c-af36-3c0993a2b5ef",
        "colab": {
          "base_uri": "https://localhost:8080/",
          "height": 34
        }
      },
      "source": [
        "print(lista2)"
      ],
      "execution_count": 25,
      "outputs": [
        {
          "output_type": "stream",
          "text": [
            "[10, 20, 30, 40, 50, 60, 70]\n"
          ],
          "name": "stdout"
        }
      ]
    },
    {
      "cell_type": "markdown",
      "metadata": {
        "id": "i9GINq-UUREU"
      },
      "source": [
        "15. Listas podem ser guardadas dentro de listas. O nome disso é processo nestado"
      ]
    },
    {
      "cell_type": "code",
      "metadata": {
        "id": "oz31irpfSD0r",
        "outputId": "4c7a7e88-49c9-4833-ab3c-392f7a9871e1",
        "colab": {
          "base_uri": "https://localhost:8080/",
          "height": 34
        }
      },
      "source": [
        "lista3 =[[10, 20, 30], 40, 50, 60, 70]\n",
        "lista3"
      ],
      "execution_count": 26,
      "outputs": [
        {
          "output_type": "execute_result",
          "data": {
            "text/plain": [
              "[[10, 20, 30], 40, 50, 60, 70]"
            ]
          },
          "metadata": {
            "tags": []
          },
          "execution_count": 26
        }
      ]
    },
    {
      "cell_type": "code",
      "metadata": {
        "id": "4TLuWEu0Unjn",
        "outputId": "2bf1cdc7-77c1-4c82-c643-57100fc2121d",
        "colab": {
          "base_uri": "https://localhost:8080/",
          "height": 34
        }
      },
      "source": [
        "lista3[0]"
      ],
      "execution_count": 27,
      "outputs": [
        {
          "output_type": "execute_result",
          "data": {
            "text/plain": [
              "[10, 20, 30]"
            ]
          },
          "metadata": {
            "tags": []
          },
          "execution_count": 27
        }
      ]
    },
    {
      "cell_type": "markdown",
      "metadata": {
        "id": "9Aco-aCXVqMp"
      },
      "source": [
        "Exercício 1 - Cálculo da média / Usar a Lista2 e calacular a média de seus elementos"
      ]
    },
    {
      "cell_type": "code",
      "metadata": {
        "id": "A-qnae7SV1y_",
        "outputId": "944e8b78-53ed-4bde-ed95-bad09964fb1d",
        "colab": {
          "base_uri": "https://localhost:8080/",
          "height": 34
        }
      },
      "source": [
        "lista2"
      ],
      "execution_count": 28,
      "outputs": [
        {
          "output_type": "execute_result",
          "data": {
            "text/plain": [
              "[10, 20, 30, 40, 50, 60, 70]"
            ]
          },
          "metadata": {
            "tags": []
          },
          "execution_count": 28
        }
      ]
    },
    {
      "cell_type": "code",
      "metadata": {
        "id": "B2VptLJMV9Tn"
      },
      "source": [
        "soma_lista = sum(lista2)"
      ],
      "execution_count": 30,
      "outputs": []
    },
    {
      "cell_type": "code",
      "metadata": {
        "id": "_Md4rQRVWDyl",
        "outputId": "14fa8add-8f51-4430-f868-7eee19a57e1a",
        "colab": {
          "base_uri": "https://localhost:8080/",
          "height": 34
        }
      },
      "source": [
        "soma_lista"
      ],
      "execution_count": 31,
      "outputs": [
        {
          "output_type": "execute_result",
          "data": {
            "text/plain": [
              "280"
            ]
          },
          "metadata": {
            "tags": []
          },
          "execution_count": 31
        }
      ]
    },
    {
      "cell_type": "code",
      "metadata": {
        "id": "Wr3X1b7FWMMj",
        "outputId": "9121a391-6c8e-401a-e75c-b77557f7236a",
        "colab": {
          "base_uri": "https://localhost:8080/",
          "height": 34
        }
      },
      "source": [
        "len(lista2)"
      ],
      "execution_count": 32,
      "outputs": [
        {
          "output_type": "execute_result",
          "data": {
            "text/plain": [
              "7"
            ]
          },
          "metadata": {
            "tags": []
          },
          "execution_count": 32
        }
      ]
    },
    {
      "cell_type": "code",
      "metadata": {
        "id": "aQYywChEWR6L",
        "outputId": "165fdbd2-027a-41aa-e54b-c23a406074e9",
        "colab": {
          "base_uri": "https://localhost:8080/",
          "height": 34
        }
      },
      "source": [
        "media = soma_lista/len(lista2)\n",
        "media"
      ],
      "execution_count": 33,
      "outputs": [
        {
          "output_type": "execute_result",
          "data": {
            "text/plain": [
              "40.0"
            ]
          },
          "metadata": {
            "tags": []
          },
          "execution_count": 33
        }
      ]
    },
    {
      "cell_type": "markdown",
      "metadata": {
        "id": "vVzpZhJXXAVI"
      },
      "source": [
        "**Exercício Resolvido** 2: Construir uma função genérica que calcula qualquer média para qualquer entrada de lista."
      ]
    },
    {
      "cell_type": "code",
      "metadata": {
        "id": "V8QQC3LSXB-K"
      },
      "source": [
        "##\n",
        "##Etapas\n",
        "## def media(x):\n",
        "##   result = sum(x)/len(x) ##a lista entra dentro do argumento x, já somamos e dividimos na mesma linha para otimizar o código\n",
        "##   return(result) ##o comando return serve para devolver o valor calculado para a memória do computador\n",
        "## \n",
        "##Vamos checar para saber se o cálculo está correto:\n",
        "## media(lista_media)"
      ],
      "execution_count": 35,
      "outputs": []
    },
    {
      "cell_type": "code",
      "metadata": {
        "id": "31j7OtWyXX8X"
      },
      "source": [
        "def media(x):\n",
        " result = sum(x)/len(x)\n",
        " return(result)"
      ],
      "execution_count": 37,
      "outputs": []
    },
    {
      "cell_type": "code",
      "metadata": {
        "id": "QTLPgU9_bmvp",
        "outputId": "4b1644ed-cf6c-40d5-ff90-edaf2f2fb2d7",
        "colab": {
          "base_uri": "https://localhost:8080/",
          "height": 34
        }
      },
      "source": [
        "media(lista2)"
      ],
      "execution_count": 38,
      "outputs": [
        {
          "output_type": "execute_result",
          "data": {
            "text/plain": [
              "40.0"
            ]
          },
          "metadata": {
            "tags": []
          },
          "execution_count": 38
        }
      ]
    },
    {
      "cell_type": "markdown",
      "metadata": {
        "id": "nwsmwxzfdJNV"
      },
      "source": [
        "**Exercício Resolvido** 3: Uma vez em que codificamos a média, ela pode ser usada para calcular a variância. A variância pode ser calculada subtraindo cada elemento xi de uma lista, subtraída da média, essa subtração é elevada ao quadrado e depois somada. Depois se divide pela quantidade de elementos -1, que é uma correção da amostra.\n",
        "\n",
        "S2=∑ni=1(Xi−X~)2n−1\n",
        "\n",
        "Para a resolução do Exercício, precisamo nos atentar, que a média é presente na equação, então vamos usar ela para guiar o novo cálculo."
      ]
    },
    {
      "cell_type": "code",
      "metadata": {
        "id": "DEDxJKA4bvg_"
      },
      "source": [
        "import numpy as np"
      ],
      "execution_count": 39,
      "outputs": []
    },
    {
      "cell_type": "code",
      "metadata": {
        "id": "P-Ok8gqAdOwW",
        "outputId": "ea4e86ab-28f6-4fa5-daac-d0e5a653fbe8",
        "colab": {
          "base_uri": "https://localhost:8080/",
          "height": 34
        }
      },
      "source": [
        "lista2_array = np.array(lista2)\n",
        "print(lista2_array)"
      ],
      "execution_count": 41,
      "outputs": [
        {
          "output_type": "stream",
          "text": [
            "[10 20 30 40 50 60 70]\n"
          ],
          "name": "stdout"
        }
      ]
    },
    {
      "cell_type": "code",
      "metadata": {
        "id": "4-uIPUiLjMmC",
        "outputId": "0b25ab63-9250-4c97-b4f2-6b2b5d968fc7",
        "colab": {
          "base_uri": "https://localhost:8080/",
          "height": 34
        }
      },
      "source": [
        "media(lista)"
      ],
      "execution_count": 50,
      "outputs": [
        {
          "output_type": "execute_result",
          "data": {
            "text/plain": [
              "40.0"
            ]
          },
          "metadata": {
            "tags": []
          },
          "execution_count": 50
        }
      ]
    },
    {
      "cell_type": "code",
      "metadata": {
        "id": "dxl9etk6faOG",
        "outputId": "40026192-8a5c-4c56-eedc-bec2895aad0b",
        "colab": {
          "base_uri": "https://localhost:8080/",
          "height": 34
        }
      },
      "source": [
        "lista2_array - media(lista2_array)"
      ],
      "execution_count": 42,
      "outputs": [
        {
          "output_type": "execute_result",
          "data": {
            "text/plain": [
              "array([-30., -20., -10.,   0.,  10.,  20.,  30.])"
            ]
          },
          "metadata": {
            "tags": []
          },
          "execution_count": 42
        }
      ]
    },
    {
      "cell_type": "code",
      "metadata": {
        "id": "CXZ1t9uuf4uK",
        "outputId": "6d038fc1-6357-47d2-cf7a-240b79c5e5c8",
        "colab": {
          "base_uri": "https://localhost:8080/",
          "height": 34
        }
      },
      "source": [
        "sum((lista2_array - media(lista2_array))**2)"
      ],
      "execution_count": 44,
      "outputs": [
        {
          "output_type": "execute_result",
          "data": {
            "text/plain": [
              "2800.0"
            ]
          },
          "metadata": {
            "tags": []
          },
          "execution_count": 44
        }
      ]
    },
    {
      "cell_type": "code",
      "metadata": {
        "id": "ewoTn0-vgZ11"
      },
      "source": [
        "lista2_Var = (lista2_array - media(lista2_array))**2"
      ],
      "execution_count": 45,
      "outputs": []
    },
    {
      "cell_type": "code",
      "metadata": {
        "id": "WZugmcsbhKd3"
      },
      "source": [
        "variancia = sum(lista2_Var)/(len(lista2_Var) - 1)"
      ],
      "execution_count": 51,
      "outputs": []
    },
    {
      "cell_type": "code",
      "metadata": {
        "id": "jeIc1oLbher9",
        "outputId": "bcf2d6b0-7dc0-4a69-ec8d-74a8bdd9175f",
        "colab": {
          "base_uri": "https://localhost:8080/",
          "height": 34
        }
      },
      "source": [
        "variancia"
      ],
      "execution_count": 52,
      "outputs": [
        {
          "output_type": "execute_result",
          "data": {
            "text/plain": [
              "466.6666666666667"
            ]
          },
          "metadata": {
            "tags": []
          },
          "execution_count": 52
        }
      ]
    },
    {
      "cell_type": "code",
      "metadata": {
        "id": "1ikt4_y7hidd",
        "outputId": "861adf91-f0a5-4fe3-bdc1-1fa36b3127ff",
        "colab": {
          "base_uri": "https://localhost:8080/",
          "height": 34
        }
      },
      "source": [
        "## checando\n",
        "import statistics as st\n",
        "st.variance(lista2)"
      ],
      "execution_count": 49,
      "outputs": [
        {
          "output_type": "execute_result",
          "data": {
            "text/plain": [
              "466.6666666666667"
            ]
          },
          "metadata": {
            "tags": []
          },
          "execution_count": 49
        }
      ]
    },
    {
      "cell_type": "markdown",
      "metadata": {
        "id": "0xaBvyatoDNG"
      },
      "source": [
        "Exercício resolvido 4: Generalizar a função da variância para qualquer caso.\n",
        "\n",
        "Bom, sabendo os elementos da função, basta escrever uma função genérica como fizemos antes:"
      ]
    },
    {
      "cell_type": "code",
      "metadata": {
        "id": "EGlsSFhBiJ5j"
      },
      "source": [
        "## definindo minha função variância\n",
        "def variancia(x):\n",
        "  x=np.array(x)\n",
        "  var = (x - media(x))**2\n",
        "  var = sum(var)/(len(x) - 1)\n",
        "  var = round(var)\n",
        "  return(var)"
      ],
      "execution_count": 55,
      "outputs": []
    },
    {
      "cell_type": "code",
      "metadata": {
        "id": "oJ1AmzX4mRX4",
        "outputId": "0b706e0e-67d3-44ee-ce9e-a961caf6b003",
        "colab": {
          "base_uri": "https://localhost:8080/",
          "height": 34
        }
      },
      "source": [
        "variancia (lista2)"
      ],
      "execution_count": 56,
      "outputs": [
        {
          "output_type": "execute_result",
          "data": {
            "text/plain": [
              "467.0"
            ]
          },
          "metadata": {
            "tags": []
          },
          "execution_count": 56
        }
      ]
    },
    {
      "cell_type": "markdown",
      "metadata": {
        "id": "KE3Ii_eQoMuw"
      },
      "source": [
        "**Exercício Resolvido** 5: Vamos generalizar a equação da variância para o desvio-padrão, o desvio padrão é simplesmente a raiz quadrada da variância.\n",
        "\n",
        "S=∑ni=1(Xi−X~)2n−1−−−−−−−−−√"
      ]
    },
    {
      "cell_type": "code",
      "metadata": {
        "id": "i8kKD722mcvW"
      },
      "source": [
        "import math as mt\n",
        "def desvio_padrao(x): \n",
        "  desvio = variancia(x)\n",
        "  desvio = mt.sqrt(desvio)\n",
        "  return(desvio)"
      ],
      "execution_count": 57,
      "outputs": []
    },
    {
      "cell_type": "code",
      "metadata": {
        "id": "j2L4M4jrodUL",
        "outputId": "7313d3c0-4bc1-40b8-f36f-31722c7839d2",
        "colab": {
          "base_uri": "https://localhost:8080/",
          "height": 34
        }
      },
      "source": [
        "desvio_padrao(lista2)"
      ],
      "execution_count": 59,
      "outputs": [
        {
          "output_type": "execute_result",
          "data": {
            "text/plain": [
              "21.61018278497431"
            ]
          },
          "metadata": {
            "tags": []
          },
          "execution_count": 59
        }
      ]
    },
    {
      "cell_type": "markdown",
      "metadata": {
        "id": "YoIBoVa1o0m-"
      },
      "source": [
        "**Exercício resolvido** 6: Implementação da moda.\n",
        "\n",
        "Moda é uma medida de estatística descritiva que encontra o valor que mais se repete em uma amostra de dados. Podemos implementar a moda de um jeito bem simples, utilizando apenas os conceitos de max (máximo e contagem)"
      ]
    },
    {
      "cell_type": "code",
      "metadata": {
        "id": "hSN30TBtomyx",
        "outputId": "f48f4dfd-e5d7-477e-d437-60021f79b191",
        "colab": {
          "base_uri": "https://localhost:8080/",
          "height": 34
        }
      },
      "source": [
        "lista4 = [0, 0, 1, 2, 3, 4, 4, 4, 5, 10, 12, 16]\n",
        "lista4"
      ],
      "execution_count": 60,
      "outputs": [
        {
          "output_type": "execute_result",
          "data": {
            "text/plain": [
              "[0, 0, 1, 2, 3, 4, 4, 4, 5, 10, 12, 16]"
            ]
          },
          "metadata": {
            "tags": []
          },
          "execution_count": 60
        }
      ]
    },
    {
      "cell_type": "code",
      "metadata": {
        "id": "fDte_I3WpbQ3",
        "outputId": "b4b32e1a-731b-467b-ac51-ace9499eb8e5",
        "colab": {
          "base_uri": "https://localhost:8080/",
          "height": 34
        }
      },
      "source": [
        "[[x,lista4.count(x)] for x in set(lista4)]"
      ],
      "execution_count": 61,
      "outputs": [
        {
          "output_type": "execute_result",
          "data": {
            "text/plain": [
              "[[0, 2], [1, 1], [2, 1], [3, 1], [4, 3], [5, 1], [10, 1], [12, 1], [16, 1]]"
            ]
          },
          "metadata": {
            "tags": []
          },
          "execution_count": 61
        }
      ]
    },
    {
      "cell_type": "code",
      "metadata": {
        "id": "4uJ3JfE5pssY"
      },
      "source": [
        "## criando a função da moda\n",
        "def moda(x):\n",
        "  mod = max(x, key = x.count)\n",
        "  return(mod)"
      ],
      "execution_count": 62,
      "outputs": []
    },
    {
      "cell_type": "code",
      "metadata": {
        "id": "nre7D81Sp-se",
        "outputId": "1bd11ecb-1a2b-4f51-cb92-1c0c130fd65d",
        "colab": {
          "base_uri": "https://localhost:8080/",
          "height": 34
        }
      },
      "source": [
        "moda(lista4)"
      ],
      "execution_count": 63,
      "outputs": [
        {
          "output_type": "execute_result",
          "data": {
            "text/plain": [
              "4"
            ]
          },
          "metadata": {
            "tags": []
          },
          "execution_count": 63
        }
      ]
    },
    {
      "cell_type": "code",
      "metadata": {
        "id": "khD9JYa_qROe"
      },
      "source": [
        "from matplotlib import pyplot as plt"
      ],
      "execution_count": 70,
      "outputs": []
    },
    {
      "cell_type": "code",
      "metadata": {
        "id": "thzO55xwrJ_J"
      },
      "source": [
        "lista4 = np.array(lista4)"
      ],
      "execution_count": 71,
      "outputs": []
    },
    {
      "cell_type": "code",
      "metadata": {
        "id": "2MmObxXArehk",
        "outputId": "064519e2-6961-421b-a9ac-a3fd99ec2cb5",
        "colab": {
          "base_uri": "https://localhost:8080/",
          "height": 317
        }
      },
      "source": [
        "plt.hist(lista4)"
      ],
      "execution_count": 72,
      "outputs": [
        {
          "output_type": "execute_result",
          "data": {
            "text/plain": [
              "(array([3., 2., 3., 1., 0., 0., 1., 1., 0., 1.]),\n",
              " array([ 0. ,  1.6,  3.2,  4.8,  6.4,  8. ,  9.6, 11.2, 12.8, 14.4, 16. ]),\n",
              " <a list of 10 Patch objects>)"
            ]
          },
          "metadata": {
            "tags": []
          },
          "execution_count": 72
        },
        {
          "output_type": "display_data",
          "data": {
            "image/png": "[encoded data removed]",
            "text/plain": [
              "<Figure size 432x288 with 1 Axes>"
            ]
          },
          "metadata": {
            "tags": [],
            "needs_background": "light"
          }
        }
      ]
    },
    {
      "cell_type": "code",
      "metadata": {
        "id": "ur2_FdCXr3wf"
      },
      "source": [
        ""
      ],
      "execution_count": null,
      "outputs": []
    }
  ]
}