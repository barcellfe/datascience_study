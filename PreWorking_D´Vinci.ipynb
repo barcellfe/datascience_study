{
  "nbformat": 4,
  "nbformat_minor": 0,
  "metadata": {
    "colab": {
      "name": "PreWorking D´Vinci.ipynb",
      "provenance": [],
      "collapsed_sections": [],
      "toc_visible": true,
      "include_colab_link": true
    },
    "kernelspec": {
      "name": "python3",
      "display_name": "Python 3"
    }
  },
  "cells": [
    {
      "cell_type": "markdown",
      "metadata": {
        "id": "view-in-github",
        "colab_type": "text"
      },
      "source": [
        "<a href=\"https://colab.research.google.com/github/barcellfe/datascience_study/blob/master/PreWorking_D%C2%B4Vinci.ipynb\" target=\"_parent\"><img src=\"https://colab.research.google.com/assets/colab-badge.svg\" alt=\"Open In Colab\"/></a>"
      ]
    },
    {
      "cell_type": "markdown",
      "metadata": {
        "id": "xmYKNlzmK9Yf",
        "colab_type": "text"
      },
      "source": [
        "Instituto [D'Vinci]³\n",
        "\n",
        "Pré-Working de Dados - Pipeline de Programação de Data Science em Python:\n",
        "\n",
        "Objetivos:\n",
        "1. Demonstrar um fluxo de processamento de análise de dados usando o Google Colaboratory\n",
        "2. Fluxo de carregamento de Bibliotecas\n",
        "3. Processo de Análise de Dados"
      ]
    },
    {
      "cell_type": "markdown",
      "metadata": {
        "id": "uhP5ZcFzisdN",
        "colab_type": "text"
      },
      "source": [
        "# Nova seção"
      ]
    },
    {
      "cell_type": "markdown",
      "metadata": {
        "id": "lHTTQ6efNodZ",
        "colab_type": "text"
      },
      "source": [
        "Instalação de novas bibliotecas:\n",
        "\n",
        "Para instalar novas bibliotecas dentro do ambiente do Colab é necessário dar o comando:\n",
        "\n",
        "!pip install matplotlib\n",
        "\n",
        "* !pip aciona o pip que é o repositório de bibliotecas junto com o conda\n",
        "* install é o argumento para instalar algo, poderia ser upgrade\n",
        "* matplotlib é uma biblioteca para gestão de gráficos"
      ]
    },
    {
      "cell_type": "code",
      "metadata": {
        "id": "nj42VNM2L5fY",
        "colab_type": "code",
        "colab": {
          "base_uri": "https://localhost:8080/",
          "height": 146
        },
        "outputId": "72ff9952-6fb8-4cde-b8b6-d74c16a037be"
      },
      "source": [
        "!pip install matplotlib"
      ],
      "execution_count": null,
      "outputs": [
        {
          "output_type": "stream",
          "text": [
            "Requirement already satisfied: matplotlib in /usr/local/lib/python3.6/dist-packages (3.2.2)\n",
            "Requirement already satisfied: cycler>=0.10 in /usr/local/lib/python3.6/dist-packages (from matplotlib) (0.10.0)\n",
            "Requirement already satisfied: kiwisolver>=1.0.1 in /usr/local/lib/python3.6/dist-packages (from matplotlib) (1.2.0)\n",
            "Requirement already satisfied: pyparsing!=2.0.4,!=2.1.2,!=2.1.6,>=2.0.1 in /usr/local/lib/python3.6/dist-packages (from matplotlib) (2.4.7)\n",
            "Requirement already satisfied: python-dateutil>=2.1 in /usr/local/lib/python3.6/dist-packages (from matplotlib) (2.8.1)\n",
            "Requirement already satisfied: numpy>=1.11 in /usr/local/lib/python3.6/dist-packages (from matplotlib) (1.18.5)\n",
            "Requirement already satisfied: six in /usr/local/lib/python3.6/dist-packages (from cycler>=0.10->matplotlib) (1.15.0)\n"
          ],
          "name": "stdout"
        }
      ]
    },
    {
      "cell_type": "code",
      "metadata": {
        "id": "hE-XMYnmiNz2",
        "colab_type": "code",
        "colab": {}
      },
      "source": [
        "import pandas as pd\n",
        "import numpy as np"
      ],
      "execution_count": null,
      "outputs": []
    },
    {
      "cell_type": "markdown",
      "metadata": {
        "id": "3Z4oogdOL89G",
        "colab_type": "text"
      },
      "source": [
        "\n",
        "\n",
        "1.   A linguagem Python funciona de forma modular, quando você carrega o ambiente, precisa carregar bibliotecas para que a linguagem adquira novas funcionalidades.\n",
        "2. Pandas é uma biblioteca de processamento de dados muito semelhante ao Excel. Por convenção, usa se o alias pd.\n",
        "\n",
        "3. Numpy (Numeric Python) é uma biblioteca de processamento de matrizes e de métodos numéricos, funciona de forma sinérgica com o Pandas, permitindo comandos de analise de dados que o Pandas não implementou. Tecnicamente, o Pandas foi escrito em cima do numpy.\n",
        "4. Sempre se importa bibliotecas com: **import biblioteca as x** ou from biblioteca import * , ou também, **from biblioteca, import estante as y**\n",
        "\n",
        "\n"
      ]
    },
    {
      "cell_type": "code",
      "metadata": {
        "id": "vAzyfUP2ieX3",
        "colab_type": "code",
        "colab": {}
      },
      "source": [
        "df = pd.read_csv('http://compras.dados.gov.br/materiais/v1/materiais.csv?grupo=65&offset=0')"
      ],
      "execution_count": null,
      "outputs": []
    },
    {
      "cell_type": "markdown",
      "metadata": {
        "id": "UD5N5vprO6Cu",
        "colab_type": "text"
      },
      "source": [
        "Importação e Exportação de Dados:\n",
        "\n",
        "Para se processar dados em Python é necessário que de alguma forma esse dado seja inserido na memória do computador.\n",
        "\n",
        "As bibliotecas pandas e numpy tem as ferramentas necessárias para se processar quase todo tipo de dados disponíveis.\n",
        "\n",
        "No exemplo anterior, acesamos a biblioteca pandas pelo atalho **pd.** e vamos usar a função **read_csv** e com ela acessar uma API. O resultado vai ser um objeto do tipo **dataframe**. Dataframes são objetos tabulares que são muito semelhantes às estruturas  de processadores de dados como o Excel."
      ]
    },
    {
      "cell_type": "code",
      "metadata": {
        "id": "Gwt2nr2ErnFO",
        "colab_type": "code",
        "colab": {}
      },
      "source": [
        "df"
      ],
      "execution_count": null,
      "outputs": []
    },
    {
      "cell_type": "markdown",
      "metadata": {
        "id": "B4nIsx_ZQn9r",
        "colab_type": "text"
      },
      "source": [
        "Exportação de dados:\n",
        "\n",
        "É possível salvar objetos dentro do colab ou dentro do google drive atrelado a conta do colab. Primeiramente, é necessário conhecer alguns comandos novos:\n",
        "\n",
        "Biblioteca **os**: (lembra operational system), é responsável por utilizar comandos de navegação de pastas ou criar ou checar por novas pastas dentro do sistema\n",
        "\n",
        "!pwd -> comando que mostra a pasta que você se encontra\n",
        "\n",
        "!mkdir -> comando que cria uma pasta dentro da estrutura de dados do Python\n",
        "\n",
        "cd ... -> navegar dentro de uma estrutura de pastas"
      ]
    },
    {
      "cell_type": "code",
      "metadata": {
        "id": "PU41czvoRxl1",
        "colab_type": "code",
        "colab": {
          "base_uri": "https://localhost:8080/",
          "height": 35
        },
        "outputId": "73d086b5-ce85-43b5-fbae-6e2079ded1c7"
      },
      "source": [
        "!pwd"
      ],
      "execution_count": null,
      "outputs": [
        {
          "output_type": "stream",
          "text": [
            "/content\n"
          ],
          "name": "stdout"
        }
      ]
    },
    {
      "cell_type": "code",
      "metadata": {
        "id": "8SoVGEIlSRx9",
        "colab_type": "code",
        "colab": {}
      },
      "source": [
        "!mkdir PreWorking"
      ],
      "execution_count": null,
      "outputs": []
    },
    {
      "cell_type": "code",
      "metadata": {
        "id": "dSy9JI0FSaFr",
        "colab_type": "code",
        "colab": {
          "base_uri": "https://localhost:8080/",
          "height": 35
        },
        "outputId": "69683760-94a4-435f-b7f3-6200eb4d4be0"
      },
      "source": [
        "cd /content/PreWorking"
      ],
      "execution_count": null,
      "outputs": [
        {
          "output_type": "stream",
          "text": [
            "/content/PreWorking\n"
          ],
          "name": "stdout"
        }
      ]
    },
    {
      "cell_type": "markdown",
      "metadata": {
        "id": "00Au4JwTTPqE",
        "colab_type": "text"
      },
      "source": [
        "Conectando com o gdrive.\n",
        "Ao carregar a biblioteca google.colab, o argumento gdrive permite salvar e carregar arquivos direto do Google File Stream para o Google Colab. Com isso, fica mais fácil trabalhar com arquivos remotos."
      ]
    },
    {
      "cell_type": "code",
      "metadata": {
        "id": "BTxAc3gYSlnd",
        "colab_type": "code",
        "colab": {
          "base_uri": "https://localhost:8080/",
          "height": 129
        },
        "outputId": "c7e6d246-d0e2-49c2-e1cf-32c795c014cc"
      },
      "source": [
        "from google.colab import drive\n",
        "drive.mount('/content/PreWorking/gdrive')"
      ],
      "execution_count": null,
      "outputs": [
        {
          "output_type": "stream",
          "text": [
            "Go to this URL in a browser: https://accounts.google.com/o/oauth2/auth?client_id=947318989803-6bn6qk8qdgf4n4g3pfee6491hc0brc4i.apps.googleusercontent.com&redirect_uri=urn%3aietf%3awg%3aoauth%3a2.0%3aoob&response_type=code&scope=email%20https%3a%2f%2fwww.googleapis.com%2fauth%2fdocs.test%20https%3a%2f%2fwww.googleapis.com%2fauth%2fdrive%20https%3a%2f%2fwww.googleapis.com%2fauth%2fdrive.photos.readonly%20https%3a%2f%2fwww.googleapis.com%2fauth%2fpeopleapi.readonly\n",
            "\n",
            "Enter your authorization code:\n",
            "··········\n",
            "Mounted at /content/PreWorking/gdrive\n"
          ],
          "name": "stdout"
        }
      ]
    },
    {
      "cell_type": "markdown",
      "metadata": {
        "id": "2zIvwI2lToik",
        "colab_type": "text"
      },
      "source": [
        "Salvando um arquivo dentro da pasta montada:\n",
        "\n",
        "Nesse processo, vamos baixar um dataframe parecido com o primeiro df e vamos salva-lo dentro do gdrive"
      ]
    },
    {
      "cell_type": "code",
      "metadata": {
        "id": "5sphArGeT2q-",
        "colab_type": "code",
        "colab": {}
      },
      "source": [
        "df1000 = pd.read_csv('http://compras.dados.gov.br/materiais/v1/materiais.csv?grupo=65&offset=1000')"
      ],
      "execution_count": null,
      "outputs": []
    },
    {
      "cell_type": "markdown",
      "metadata": {
        "id": "NvWz6wotUEJh",
        "colab_type": "text"
      },
      "source": [
        "Uma breve checada com o comando head() para saber se o arquivo está ok"
      ]
    },
    {
      "cell_type": "code",
      "metadata": {
        "id": "9egVX4-aUOm5",
        "colab_type": "code",
        "colab": {
          "base_uri": "https://localhost:8080/",
          "height": 310
        },
        "outputId": "f7095156-8dc3-4a21-fdb4-6ff81d27b6c1"
      },
      "source": [
        "df1000.head()"
      ],
      "execution_count": null,
      "outputs": [
        {
          "output_type": "execute_result",
          "data": {
            "text/html": [
              "<div>\n",
              "<style scoped>\n",
              "    .dataframe tbody tr th:only-of-type {\n",
              "        vertical-align: middle;\n",
              "    }\n",
              "\n",
              "    .dataframe tbody tr th {\n",
              "        vertical-align: top;\n",
              "    }\n",
              "\n",
              "    .dataframe thead th {\n",
              "        text-align: right;\n",
              "    }\n",
              "</style>\n",
              "<table border=\"1\" class=\"dataframe\">\n",
              "  <thead>\n",
              "    <tr style=\"text-align: right;\">\n",
              "      <th></th>\n",
              "      <th>Código do Item</th>\n",
              "      <th>Descrição do Item</th>\n",
              "      <th>Grupo</th>\n",
              "      <th>Classe</th>\n",
              "      <th>PDM</th>\n",
              "      <th>Status</th>\n",
              "      <th>Sustentável</th>\n",
              "    </tr>\n",
              "  </thead>\n",
              "  <tbody>\n",
              "    <tr>\n",
              "      <th>0</th>\n",
              "      <td>125806</td>\n",
              "      <td>OLEO DE TEREBENTINA, OLEO DE TEREBENTINA NOME</td>\n",
              "      <td>65: EQUIPAMENTOS E ARTIGOS PARA USO MÉDICO, DE...</td>\n",
              "      <td>6505: DROGAS E MEDICAMENTOS                   ...</td>\n",
              "      <td>10190: OLEO DE TEREBENTINA                    ...</td>\n",
              "      <td>Inativo</td>\n",
              "      <td>Não</td>\n",
              "    </tr>\n",
              "    <tr>\n",
              "      <th>1</th>\n",
              "      <td>125814</td>\n",
              "      <td>OLEO DE ANILINA, OLEO DE ANILINA NOME</td>\n",
              "      <td>65: EQUIPAMENTOS E ARTIGOS PARA USO MÉDICO, DE...</td>\n",
              "      <td>6505: DROGAS E MEDICAMENTOS                   ...</td>\n",
              "      <td>10175: OLEO DE ANILINA                        ...</td>\n",
              "      <td>Inativo</td>\n",
              "      <td>Não</td>\n",
              "    </tr>\n",
              "    <tr>\n",
              "      <th>2</th>\n",
              "      <td>125822</td>\n",
              "      <td>PICIBANIL, OLEO DE AMENDOIM NOME</td>\n",
              "      <td>65: EQUIPAMENTOS E ARTIGOS PARA USO MÉDICO, DE...</td>\n",
              "      <td>6505: DROGAS E MEDICAMENTOS                   ...</td>\n",
              "      <td>10174: PICIBANIL                              ...</td>\n",
              "      <td>Inativo</td>\n",
              "      <td>Não</td>\n",
              "    </tr>\n",
              "    <tr>\n",
              "      <th>3</th>\n",
              "      <td>125873</td>\n",
              "      <td>DISPOSITIVO APLICAÇÃO SOLUÇÕES SIMULTÂNEAS, DI...</td>\n",
              "      <td>65: EQUIPAMENTOS E ARTIGOS PARA USO MÉDICO, DE...</td>\n",
              "      <td>6515: INSTRUMENTOS, EQUIPAMENTOS E SUPRIMENTOS...</td>\n",
              "      <td>06324: DISPOSITIVO APLICAÇÃO SOLUÇÕES SIMULTÂN...</td>\n",
              "      <td>Inativo</td>\n",
              "      <td>Não</td>\n",
              "    </tr>\n",
              "    <tr>\n",
              "      <th>4</th>\n",
              "      <td>125911</td>\n",
              "      <td>LEVOFLOXACINO, LEVOFLOXACINO NOME</td>\n",
              "      <td>65: EQUIPAMENTOS E ARTIGOS PARA USO MÉDICO, DE...</td>\n",
              "      <td>6505: DROGAS E MEDICAMENTOS                   ...</td>\n",
              "      <td>08807: LEVOFLOXACINO                          ...</td>\n",
              "      <td>Inativo</td>\n",
              "      <td>Não</td>\n",
              "    </tr>\n",
              "  </tbody>\n",
              "</table>\n",
              "</div>"
            ],
            "text/plain": [
              "   Código do Item  ... Sustentável\n",
              "0          125806  ...         Não\n",
              "1          125814  ...         Não\n",
              "2          125822  ...         Não\n",
              "3          125873  ...         Não\n",
              "4          125911  ...         Não\n",
              "\n",
              "[5 rows x 7 columns]"
            ]
          },
          "metadata": {
            "tags": []
          },
          "execution_count": 14
        }
      ]
    },
    {
      "cell_type": "code",
      "metadata": {
        "colab_type": "code",
        "id": "MocY7mSoVNqC",
        "colab": {}
      },
      "source": [
        "!mkdir '/content/PreWorking/gdrive/My Drive/DataSets/'"
      ],
      "execution_count": null,
      "outputs": []
    },
    {
      "cell_type": "code",
      "metadata": {
        "id": "H8SpFIswVorJ",
        "colab_type": "code",
        "colab": {}
      },
      "source": [
        "!mkdir '/content/PreWorking/gdrive/My Drive/DataSets/PreWorking'"
      ],
      "execution_count": null,
      "outputs": []
    },
    {
      "cell_type": "markdown",
      "metadata": {
        "id": "aTa9EuDQWVho",
        "colab_type": "text"
      },
      "source": [
        "Para salvar o arquivo, basta usar o comando .to_csv e colocar o caminho completo do arquivo (pasta por pasta), somado de /nome_do_arquivo.csv.\n",
        "\n",
        "Depois basta checar para ver se salvou certo. "
      ]
    },
    {
      "cell_type": "code",
      "metadata": {
        "id": "NzUa8qN6UCoo",
        "colab_type": "code",
        "colab": {}
      },
      "source": [
        "df1000.to_csv('/content/PreWorking/gdrive/My Drive/DataSets/PreWorking/df1000.csv')"
      ],
      "execution_count": null,
      "outputs": []
    },
    {
      "cell_type": "code",
      "metadata": {
        "id": "mP7Y7LXQWrv_",
        "colab_type": "code",
        "colab": {}
      },
      "source": [
        "pd.read_csv('/content/PreWorking/gdrive/My Drive/DataSets/PreWorking/df1000.csv')"
      ],
      "execution_count": null,
      "outputs": []
    },
    {
      "cell_type": "code",
      "metadata": {
        "id": "Z2sjG5M-rV-W",
        "colab_type": "code",
        "colab": {}
      },
      "source": [
        "def downloader_material(x = 0):\n",
        "  x = x*500\n",
        "  temp = pd.read_csv('http://compras.dados.gov.br/materiais/v1/materiais.csv?grupo=65&offset=' + str(x))\n",
        "  return(temp)\n"
      ],
      "execution_count": null,
      "outputs": []
    },
    {
      "cell_type": "code",
      "metadata": {
        "id": "3mptv06eQLzr",
        "colab_type": "code",
        "colab": {}
      },
      "source": [
        "downloader_material(2)"
      ],
      "execution_count": null,
      "outputs": []
    },
    {
      "cell_type": "code",
      "metadata": {
        "id": "hs3Tj22ruJmZ",
        "colab_type": "code",
        "colab": {
          "base_uri": "https://localhost:8080/",
          "height": 49
        },
        "outputId": "d422bf09-c590-4fbf-8174-8a1e6c0ec4da"
      },
      "source": [
        "data_material = pd.DataFrame(columns = df.columns)\n",
        "data_material"
      ],
      "execution_count": null,
      "outputs": [
        {
          "output_type": "execute_result",
          "data": {
            "text/html": [
              "<div>\n",
              "<style scoped>\n",
              "    .dataframe tbody tr th:only-of-type {\n",
              "        vertical-align: middle;\n",
              "    }\n",
              "\n",
              "    .dataframe tbody tr th {\n",
              "        vertical-align: top;\n",
              "    }\n",
              "\n",
              "    .dataframe thead th {\n",
              "        text-align: right;\n",
              "    }\n",
              "</style>\n",
              "<table border=\"1\" class=\"dataframe\">\n",
              "  <thead>\n",
              "    <tr style=\"text-align: right;\">\n",
              "      <th></th>\n",
              "      <th>Código do Item</th>\n",
              "      <th>Descrição do Item</th>\n",
              "      <th>Grupo</th>\n",
              "      <th>Classe</th>\n",
              "      <th>PDM</th>\n",
              "      <th>Status</th>\n",
              "      <th>Sustentável</th>\n",
              "    </tr>\n",
              "  </thead>\n",
              "  <tbody>\n",
              "  </tbody>\n",
              "</table>\n",
              "</div>"
            ],
            "text/plain": [
              "Empty DataFrame\n",
              "Columns: [Código do Item, Descrição do Item, Grupo, Classe, PDM, Status, Sustentável]\n",
              "Index: []"
            ]
          },
          "metadata": {
            "tags": []
          },
          "execution_count": 60
        }
      ]
    },
    {
      "cell_type": "code",
      "metadata": {
        "id": "MyY7InwisBQD",
        "colab_type": "code",
        "colab": {}
      },
      "source": [
        "for i in range(0,10):\n",
        "  print(i) \n",
        "  temp = pd.DataFrame(downloader_material(i))\n",
        "  list_concat = [data_material, temp]\n",
        "  data_material = pd.concat(list_concat, ignore_index=True)\n",
        "  data_material.drop_duplicates()"
      ],
      "execution_count": null,
      "outputs": []
    },
    {
      "cell_type": "markdown",
      "metadata": {
        "id": "nns07-xTIvdW",
        "colab_type": "text"
      },
      "source": [
        "# Nova seção"
      ]
    },
    {
      "cell_type": "code",
      "metadata": {
        "id": "YhV3WWbEiym2",
        "colab_type": "code",
        "colab": {}
      },
      "source": [
        "#import numpy as np\n",
        "#np.unique(data_material['Grupo'])"
      ],
      "execution_count": null,
      "outputs": []
    },
    {
      "cell_type": "code",
      "metadata": {
        "id": "Wd3MECVbxuLi",
        "colab_type": "code",
        "colab": {}
      },
      "source": [
        "def range_downloader(a, b):\n",
        "  df = pd.read_csv('http://compras.dados.gov.br/materiais/v1/materiais.csv?offset=0')\n",
        "  data_material = pd.DataFrame(columns = df.columns)\n",
        "  try:\n",
        "    for i in range(a,b):\n",
        "      print(i) \n",
        "      temp = pd.DataFrame(downloader_material(i))\n",
        "      list_concat = [data_material, temp]\n",
        "      data_material = pd.concat(list_concat, ignore_index=True)\n",
        "      data_material.drop_duplicates()\n",
        "  except (RuntimeError, TypeError, NameError, AttributeError, BaseException):\n",
        "      print('Error on instance', i)\n",
        "      pass\n",
        "  return(data_material)"
      ],
      "execution_count": null,
      "outputs": []
    },
    {
      "cell_type": "code",
      "metadata": {
        "id": "wxeZ-n_gO-EX",
        "colab_type": "code",
        "colab": {}
      },
      "source": [
        "df1 = range_downloader(0,10)"
      ],
      "execution_count": null,
      "outputs": []
    },
    {
      "cell_type": "code",
      "metadata": {
        "id": "ecr5CS7KUkeP",
        "colab_type": "code",
        "colab": {}
      },
      "source": [
        "pd.set_option('display.max_rows', 500)\n",
        "df1"
      ],
      "execution_count": null,
      "outputs": []
    },
    {
      "cell_type": "code",
      "metadata": {
        "id": "-iRJUHR2s0on",
        "colab_type": "code",
        "colab": {}
      },
      "source": [
        "#pd.set_option('display.max_rows', 500)\n",
        "df1.head(100)"
      ],
      "execution_count": null,
      "outputs": []
    },
    {
      "cell_type": "code",
      "metadata": {
        "id": "CHtpGDZT-IRU",
        "colab_type": "code",
        "colab": {}
      },
      "source": [
        "df1[df1.Status == 'Ativo']"
      ],
      "execution_count": null,
      "outputs": []
    },
    {
      "cell_type": "code",
      "metadata": {
        "id": "KR5O_caXTiG6",
        "colab_type": "code",
        "colab": {}
      },
      "source": [
        "licitacao = pd.read_csv('http://compras.dados.gov.br/compraSemLicitacao/v1/itens_compras_slicitacao.csv?co_conjunto_materiais=216980')\n",
        "licitacao"
      ],
      "execution_count": null,
      "outputs": []
    },
    {
      "cell_type": "code",
      "metadata": {
        "id": "ubbaMfT1gA39",
        "colab_type": "code",
        "colab": {}
      },
      "source": [
        "licitacao[licitacao['Descrição justificativa'] == 'Justificativa: Aquisição de produtos e/ou serviços com valor inferior a R$ 35.200,00                                                         ']"
      ],
      "execution_count": null,
      "outputs": []
    },
    {
      "cell_type": "code",
      "metadata": {
        "id": "Nm97_qhVvVAq",
        "colab_type": "code",
        "colab": {}
      },
      "source": [
        "np.unique(licitacao['Descrição justificativa'])"
      ],
      "execution_count": null,
      "outputs": []
    },
    {
      "cell_type": "code",
      "metadata": {
        "id": "Cja-miYA2nj9",
        "colab_type": "code",
        "colab": {}
      },
      "source": [
        "data_material_100 = range_downloader(51, 100)"
      ],
      "execution_count": null,
      "outputs": []
    },
    {
      "cell_type": "code",
      "metadata": {
        "id": "ew2edIkJOYAH",
        "colab_type": "code",
        "colab": {}
      },
      "source": [
        "compras = pd.read_csv('http://compras.dados.gov.br/licitacoes/v1/licitacoes.csv?item_material=216982')\n",
        "compras.head()"
      ],
      "execution_count": null,
      "outputs": []
    },
    {
      "cell_type": "code",
      "metadata": {
        "id": "l8vY8FzqCCOs",
        "colab_type": "code",
        "colab": {}
      },
      "source": [
        "data_material_100"
      ],
      "execution_count": null,
      "outputs": []
    }
  ]
}