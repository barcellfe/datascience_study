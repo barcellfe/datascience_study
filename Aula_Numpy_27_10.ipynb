{
  "nbformat": 4,
  "nbformat_minor": 0,
  "metadata": {
    "colab": {
      "name": "Aula_Numpy_27-10.ipynb",
      "provenance": [],
      "authorship_tag": "ABX9TyMSmDuKXWV06rEIRikeJfak",
      "include_colab_link": true
    },
    "kernelspec": {
      "name": "python3",
      "display_name": "Python 3"
    }
  },
  "cells": [
    {
      "cell_type": "markdown",
      "metadata": {
        "id": "view-in-github",
        "colab_type": "text"
      },
      "source": [
        "<a href=\"https://colab.research.google.com/github/barcellfe/datascience_study/blob/master/Aula_Numpy_27_10.ipynb\" target=\"_parent\"><img src=\"https://colab.research.google.com/assets/colab-badge.svg\" alt=\"Open In Colab\"/></a>"
      ]
    },
    {
      "cell_type": "markdown",
      "metadata": {
        "id": "REz8g9aOXxdZ"
      },
      "source": [
        "# Sobre Numpy - Cap. 4 do Livro"
      ]
    },
    {
      "cell_type": "code",
      "metadata": {
        "id": "CbRjOwTGXqkw"
      },
      "source": [
        "import numpy as np"
      ],
      "execution_count": null,
      "outputs": []
    },
    {
      "cell_type": "code",
      "metadata": {
        "id": "YNNrNnpJXunZ",
        "outputId": "bba9f71b-a086-4551-918a-76a3cc1a7f27",
        "colab": {
          "base_uri": "https://localhost:8080/",
          "height": 34
        }
      },
      "source": [
        "obj = np.array([10, 20, 30, 40, 50, 60, 70, 80])\n",
        "print(obj)"
      ],
      "execution_count": null,
      "outputs": [
        {
          "output_type": "stream",
          "text": [
            "[10 20 30 40 50 60 70 80]\n"
          ],
          "name": "stdout"
        }
      ]
    },
    {
      "cell_type": "code",
      "metadata": {
        "id": "vrtiM7KoYlD7",
        "outputId": "12809822-f951-4360-d35a-1c31bd68af4f",
        "colab": {
          "base_uri": "https://localhost:8080/",
          "height": 34
        }
      },
      "source": [
        "type(obj)"
      ],
      "execution_count": null,
      "outputs": [
        {
          "output_type": "execute_result",
          "data": {
            "text/plain": [
              "numpy.ndarray"
            ]
          },
          "metadata": {
            "tags": []
          },
          "execution_count": 6
        }
      ]
    },
    {
      "cell_type": "code",
      "metadata": {
        "id": "3nsIt-H8Y_1L",
        "outputId": "5f09e0c4-8cd0-4f60-9d93-1e65aae85e44",
        "colab": {
          "base_uri": "https://localhost:8080/",
          "height": 34
        }
      },
      "source": [
        "obj.shape[0]"
      ],
      "execution_count": null,
      "outputs": [
        {
          "output_type": "execute_result",
          "data": {
            "text/plain": [
              "8"
            ]
          },
          "metadata": {
            "tags": []
          },
          "execution_count": 8
        }
      ]
    },
    {
      "cell_type": "code",
      "metadata": {
        "id": "UR3jVe86ZEN-"
      },
      "source": [
        "obj.ndim"
      ],
      "execution_count": null,
      "outputs": []
    },
    {
      "cell_type": "markdown",
      "metadata": {
        "id": "YXenHWIlgisR"
      },
      "source": [
        "Tarefa ** Estudar conceito de cubos OLAP**"
      ]
    },
    {
      "cell_type": "code",
      "metadata": {
        "id": "_Z0wF5y2Z9Ms"
      },
      "source": [
        ""
      ],
      "execution_count": null,
      "outputs": []
    }
  ]
}