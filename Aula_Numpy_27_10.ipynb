{
  "nbformat": 4,
  "nbformat_minor": 0,
  "metadata": {
    "colab": {
      "name": "Aula_Numpy_27-10.ipynb",
      "provenance": [],
      "toc_visible": true,
      "authorship_tag": "ABX9TyOLE8bRMJIFuQ0DwLckczts",
      "include_colab_link": true
    },
    "kernelspec": {
      "name": "python3",
      "display_name": "Python 3"
    }
  },
  "cells": [
    {
      "cell_type": "markdown",
      "metadata": {
        "id": "view-in-github",
        "colab_type": "text"
      },
      "source": [
        "<a href=\"https://colab.research.google.com/github/barcellfe/datascience_study/blob/master/Aula_Numpy_27_10.ipynb\" target=\"_parent\"><img src=\"https://colab.research.google.com/assets/colab-badge.svg\" alt=\"Open In Colab\"/></a>"
      ]
    },
    {
      "cell_type": "markdown",
      "metadata": {
        "id": "REz8g9aOXxdZ"
      },
      "source": [
        "# Sobre Numpy - Cap. 4 do Livro"
      ]
    },
    {
      "cell_type": "code",
      "metadata": {
        "id": "CbRjOwTGXqkw"
      },
      "source": [
        "import numpy as np"
      ],
      "execution_count": 10,
      "outputs": []
    },
    {
      "cell_type": "code",
      "metadata": {
        "id": "YNNrNnpJXunZ",
        "outputId": "bba9f71b-a086-4551-918a-76a3cc1a7f27",
        "colab": {
          "base_uri": "https://localhost:8080/",
          "height": 34
        }
      },
      "source": [
        "obj = np.array([10, 20, 30, 40, 50, 60, 70, 80])\n",
        "print(obj)"
      ],
      "execution_count": null,
      "outputs": [
        {
          "output_type": "stream",
          "text": [
            "[10 20 30 40 50 60 70 80]\n"
          ],
          "name": "stdout"
        }
      ]
    },
    {
      "cell_type": "code",
      "metadata": {
        "id": "vrtiM7KoYlD7",
        "outputId": "12809822-f951-4360-d35a-1c31bd68af4f",
        "colab": {
          "base_uri": "https://localhost:8080/",
          "height": 34
        }
      },
      "source": [
        "type(obj)"
      ],
      "execution_count": null,
      "outputs": [
        {
          "output_type": "execute_result",
          "data": {
            "text/plain": [
              "numpy.ndarray"
            ]
          },
          "metadata": {
            "tags": []
          },
          "execution_count": 6
        }
      ]
    },
    {
      "cell_type": "code",
      "metadata": {
        "id": "3nsIt-H8Y_1L",
        "outputId": "5f09e0c4-8cd0-4f60-9d93-1e65aae85e44",
        "colab": {
          "base_uri": "https://localhost:8080/",
          "height": 34
        }
      },
      "source": [
        "obj.shape[0]"
      ],
      "execution_count": null,
      "outputs": [
        {
          "output_type": "execute_result",
          "data": {
            "text/plain": [
              "8"
            ]
          },
          "metadata": {
            "tags": []
          },
          "execution_count": 8
        }
      ]
    },
    {
      "cell_type": "code",
      "metadata": {
        "id": "UR3jVe86ZEN-"
      },
      "source": [
        "obj.ndim"
      ],
      "execution_count": null,
      "outputs": []
    },
    {
      "cell_type": "markdown",
      "metadata": {
        "id": "YXenHWIlgisR"
      },
      "source": [
        "** Estudar conceito de cubos OLAP** Tarefa"
      ]
    },
    {
      "cell_type": "code",
      "metadata": {
        "id": "_Z0wF5y2Z9Ms"
      },
      "source": [
        "## Exerc. VPL\n",
        "from matplotlib import pyplot as plt"
      ],
      "execution_count": 11,
      "outputs": []
    },
    {
      "cell_type": "code",
      "metadata": {
        "id": "W1JSGb3zt1iS"
      },
      "source": [
        "## Criando a função\n",
        "def VPL(x, i):\n",
        "  x = np.array(x)\n",
        "  n = len(x)\n",
        "  n = np.arange(1,n+1)\n",
        "  #(1, n+1)\n",
        "  vp = x/((1 + i/100)**n)\n",
        "  plt.plot(vp, label = 'VPL')\n",
        "  plt.plot(x, label = 'Pagamento')\n",
        "  plt.legend()\n",
        "  vp = sum(vp)\n",
        "  return(vp)"
      ],
      "execution_count": 14,
      "outputs": []
    },
    {
      "cell_type": "code",
      "metadata": {
        "id": "PPmONohNuHHW",
        "outputId": "18851b5c-bd16-4583-c33f-6839ce5e3e1b",
        "colab": {
          "base_uri": "https://localhost:8080/",
          "height": 282
        }
      },
      "source": [
        "VPL(x=[2000, 2000, 2000, 2000, 2000, 2000, 2000, 2000, 2000, 2000, 2000, 2000], i= 8)"
      ],
      "execution_count": 15,
      "outputs": [
        {
          "output_type": "execute_result",
          "data": {
            "text/plain": [
              "15072.156033850204"
            ]
          },
          "metadata": {
            "tags": []
          },
          "execution_count": 15
        },
        {
          "output_type": "display_data",
          "data": {
            "image/png": "[encoded data removed]",
            "text/plain": [
              "<Figure size 432x288 with 1 Axes>"
            ]
          },
          "metadata": {
            "tags": [],
            "needs_background": "light"
          }
        }
      ]
    },
    {
      "cell_type": "code",
      "metadata": {
        "id": "PBwBjSWavnN7"
      },
      "source": [
        ""
      ],
      "execution_count": null,
      "outputs": []
    }
  ]
}