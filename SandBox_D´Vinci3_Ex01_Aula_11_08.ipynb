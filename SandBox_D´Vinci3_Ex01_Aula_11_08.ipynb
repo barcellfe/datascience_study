{
  "nbformat": 4,
  "nbformat_minor": 0,
  "metadata": {
    "colab": {
      "name": "SandBox D´Vinci3 Ex01 Aula 11-08.ipynb",
      "provenance": [],
      "collapsed_sections": [],
      "mount_file_id": "1tAUoEJSPZGbY9S3Gy4JJ5Wd40BVuqVqM",
      "authorship_tag": "ABX9TyMOAhIizg2kuFTmyRimdC7u",
      "include_colab_link": true
    },
    "kernelspec": {
      "name": "python3",
      "display_name": "Python 3"
    }
  },
  "cells": [
    {
      "cell_type": "markdown",
      "metadata": {
        "id": "view-in-github",
        "colab_type": "text"
      },
      "source": [
        "<a href=\"https://colab.research.google.com/github/barcellfe/datascience_study/blob/master/SandBox_D%C2%B4Vinci3_Ex01_Aula_11_08.ipynb\" target=\"_parent\"><img src=\"https://colab.research.google.com/assets/colab-badge.svg\" alt=\"Open In Colab\"/></a>"
      ]
    },
    {
      "cell_type": "markdown",
      "metadata": {
        "id": "9hoJ5beo0to8",
        "colab_type": "text"
      },
      "source": [
        "**Aula 11 de Agosto de 2020** \n",
        "\n"
      ]
    },
    {
      "cell_type": "markdown",
      "metadata": {
        "id": "knLTBEy-2P7J",
        "colab_type": "text"
      },
      "source": [
        "**Conceitos & Exercícios em Python**\n",
        "\n",
        "*Exercícios:*\n",
        "\n",
        "1. A partir do jogo dado em aula, criar uma forma de pontuação onde o jogador inicia com 1000 pontos e a cada erro é retirado desses 1000 pontos a diferença do numero chutado para o numero secreto"
      ]
    },
    {
      "cell_type": "markdown",
      "metadata": {
        "id": "sJ_6lRyC4Ar9",
        "colab_type": "text"
      },
      "source": [
        "**Preparando o ambiente**\n",
        "inicializando bibliotecas\n"
      ]
    },
    {
      "cell_type": "code",
      "metadata": {
        "id": "B7VTUYI-39ua",
        "colab_type": "code",
        "colab": {}
      },
      "source": [
        "import pandas as pd\n",
        "import numpy as np\n",
        "import random as rd"
      ],
      "execution_count": 2,
      "outputs": []
    },
    {
      "cell_type": "markdown",
      "metadata": {
        "id": "aLKXVbOY9ItN",
        "colab_type": "text"
      },
      "source": [
        "**Tentativa de Solução**"
      ]
    },
    {
      "cell_type": "code",
      "metadata": {
        "id": "LG04xRnT80e1",
        "colab_type": "code",
        "colab": {
          "base_uri": "https://localhost:8080/",
          "height": 283
        },
        "outputId": "487a6489-5eea-43cf-e504-a92167a82024"
      },
      "source": [
        "print('Bem vindo ao jogo de Adivinhação!')\n",
        "numero_secreto = rd.randrange(1,100,1)\n",
        "total_tentativas = 0\n",
        "total_pontos = 1000\n",
        "\n",
        "print('Qual nivel de dificuldade?')\n",
        "print('(1) Fácil (2) Médio (3) Difícil')\n",
        "\n",
        "nivel = int(input('Defina o nivel'))\n",
        "\n",
        "if (nivel == 1):\n",
        "  total_tentativas = 20\n",
        "elif (nivel == 2):\n",
        "  total_tentativas = 10\n",
        "elif (nivel == 3):\n",
        "  total_tentativas = 5\n",
        "\n",
        "for rodada in range(0,total_tentativas):\n",
        "\n",
        "  print ('Tentativa: {} de {}'.format(rodada + 1, total_tentativas))\n",
        "\n",
        "  # linha de codigo inserido para o exercício\n",
        "  print ('O seu Total de Pontos:{}'.format(total_pontos))                       \n",
        "  # linha de codigo inserido para o exercício\n",
        "\n",
        "  chute_str = input('Digite um número entr 1 e 100:')\n",
        "  print('Você digitou o numero: ', chute_str)\n",
        "  chute = int(chute_str)\n",
        "\n",
        "  if (chute < 1 or chute > 100):\n",
        "    print('Seu número precisa estar entre 1 e 100')\n",
        "    continue\n",
        "\n",
        "  acertou = chute == numero_secreto\n",
        "  menor = chute < numero_secreto\n",
        "\n",
        "  if (acertou):\n",
        "    print('Você acertou!')\n",
        "    break\n",
        "\n",
        "  elif (menor):\n",
        "    print('O seu chute foi menor que o número secreto!')\n",
        "    # linha de codigo inserida para o exercicio\n",
        "    dif = abs((numero_secreto - chute))\n",
        "    total_pontos = total_pontos - dif                                            # pode ficar negativo usamos abs(dif)\n",
        "    # linha de codigo inserida para o exercicio\n",
        "  else:\n",
        "    print('O seu chute foi maior que o número secreto!')\n",
        "    # linha de codigo inserida para o exercicio\n",
        "    dif = abs((numero_secreto - chute))\n",
        "    total_pontos = total_pontos - dif                                            # pode ficar negativo usamos abs(dif) \n",
        "    # linha de codigo inserida para o exercicio\n",
        "\n",
        "\n",
        "print('Fim do jogo, o numero secreto era {} e o seus pontos são {}'.format(numero_secreto, total_pontos))     #linha de codigo alterada com e o seus pontos são {} e total_pontos"
      ],
      "execution_count": 4,
      "outputs": [
        {
          "output_type": "stream",
          "text": [
            "Bem vindo ao jogo de Adivinhação!\n",
            "Qual nivel de dificuldade?\n",
            "(1) Fácil (2) Médio (3) Difícil\n",
            "Defina o nivel1\n",
            "Tentativa: 1 de 20\n",
            "O seu Total de Pontos:1000\n",
            "Digite um número entr 1 e 100:51\n",
            "Você digitou o numero:  51\n",
            "O seu chute foi menor que o número secreto!\n",
            "Tentativa: 2 de 20\n",
            "O seu Total de Pontos:956\n",
            "Digite um número entr 1 e 100:95\n",
            "Você digitou o numero:  95\n",
            "Você acertou!\n",
            "Fim do jogo, o numero secreto era 95 e o seus pontos são 956\n"
          ],
          "name": "stdout"
        }
      ]
    }
  ]
}