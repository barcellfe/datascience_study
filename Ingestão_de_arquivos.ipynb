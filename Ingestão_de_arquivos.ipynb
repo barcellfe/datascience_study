{
  "nbformat": 4,
  "nbformat_minor": 0,
  "metadata": {
    "colab": {
      "name": "Ingestão de arquivos.ipynb",
      "provenance": [],
      "collapsed_sections": [],
      "include_colab_link": true
    },
    "kernelspec": {
      "name": "python3",
      "display_name": "Python 3"
    }
  },
  "cells": [
    {
      "cell_type": "markdown",
      "metadata": {
        "id": "view-in-github",
        "colab_type": "text"
      },
      "source": [
        "<a href=\"https://colab.research.google.com/github/barcellfe/datascience_study/blob/master/Ingest%C3%A3o_de_arquivos.ipynb\" target=\"_parent\"><img src=\"https://colab.research.google.com/assets/colab-badge.svg\" alt=\"Open In Colab\"/></a>"
      ]
    },
    {
      "cell_type": "code",
      "metadata": {
        "id": "PpsVQfaWrJhQ",
        "colab_type": "code",
        "colab": {
          "base_uri": "https://localhost:8080/",
          "height": 161
        },
        "outputId": "9dd557e6-ae1f-437a-dd6f-72ca9213c7db"
      },
      "source": [
        "!pip install -U -q PyDrive\n",
        "import os\n",
        "from pydrive.auth import GoogleAuth\n",
        "from pydrive.drive import GoogleDrive\n",
        "from google.colab import auth\n",
        "from oauth2client.client import GoogleCredentials\n",
        "import pandas as pd\n",
        "\n",
        "# criando dataframe de arquivos\n",
        "df = pd.DataFrame(columns=['Nome'])\n",
        "\n",
        "# Autenticar e criar o cliente PyDrive.\n",
        "auth.authenticate_user()\n",
        "gauth = GoogleAuth()\n",
        "gauth.credentials = GoogleCredentials.get_application_default()\n",
        "drive = GoogleDrive(gauth)\n",
        "\n",
        "# Escolher um diretório local (colab) para armazenar os dados.\n",
        "local_download_path = os.path.expanduser('~/content/data')\n",
        "try:\n",
        "  os.makedirs(local_download_path)\n",
        "except: pass\n",
        "\n",
        "# repitir usando a sintaxe de consulta\n",
        "#    https://developers.google.com/drive/v2/web/search-parameters\n",
        "file_list = drive.ListFile(\n",
        "    {'q': \"'1XA7oJ2y7VFf1G2FvHvN6kLxVoAsh2bcp' in parents\"}).GetList()\n",
        "print(file_list)\n",
        "for f in file_list:\n",
        "  # Crie e baixe por id\n",
        "  print('title: %s, id: %s' % (f['title'], f['id']))\n",
        "  fname = os.path.join(local_download_path, f['title'])\n",
        "  print('downloading to {}'.format(fname))\n",
        "  f_ = drive.CreateFile({'id': f['id']})\n",
        "  f_.GetContentFile(fname) \n",
        "  df = df.append({'Nome': f['title']}, ignore_index=True)\n",
        "  \n",
        "  "
      ],
      "execution_count": 1,
      "outputs": [
        {
          "output_type": "stream",
          "text": [
            "[GoogleDriveFile({'kind': 'drive#file', 'id': '1uZS0PjF3rRHiR7INuh4ZmLZNiVDjsOM7', 'etag': '\"MTU5ODQ2MjQ4NDAwMA\"', 'selfLink': 'https://www.googleapis.com/drive/v2/files/1uZS0PjF3rRHiR7INuh4ZmLZNiVDjsOM7', 'webContentLink': 'https://drive.google.com/uc?id=1uZS0PjF3rRHiR7INuh4ZmLZNiVDjsOM7&export=download', 'alternateLink': 'https://drive.google.com/file/d/1uZS0PjF3rRHiR7INuh4ZmLZNiVDjsOM7/view?usp=drivesdk', 'embedLink': 'https://drive.google.com/file/d/1uZS0PjF3rRHiR7INuh4ZmLZNiVDjsOM7/preview?usp=drivesdk', 'iconLink': 'https://drive-thirdparty.googleusercontent.com/16/type/text/plain', 'thumbnailLink': 'https://lh3.googleusercontent.com/bKhhe7a8lgag42xTe8naaptWoV25LpTcU7w5oNufX7ET_EKRYa2cHt1XRp_MYTnjZjZAV9TI1wA=s220', 'title': 'teste 3.txt', 'mimeType': 'text/plain', 'labels': {'starred': False, 'hidden': False, 'trashed': False, 'restricted': False, 'viewed': False}, 'copyRequiresWriterPermission': False, 'createdDate': '2020-08-26T17:21:40.527Z', 'modifiedDate': '2020-08-26T17:21:24.000Z', 'markedViewedByMeDate': '1970-01-01T00:00:00.000Z', 'version': '4', 'parents': [{'kind': 'drive#parentReference', 'id': '1XA7oJ2y7VFf1G2FvHvN6kLxVoAsh2bcp', 'selfLink': 'https://www.googleapis.com/drive/v2/files/1uZS0PjF3rRHiR7INuh4ZmLZNiVDjsOM7/parents/1XA7oJ2y7VFf1G2FvHvN6kLxVoAsh2bcp', 'parentLink': 'https://www.googleapis.com/drive/v2/files/1XA7oJ2y7VFf1G2FvHvN6kLxVoAsh2bcp', 'isRoot': False}], 'downloadUrl': 'https://www.googleapis.com/drive/v2/files/1uZS0PjF3rRHiR7INuh4ZmLZNiVDjsOM7?alt=media&source=downloadUrl', 'userPermission': {'kind': 'drive#permission', 'etag': '\"zwBvdN7HPoukJaecHTPvanQSLH8\"', 'id': 'me', 'selfLink': 'https://www.googleapis.com/drive/v2/files/1uZS0PjF3rRHiR7INuh4ZmLZNiVDjsOM7/permissions/me', 'role': 'reader', 'type': 'user'}, 'originalFilename': 'teste 3.txt', 'fileExtension': 'txt', 'md5Checksum': '20cd779ae75d7f6cec05c7c205cc7245', 'fileSize': '9', 'quotaBytesUsed': '0', 'ownerNames': ['Rodrigo Souza'], 'owners': [{'kind': 'drive#user', 'displayName': 'Rodrigo Souza', 'picture': {'url': 'https://lh3.googleusercontent.com/-nfKWGwP0gs4/AAAAAAAAAAI/AAAAAAAAACg/fO70raQyMBk/s64/photo.jpg'}, 'isAuthenticatedUser': False, 'permissionId': '17041220277093051082', 'emailAddress': 'rodrigoapdesouza@gmail.com'}], 'lastModifyingUserName': 'Rodrigo Souza', 'lastModifyingUser': {'kind': 'drive#user', 'displayName': 'Rodrigo Souza', 'picture': {'url': 'https://lh3.googleusercontent.com/-nfKWGwP0gs4/AAAAAAAAAAI/AAAAAAAAACg/fO70raQyMBk/s64/photo.jpg'}, 'isAuthenticatedUser': False, 'permissionId': '17041220277093051082', 'emailAddress': 'rodrigoapdesouza@gmail.com'}, 'capabilities': {'canCopy': True, 'canEdit': False}, 'editable': False, 'copyable': True, 'writersCanShare': True, 'shared': True, 'explicitlyTrashed': False, 'appDataContents': False, 'headRevisionId': '0BwDZK7_FKIYcY0h0V1lzN0tOaEZGS1g4RlZkaDhNdGhwSDFNPQ', 'spaces': ['drive']}), GoogleDriveFile({'kind': 'drive#file', 'id': '1XiNOY3qffasP2lJascX_zs1l8hbn4Cyj', 'etag': '\"MTU5ODQ2MjQ3NTAwMA\"', 'selfLink': 'https://www.googleapis.com/drive/v2/files/1XiNOY3qffasP2lJascX_zs1l8hbn4Cyj', 'webContentLink': 'https://drive.google.com/uc?id=1XiNOY3qffasP2lJascX_zs1l8hbn4Cyj&export=download', 'alternateLink': 'https://drive.google.com/file/d/1XiNOY3qffasP2lJascX_zs1l8hbn4Cyj/view?usp=drivesdk', 'embedLink': 'https://drive.google.com/file/d/1XiNOY3qffasP2lJascX_zs1l8hbn4Cyj/preview?usp=drivesdk', 'iconLink': 'https://drive-thirdparty.googleusercontent.com/16/type/text/plain', 'thumbnailLink': 'https://lh3.googleusercontent.com/fN0_JBeK66O1X7a5t_obPjMKGa4C7SIzx-bTM95k83DiDh2C-_ggkeU_BD-imJHFpLXULAZC0U0=s220', 'title': 'teste 2.txt', 'mimeType': 'text/plain', 'labels': {'starred': False, 'hidden': False, 'trashed': False, 'restricted': False, 'viewed': False}, 'copyRequiresWriterPermission': False, 'createdDate': '2020-08-26T17:21:40.755Z', 'modifiedDate': '2020-08-26T17:21:15.000Z', 'markedViewedByMeDate': '1970-01-01T00:00:00.000Z', 'version': '4', 'parents': [{'kind': 'drive#parentReference', 'id': '1XA7oJ2y7VFf1G2FvHvN6kLxVoAsh2bcp', 'selfLink': 'https://www.googleapis.com/drive/v2/files/1XiNOY3qffasP2lJascX_zs1l8hbn4Cyj/parents/1XA7oJ2y7VFf1G2FvHvN6kLxVoAsh2bcp', 'parentLink': 'https://www.googleapis.com/drive/v2/files/1XA7oJ2y7VFf1G2FvHvN6kLxVoAsh2bcp', 'isRoot': False}], 'downloadUrl': 'https://www.googleapis.com/drive/v2/files/1XiNOY3qffasP2lJascX_zs1l8hbn4Cyj?alt=media&source=downloadUrl', 'userPermission': {'kind': 'drive#permission', 'etag': '\"8GbYfcs052nwNlLKkw-fWysN20M\"', 'id': 'me', 'selfLink': 'https://www.googleapis.com/drive/v2/files/1XiNOY3qffasP2lJascX_zs1l8hbn4Cyj/permissions/me', 'role': 'reader', 'type': 'user'}, 'originalFilename': 'teste 2.txt', 'fileExtension': 'txt', 'md5Checksum': 'bf9a42d8a2a623c82b9ec680223f1da4', 'fileSize': '9', 'quotaBytesUsed': '0', 'ownerNames': ['Rodrigo Souza'], 'owners': [{'kind': 'drive#user', 'displayName': 'Rodrigo Souza', 'picture': {'url': 'https://lh3.googleusercontent.com/-nfKWGwP0gs4/AAAAAAAAAAI/AAAAAAAAACg/fO70raQyMBk/s64/photo.jpg'}, 'isAuthenticatedUser': False, 'permissionId': '17041220277093051082', 'emailAddress': 'rodrigoapdesouza@gmail.com'}], 'lastModifyingUserName': 'Rodrigo Souza', 'lastModifyingUser': {'kind': 'drive#user', 'displayName': 'Rodrigo Souza', 'picture': {'url': 'https://lh3.googleusercontent.com/-nfKWGwP0gs4/AAAAAAAAAAI/AAAAAAAAACg/fO70raQyMBk/s64/photo.jpg'}, 'isAuthenticatedUser': False, 'permissionId': '17041220277093051082', 'emailAddress': 'rodrigoapdesouza@gmail.com'}, 'capabilities': {'canCopy': True, 'canEdit': False}, 'editable': False, 'copyable': True, 'writersCanShare': True, 'shared': True, 'explicitlyTrashed': False, 'appDataContents': False, 'headRevisionId': '0BwDZK7_FKIYcMllyclloUXFZS2lJOEFPYmNYU2NIRlBhWEswPQ', 'spaces': ['drive']}), GoogleDriveFile({'kind': 'drive#file', 'id': '17xRu7vIXOwrgfLIIy-IBJSBjgk8BswWA', 'etag': '\"MTU5ODQ2MTk5MjAwMA\"', 'selfLink': 'https://www.googleapis.com/drive/v2/files/17xRu7vIXOwrgfLIIy-IBJSBjgk8BswWA', 'webContentLink': 'https://drive.google.com/uc?id=17xRu7vIXOwrgfLIIy-IBJSBjgk8BswWA&export=download', 'alternateLink': 'https://drive.google.com/file/d/17xRu7vIXOwrgfLIIy-IBJSBjgk8BswWA/view?usp=drivesdk', 'embedLink': 'https://drive.google.com/file/d/17xRu7vIXOwrgfLIIy-IBJSBjgk8BswWA/preview?usp=drivesdk', 'iconLink': 'https://drive-thirdparty.googleusercontent.com/16/type/text/plain', 'thumbnailLink': 'https://lh3.googleusercontent.com/Cuq5PtiG6IqGnUsX3nCBM9avIp_MPtpXRwdJc2Lql8CnmoeKk_K7HPQv7s29vKqlT7d9kSywlSs=s220', 'title': 'teste.txt', 'mimeType': 'text/plain', 'labels': {'starred': False, 'hidden': False, 'trashed': False, 'restricted': False, 'viewed': False}, 'copyRequiresWriterPermission': False, 'createdDate': '2020-08-26T17:13:29.327Z', 'modifiedDate': '2020-08-26T17:13:12.000Z', 'markedViewedByMeDate': '1970-01-01T00:00:00.000Z', 'version': '4', 'parents': [{'kind': 'drive#parentReference', 'id': '1XA7oJ2y7VFf1G2FvHvN6kLxVoAsh2bcp', 'selfLink': 'https://www.googleapis.com/drive/v2/files/17xRu7vIXOwrgfLIIy-IBJSBjgk8BswWA/parents/1XA7oJ2y7VFf1G2FvHvN6kLxVoAsh2bcp', 'parentLink': 'https://www.googleapis.com/drive/v2/files/1XA7oJ2y7VFf1G2FvHvN6kLxVoAsh2bcp', 'isRoot': False}], 'downloadUrl': 'https://www.googleapis.com/drive/v2/files/17xRu7vIXOwrgfLIIy-IBJSBjgk8BswWA?alt=media&source=downloadUrl', 'userPermission': {'kind': 'drive#permission', 'etag': '\"U1YPCjvHOpYWMEsS2Gue-XnIDm0\"', 'id': 'me', 'selfLink': 'https://www.googleapis.com/drive/v2/files/17xRu7vIXOwrgfLIIy-IBJSBjgk8BswWA/permissions/me', 'role': 'reader', 'type': 'user'}, 'originalFilename': 'teste.txt', 'fileExtension': 'txt', 'md5Checksum': '513b74bc1c5b92743bd4411cb160490e', 'fileSize': '14', 'quotaBytesUsed': '0', 'ownerNames': ['Rodrigo Souza'], 'owners': [{'kind': 'drive#user', 'displayName': 'Rodrigo Souza', 'picture': {'url': 'https://lh3.googleusercontent.com/-nfKWGwP0gs4/AAAAAAAAAAI/AAAAAAAAACg/fO70raQyMBk/s64/photo.jpg'}, 'isAuthenticatedUser': False, 'permissionId': '17041220277093051082', 'emailAddress': 'rodrigoapdesouza@gmail.com'}], 'lastModifyingUserName': 'Rodrigo Souza', 'lastModifyingUser': {'kind': 'drive#user', 'displayName': 'Rodrigo Souza', 'picture': {'url': 'https://lh3.googleusercontent.com/-nfKWGwP0gs4/AAAAAAAAAAI/AAAAAAAAACg/fO70raQyMBk/s64/photo.jpg'}, 'isAuthenticatedUser': False, 'permissionId': '17041220277093051082', 'emailAddress': 'rodrigoapdesouza@gmail.com'}, 'capabilities': {'canCopy': True, 'canEdit': False}, 'editable': False, 'copyable': True, 'writersCanShare': True, 'shared': True, 'explicitlyTrashed': False, 'appDataContents': False, 'headRevisionId': '0BwDZK7_FKIYcT0x4aDNEK1VUOTJZYkVPYllLd0tyYVlqeTNzPQ', 'spaces': ['drive']})]\n",
            "title: teste 3.txt, id: 1uZS0PjF3rRHiR7INuh4ZmLZNiVDjsOM7\n",
            "downloading to /root/content/data/teste 3.txt\n",
            "title: teste 2.txt, id: 1XiNOY3qffasP2lJascX_zs1l8hbn4Cyj\n",
            "downloading to /root/content/data/teste 2.txt\n",
            "title: teste.txt, id: 17xRu7vIXOwrgfLIIy-IBJSBjgk8BswWA\n",
            "downloading to /root/content/data/teste.txt\n"
          ],
          "name": "stdout"
        }
      ]
    },
    {
      "cell_type": "markdown",
      "metadata": {
        "id": "gB9A9b0q9uyr",
        "colab_type": "text"
      },
      "source": [
        ""
      ]
    },
    {
      "cell_type": "code",
      "metadata": {
        "id": "LoGPRIZcx2UP",
        "colab_type": "code",
        "colab": {
          "base_uri": "https://localhost:8080/",
          "height": 70
        },
        "outputId": "84a7afd7-dc96-40ac-da16-3cab6b9ff954"
      },
      "source": [
        "# ultimo arquivo\n",
        "with open(fname, 'r') as f:\n",
        "  print(f.read())\n"
      ],
      "execution_count": 2,
      "outputs": [
        {
          "output_type": "stream",
          "text": [
            "teste \n",
            "\n",
            "Olá\n"
          ],
          "name": "stdout"
        }
      ]
    },
    {
      "cell_type": "code",
      "metadata": {
        "colab_type": "code",
        "id": "ksQIfmiQszVi",
        "colab": {
          "base_uri": "https://localhost:8080/",
          "height": 137
        },
        "outputId": "2bc52a6f-702e-4ca7-b209-3d9aed81a2c3"
      },
      "source": [
        "#Agora dar uma olhada no arquivo:\n",
        "df #Apresenta as primeiras 10 linhas)"
      ],
      "execution_count": 3,
      "outputs": [
        {
          "output_type": "execute_result",
          "data": {
            "text/html": [
              "<div>\n",
              "<style scoped>\n",
              "    .dataframe tbody tr th:only-of-type {\n",
              "        vertical-align: middle;\n",
              "    }\n",
              "\n",
              "    .dataframe tbody tr th {\n",
              "        vertical-align: top;\n",
              "    }\n",
              "\n",
              "    .dataframe thead th {\n",
              "        text-align: right;\n",
              "    }\n",
              "</style>\n",
              "<table border=\"1\" class=\"dataframe\">\n",
              "  <thead>\n",
              "    <tr style=\"text-align: right;\">\n",
              "      <th></th>\n",
              "      <th>Nome</th>\n",
              "    </tr>\n",
              "  </thead>\n",
              "  <tbody>\n",
              "    <tr>\n",
              "      <th>0</th>\n",
              "      <td>teste 3.txt</td>\n",
              "    </tr>\n",
              "    <tr>\n",
              "      <th>1</th>\n",
              "      <td>teste 2.txt</td>\n",
              "    </tr>\n",
              "    <tr>\n",
              "      <th>2</th>\n",
              "      <td>teste.txt</td>\n",
              "    </tr>\n",
              "  </tbody>\n",
              "</table>\n",
              "</div>"
            ],
            "text/plain": [
              "          Nome\n",
              "0  teste 3.txt\n",
              "1  teste 2.txt\n",
              "2    teste.txt"
            ]
          },
          "metadata": {
            "tags": []
          },
          "execution_count": 3
        }
      ]
    }
  ]
}