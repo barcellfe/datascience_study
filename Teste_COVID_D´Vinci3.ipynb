{
  "nbformat": 4,
  "nbformat_minor": 0,
  "metadata": {
    "colab": {
      "name": "Teste COVID D´Vinci3.ipynb",
      "provenance": [],
      "collapsed_sections": [
        "hgWLJC0TATyk"
      ],
      "mount_file_id": "1tAUoEJSPZGbY9S3Gy4JJ5Wd40BVuqVqM",
      "authorship_tag": "ABX9TyPXsTuXURSfokoXQfMzLlQ6",
      "include_colab_link": true
    },
    "kernelspec": {
      "name": "python3",
      "display_name": "Python 3"
    }
  },
  "cells": [
    {
      "cell_type": "markdown",
      "metadata": {
        "id": "view-in-github",
        "colab_type": "text"
      },
      "source": [
        "<a href=\"https://colab.research.google.com/github/barcellfe/datascience_study/blob/master/Teste_COVID_D%C2%B4Vinci3.ipynb\" target=\"_parent\"><img src=\"https://colab.research.google.com/assets/colab-badge.svg\" alt=\"Open In Colab\"/></a>"
      ]
    },
    {
      "cell_type": "markdown",
      "metadata": {
        "id": "hgWLJC0TATyk",
        "colab_type": "text"
      },
      "source": [
        "# Inicialização Básica do Sandbox - Importação de Bibliotecas"
      ]
    },
    {
      "cell_type": "markdown",
      "metadata": {
        "id": "sJ_6lRyC4Ar9",
        "colab_type": "text"
      },
      "source": [
        "**Preparando o ambiente**\n",
        "inicializando bibliotecas\n"
      ]
    },
    {
      "cell_type": "code",
      "metadata": {
        "id": "B7VTUYI-39ua",
        "colab_type": "code",
        "colab": {}
      },
      "source": [
        "import pandas as pd\n",
        "import numpy as np\n",
        "import random"
      ],
      "execution_count": 3,
      "outputs": []
    },
    {
      "cell_type": "code",
      "metadata": {
        "id": "fkxqhDKU3WBJ",
        "colab_type": "code",
        "colab": {
          "base_uri": "https://localhost:8080/",
          "height": 141
        },
        "outputId": "85913d96-d48b-43c7-e284-018ea8b3f6d3"
      },
      "source": [
        "!pip install matplotlib"
      ],
      "execution_count": 1,
      "outputs": [
        {
          "output_type": "stream",
          "text": [
            "Requirement already satisfied: matplotlib in /usr/local/lib/python3.6/dist-packages (3.2.2)\n",
            "Requirement already satisfied: numpy>=1.11 in /usr/local/lib/python3.6/dist-packages (from matplotlib) (1.18.5)\n",
            "Requirement already satisfied: cycler>=0.10 in /usr/local/lib/python3.6/dist-packages (from matplotlib) (0.10.0)\n",
            "Requirement already satisfied: kiwisolver>=1.0.1 in /usr/local/lib/python3.6/dist-packages (from matplotlib) (1.2.0)\n",
            "Requirement already satisfied: pyparsing!=2.0.4,!=2.1.2,!=2.1.6,>=2.0.1 in /usr/local/lib/python3.6/dist-packages (from matplotlib) (2.4.7)\n",
            "Requirement already satisfied: python-dateutil>=2.1 in /usr/local/lib/python3.6/dist-packages (from matplotlib) (2.8.1)\n",
            "Requirement already satisfied: six in /usr/local/lib/python3.6/dist-packages (from cycler>=0.10->matplotlib) (1.15.0)\n"
          ],
          "name": "stdout"
        }
      ]
    },
    {
      "cell_type": "markdown",
      "metadata": {
        "id": "uWZOREUFAjDh",
        "colab_type": "text"
      },
      "source": [
        "# 1a Atividade - Buscando resolver exercício sobre COVID 19 porém com BD da WHO"
      ]
    },
    {
      "cell_type": "markdown",
      "metadata": {
        "id": "9hoJ5beo0to8",
        "colab_type": "text"
      },
      "source": [
        "**Teste para uma Análise de Dados Exploratória (EDA) com os dados disponibilizados no site da WHO em 22 de Agosto de 2020** \n",
        "\n",
        "Fonte de dados: https://covid19.who.int/table  "
      ]
    },
    {
      "cell_type": "markdown",
      "metadata": {
        "id": "knLTBEy-2P7J",
        "colab_type": "text"
      },
      "source": [
        "**Questões a respnder**\n",
        "\n",
        "\n",
        "\n",
        "1. Quantos registros existem na tabela?\n",
        "2. Quantos países existem nessa base?\n",
        "3. Quantos mortos, até a data do arquivo, na China?\n",
        "4. Qual o total de mortes, até a data do araquivo, no mundo todo?\n",
        "5. Que país teve mais casos até a data do arquivo?\n",
        "6. Montando uma tabela por data para construir um gráfico de progressão comparando cinco países"
      ]
    },
    {
      "cell_type": "markdown",
      "metadata": {
        "id": "FDxKVG18D23e",
        "colab_type": "text"
      },
      "source": [
        "*1. - Quantos registros existem na tabela?*"
      ]
    },
    {
      "cell_type": "markdown",
      "metadata": {
        "id": "85KaXAvX4Vdg",
        "colab_type": "text"
      },
      "source": [
        "**Lendo o arquivo com os dados da WHO**\n"
      ]
    },
    {
      "cell_type": "code",
      "metadata": {
        "id": "L1T-D8hi4emJ",
        "colab_type": "code",
        "colab": {
          "base_uri": "https://localhost:8080/",
          "height": 197
        },
        "outputId": "b9c51a2c-9a1d-4b20-ccfc-6fc173c216c2"
      },
      "source": [
        "# Código abaixo utilizado para quando importamos o csv para o nosso colab, com o API / link da WHO disponibilizado isso ñ é mais necessário\n",
        "# Who_Cov_Data = pd.read_csv('/content/drive/My Drive/Colab Notebooks/WHO-COVID-19-global-data-22-08-2020.csv')\n",
        "\n",
        "Who_Cov_Data = pd.read_csv('https://covid19.who.int/WHO-COVID-19-global-data.csv')\n",
        "Who_Cov_Data.head()\n"
      ],
      "execution_count": 8,
      "outputs": [
        {
          "output_type": "execute_result",
          "data": {
            "text/html": [
              "<div>\n",
              "<style scoped>\n",
              "    .dataframe tbody tr th:only-of-type {\n",
              "        vertical-align: middle;\n",
              "    }\n",
              "\n",
              "    .dataframe tbody tr th {\n",
              "        vertical-align: top;\n",
              "    }\n",
              "\n",
              "    .dataframe thead th {\n",
              "        text-align: right;\n",
              "    }\n",
              "</style>\n",
              "<table border=\"1\" class=\"dataframe\">\n",
              "  <thead>\n",
              "    <tr style=\"text-align: right;\">\n",
              "      <th></th>\n",
              "      <th>Date_reported</th>\n",
              "      <th>Country_code</th>\n",
              "      <th>Country</th>\n",
              "      <th>WHO_region</th>\n",
              "      <th>New_cases</th>\n",
              "      <th>Cumulative_cases</th>\n",
              "      <th>New_deaths</th>\n",
              "      <th>Cumulative_deaths</th>\n",
              "    </tr>\n",
              "  </thead>\n",
              "  <tbody>\n",
              "    <tr>\n",
              "      <th>0</th>\n",
              "      <td>2020-02-24</td>\n",
              "      <td>AF</td>\n",
              "      <td>Afghanistan</td>\n",
              "      <td>EMRO</td>\n",
              "      <td>5</td>\n",
              "      <td>5</td>\n",
              "      <td>0</td>\n",
              "      <td>0</td>\n",
              "    </tr>\n",
              "    <tr>\n",
              "      <th>1</th>\n",
              "      <td>2020-02-25</td>\n",
              "      <td>AF</td>\n",
              "      <td>Afghanistan</td>\n",
              "      <td>EMRO</td>\n",
              "      <td>0</td>\n",
              "      <td>5</td>\n",
              "      <td>0</td>\n",
              "      <td>0</td>\n",
              "    </tr>\n",
              "    <tr>\n",
              "      <th>2</th>\n",
              "      <td>2020-02-26</td>\n",
              "      <td>AF</td>\n",
              "      <td>Afghanistan</td>\n",
              "      <td>EMRO</td>\n",
              "      <td>0</td>\n",
              "      <td>5</td>\n",
              "      <td>0</td>\n",
              "      <td>0</td>\n",
              "    </tr>\n",
              "    <tr>\n",
              "      <th>3</th>\n",
              "      <td>2020-02-27</td>\n",
              "      <td>AF</td>\n",
              "      <td>Afghanistan</td>\n",
              "      <td>EMRO</td>\n",
              "      <td>0</td>\n",
              "      <td>5</td>\n",
              "      <td>0</td>\n",
              "      <td>0</td>\n",
              "    </tr>\n",
              "    <tr>\n",
              "      <th>4</th>\n",
              "      <td>2020-02-28</td>\n",
              "      <td>AF</td>\n",
              "      <td>Afghanistan</td>\n",
              "      <td>EMRO</td>\n",
              "      <td>0</td>\n",
              "      <td>5</td>\n",
              "      <td>0</td>\n",
              "      <td>0</td>\n",
              "    </tr>\n",
              "  </tbody>\n",
              "</table>\n",
              "</div>"
            ],
            "text/plain": [
              "  Date_reported  Country_code  ...  New_deaths  Cumulative_deaths\n",
              "0    2020-02-24            AF  ...           0                  0\n",
              "1    2020-02-25            AF  ...           0                  0\n",
              "2    2020-02-26            AF  ...           0                  0\n",
              "3    2020-02-27            AF  ...           0                  0\n",
              "4    2020-02-28            AF  ...           0                  0\n",
              "\n",
              "[5 rows x 8 columns]"
            ]
          },
          "metadata": {
            "tags": []
          },
          "execution_count": 8
        }
      ]
    },
    {
      "cell_type": "code",
      "metadata": {
        "id": "t4f-ti1QtOqo",
        "colab_type": "code",
        "colab": {
          "base_uri": "https://localhost:8080/",
          "height": 34
        },
        "outputId": "c00df3b8-8bd6-48ea-fa6b-9b480593fdb1"
      },
      "source": [
        "Who_Cov_Data.shape"
      ],
      "execution_count": 9,
      "outputs": [
        {
          "output_type": "execute_result",
          "data": {
            "text/plain": [
              "(36625, 8)"
            ]
          },
          "metadata": {
            "tags": []
          },
          "execution_count": 9
        }
      ]
    },
    {
      "cell_type": "code",
      "metadata": {
        "id": "3_a0NgDR5uXi",
        "colab_type": "code",
        "colab": {
          "base_uri": "https://localhost:8080/",
          "height": 176
        },
        "outputId": "8b8ba971-3ef0-4284-c649-b0f052000b8a"
      },
      "source": [
        "# Questão 1 - Resposta: São 36.625 registros em 8 colunas \n",
        "# Análise exploratória inicial - são todos os registros Not Null? \n",
        "Who_Cov_Data.count()"
      ],
      "execution_count": 10,
      "outputs": [
        {
          "output_type": "execute_result",
          "data": {
            "text/plain": [
              "Date_reported         36625\n",
              " Country_code         36463\n",
              " Country              36625\n",
              " WHO_region           36625\n",
              " New_cases            36625\n",
              " Cumulative_cases     36625\n",
              " New_deaths           36625\n",
              " Cumulative_deaths    36625\n",
              "dtype: int64"
            ]
          },
          "metadata": {
            "tags": []
          },
          "execution_count": 10
        }
      ]
    },
    {
      "cell_type": "code",
      "metadata": {
        "id": "cn1WkMIa97Lg",
        "colab_type": "code",
        "colab": {
          "base_uri": "https://localhost:8080/",
          "height": 176
        },
        "outputId": "1f6c80e1-e847-4415-a9fb-99c0e4afdae3"
      },
      "source": [
        "# Identificamos que a Coluna Country Code ñ possue a mesma qtd de reg das outras colunas\n",
        "\n",
        "Who_Cov_Data.isnull().sum()\n",
        "\n",
        "# 162 refistros nulas na coluna Country COde"
      ],
      "execution_count": 11,
      "outputs": [
        {
          "output_type": "execute_result",
          "data": {
            "text/plain": [
              "Date_reported           0\n",
              " Country_code         162\n",
              " Country                0\n",
              " WHO_region             0\n",
              " New_cases              0\n",
              " Cumulative_cases       0\n",
              " New_deaths             0\n",
              " Cumulative_deaths      0\n",
              "dtype: int64"
            ]
          },
          "metadata": {
            "tags": []
          },
          "execution_count": 11
        }
      ]
    },
    {
      "cell_type": "markdown",
      "metadata": {
        "id": "a7kc2seeANhQ",
        "colab_type": "text"
      },
      "source": [
        "**Questão 1** *Resposta* - Existem  36.625  registros nessa base. \n",
        "**Nota: Existem 162 registros com o campo Country_code igual a \"Null\"**\n",
        "\n",
        "**Questão 2 - Quantos países existem nessa base?**\n",
        "_______________________________________________________________________________"
      ]
    },
    {
      "cell_type": "code",
      "metadata": {
        "id": "d8qoVpvhDO8C",
        "colab_type": "code",
        "colab": {
          "base_uri": "https://localhost:8080/",
          "height": 197
        },
        "outputId": "64ae07d8-9614-486e-b2aa-02928ef1eb3f"
      },
      "source": [
        "# Alterando nomes cabeçalho das colunas para que sejan str\n",
        "\n",
        "Who_Cov_Data.columns = ['Data','Codigo Pais','Pais','Regiao','Casos Novos','Casos Acumulados','Novas Mortes','Mortes Acumuladas']\n",
        "Who_Cov_Data.head()"
      ],
      "execution_count": 12,
      "outputs": [
        {
          "output_type": "execute_result",
          "data": {
            "text/html": [
              "<div>\n",
              "<style scoped>\n",
              "    .dataframe tbody tr th:only-of-type {\n",
              "        vertical-align: middle;\n",
              "    }\n",
              "\n",
              "    .dataframe tbody tr th {\n",
              "        vertical-align: top;\n",
              "    }\n",
              "\n",
              "    .dataframe thead th {\n",
              "        text-align: right;\n",
              "    }\n",
              "</style>\n",
              "<table border=\"1\" class=\"dataframe\">\n",
              "  <thead>\n",
              "    <tr style=\"text-align: right;\">\n",
              "      <th></th>\n",
              "      <th>Data</th>\n",
              "      <th>Codigo Pais</th>\n",
              "      <th>Pais</th>\n",
              "      <th>Regiao</th>\n",
              "      <th>Casos Novos</th>\n",
              "      <th>Casos Acumulados</th>\n",
              "      <th>Novas Mortes</th>\n",
              "      <th>Mortes Acumuladas</th>\n",
              "    </tr>\n",
              "  </thead>\n",
              "  <tbody>\n",
              "    <tr>\n",
              "      <th>0</th>\n",
              "      <td>2020-02-24</td>\n",
              "      <td>AF</td>\n",
              "      <td>Afghanistan</td>\n",
              "      <td>EMRO</td>\n",
              "      <td>5</td>\n",
              "      <td>5</td>\n",
              "      <td>0</td>\n",
              "      <td>0</td>\n",
              "    </tr>\n",
              "    <tr>\n",
              "      <th>1</th>\n",
              "      <td>2020-02-25</td>\n",
              "      <td>AF</td>\n",
              "      <td>Afghanistan</td>\n",
              "      <td>EMRO</td>\n",
              "      <td>0</td>\n",
              "      <td>5</td>\n",
              "      <td>0</td>\n",
              "      <td>0</td>\n",
              "    </tr>\n",
              "    <tr>\n",
              "      <th>2</th>\n",
              "      <td>2020-02-26</td>\n",
              "      <td>AF</td>\n",
              "      <td>Afghanistan</td>\n",
              "      <td>EMRO</td>\n",
              "      <td>0</td>\n",
              "      <td>5</td>\n",
              "      <td>0</td>\n",
              "      <td>0</td>\n",
              "    </tr>\n",
              "    <tr>\n",
              "      <th>3</th>\n",
              "      <td>2020-02-27</td>\n",
              "      <td>AF</td>\n",
              "      <td>Afghanistan</td>\n",
              "      <td>EMRO</td>\n",
              "      <td>0</td>\n",
              "      <td>5</td>\n",
              "      <td>0</td>\n",
              "      <td>0</td>\n",
              "    </tr>\n",
              "    <tr>\n",
              "      <th>4</th>\n",
              "      <td>2020-02-28</td>\n",
              "      <td>AF</td>\n",
              "      <td>Afghanistan</td>\n",
              "      <td>EMRO</td>\n",
              "      <td>0</td>\n",
              "      <td>5</td>\n",
              "      <td>0</td>\n",
              "      <td>0</td>\n",
              "    </tr>\n",
              "  </tbody>\n",
              "</table>\n",
              "</div>"
            ],
            "text/plain": [
              "         Data Codigo Pais  ... Novas Mortes Mortes Acumuladas\n",
              "0  2020-02-24          AF  ...            0                 0\n",
              "1  2020-02-25          AF  ...            0                 0\n",
              "2  2020-02-26          AF  ...            0                 0\n",
              "3  2020-02-27          AF  ...            0                 0\n",
              "4  2020-02-28          AF  ...            0                 0\n",
              "\n",
              "[5 rows x 8 columns]"
            ]
          },
          "metadata": {
            "tags": []
          },
          "execution_count": 12
        }
      ]
    },
    {
      "cell_type": "code",
      "metadata": {
        "id": "xWNBCtrrKdqF",
        "colab_type": "code",
        "colab": {
          "base_uri": "https://localhost:8080/",
          "height": 34
        },
        "outputId": "9cd23358-d39a-434a-f3f5-50cc0565b519"
      },
      "source": [
        "# COntagem de qtos países diferentes existem no DF\n",
        "\n",
        "Conta_Pais = Who_Cov_Data['Pais'].drop_duplicates()\n",
        "Conta_Pais.count()"
      ],
      "execution_count": 14,
      "outputs": [
        {
          "output_type": "execute_result",
          "data": {
            "text/plain": [
              "216"
            ]
          },
          "metadata": {
            "tags": []
          },
          "execution_count": 14
        }
      ]
    },
    {
      "cell_type": "code",
      "metadata": {
        "id": "lknilST8NAqm",
        "colab_type": "code",
        "colab": {
          "base_uri": "https://localhost:8080/",
          "height": 52
        },
        "outputId": "5c474218-702e-4a53-fac5-9380b62eab30"
      },
      "source": [
        "# Identificando que países estão com Country Code = null\n",
        "\n",
        "Who_Cov_Data[Who_Cov_Data['Codigo Pais'].isnull()]['Pais'].drop_duplicates()"
      ],
      "execution_count": 15,
      "outputs": [
        {
          "output_type": "execute_result",
          "data": {
            "text/plain": [
              "23077    Namibia\n",
              "Name: Pais, dtype: object"
            ]
          },
          "metadata": {
            "tags": []
          },
          "execution_count": 15
        }
      ]
    },
    {
      "cell_type": "markdown",
      "metadata": {
        "id": "gkOD2VUQMtR6",
        "colab_type": "text"
      },
      "source": [
        "**Questão 2** *Resposta - * Existem 216 países nessa base. Namibia é o pais cujo o Country Code está como nulo - 162 ocorrências nessa base de dados\n",
        "\n",
        "**Questão 3 - Quantos mortos, até a data do arquivo, na China?**"
      ]
    },
    {
      "cell_type": "code",
      "metadata": {
        "id": "IGy6f18FI0Bs",
        "colab_type": "code",
        "colab": {
          "base_uri": "https://localhost:8080/",
          "height": 197
        },
        "outputId": "6fb801d7-b9f5-4781-fa32-b0b44a5bbe84"
      },
      "source": [
        "# Criando um DF apartir do BD com os registros cujo country = china\n",
        "\n",
        "Who_Cov_Data_China = Who_Cov_Data[Who_Cov_Data.Pais==\"China\"]\n",
        "Who_Cov_Data_China.head()"
      ],
      "execution_count": 18,
      "outputs": [
        {
          "output_type": "execute_result",
          "data": {
            "text/html": [
              "<div>\n",
              "<style scoped>\n",
              "    .dataframe tbody tr th:only-of-type {\n",
              "        vertical-align: middle;\n",
              "    }\n",
              "\n",
              "    .dataframe tbody tr th {\n",
              "        vertical-align: top;\n",
              "    }\n",
              "\n",
              "    .dataframe thead th {\n",
              "        text-align: right;\n",
              "    }\n",
              "</style>\n",
              "<table border=\"1\" class=\"dataframe\">\n",
              "  <thead>\n",
              "    <tr style=\"text-align: right;\">\n",
              "      <th></th>\n",
              "      <th>Data</th>\n",
              "      <th>Codigo Pais</th>\n",
              "      <th>Pais</th>\n",
              "      <th>Regiao</th>\n",
              "      <th>Casos Novos</th>\n",
              "      <th>Casos Acumulados</th>\n",
              "      <th>Novas Mortes</th>\n",
              "      <th>Mortes Acumuladas</th>\n",
              "    </tr>\n",
              "  </thead>\n",
              "  <tbody>\n",
              "    <tr>\n",
              "      <th>6917</th>\n",
              "      <td>2020-01-04</td>\n",
              "      <td>CN</td>\n",
              "      <td>China</td>\n",
              "      <td>WPRO</td>\n",
              "      <td>1</td>\n",
              "      <td>1</td>\n",
              "      <td>0</td>\n",
              "      <td>0</td>\n",
              "    </tr>\n",
              "    <tr>\n",
              "      <th>6918</th>\n",
              "      <td>2020-01-05</td>\n",
              "      <td>CN</td>\n",
              "      <td>China</td>\n",
              "      <td>WPRO</td>\n",
              "      <td>0</td>\n",
              "      <td>1</td>\n",
              "      <td>0</td>\n",
              "      <td>0</td>\n",
              "    </tr>\n",
              "    <tr>\n",
              "      <th>6919</th>\n",
              "      <td>2020-01-06</td>\n",
              "      <td>CN</td>\n",
              "      <td>China</td>\n",
              "      <td>WPRO</td>\n",
              "      <td>3</td>\n",
              "      <td>4</td>\n",
              "      <td>0</td>\n",
              "      <td>0</td>\n",
              "    </tr>\n",
              "    <tr>\n",
              "      <th>6920</th>\n",
              "      <td>2020-01-07</td>\n",
              "      <td>CN</td>\n",
              "      <td>China</td>\n",
              "      <td>WPRO</td>\n",
              "      <td>0</td>\n",
              "      <td>4</td>\n",
              "      <td>0</td>\n",
              "      <td>0</td>\n",
              "    </tr>\n",
              "    <tr>\n",
              "      <th>6921</th>\n",
              "      <td>2020-01-08</td>\n",
              "      <td>CN</td>\n",
              "      <td>China</td>\n",
              "      <td>WPRO</td>\n",
              "      <td>0</td>\n",
              "      <td>4</td>\n",
              "      <td>0</td>\n",
              "      <td>0</td>\n",
              "    </tr>\n",
              "  </tbody>\n",
              "</table>\n",
              "</div>"
            ],
            "text/plain": [
              "            Data Codigo Pais  ... Novas Mortes Mortes Acumuladas\n",
              "6917  2020-01-04          CN  ...            0                 0\n",
              "6918  2020-01-05          CN  ...            0                 0\n",
              "6919  2020-01-06          CN  ...            0                 0\n",
              "6920  2020-01-07          CN  ...            0                 0\n",
              "6921  2020-01-08          CN  ...            0                 0\n",
              "\n",
              "[5 rows x 8 columns]"
            ]
          },
          "metadata": {
            "tags": []
          },
          "execution_count": 18
        }
      ]
    },
    {
      "cell_type": "code",
      "metadata": {
        "id": "Y2YsooHw8O4v",
        "colab_type": "code",
        "colab": {
          "base_uri": "https://localhost:8080/",
          "height": 34
        },
        "outputId": "70a1409b-3d13-4637-ef9a-a1b2a9a740f2"
      },
      "source": [
        "# Identificando quantos registros para China\n",
        "\n",
        "Who_Cov_Data_China.shape"
      ],
      "execution_count": 19,
      "outputs": [
        {
          "output_type": "execute_result",
          "data": {
            "text/plain": [
              "(232, 8)"
            ]
          },
          "metadata": {
            "tags": []
          },
          "execution_count": 19
        }
      ]
    },
    {
      "cell_type": "code",
      "metadata": {
        "id": "e2z38mYbBQzI",
        "colab_type": "code",
        "colab": {
          "base_uri": "https://localhost:8080/",
          "height": 406
        },
        "outputId": "bc606a6d-5cdf-4707-8c4d-a4afde96893b"
      },
      "source": [
        "# Uma forma rápida de responder é ordenando os dados do reg mais antigo ao mais recente e verificar valor da coluna Mortes Acumuladas\n",
        "\n",
        "Who_Cov_Data_China = Who_Cov_Data_China.sort_values(by = 'Data')\n",
        "Who_Cov_Data_China"
      ],
      "execution_count": 25,
      "outputs": [
        {
          "output_type": "execute_result",
          "data": {
            "text/html": [
              "<div>\n",
              "<style scoped>\n",
              "    .dataframe tbody tr th:only-of-type {\n",
              "        vertical-align: middle;\n",
              "    }\n",
              "\n",
              "    .dataframe tbody tr th {\n",
              "        vertical-align: top;\n",
              "    }\n",
              "\n",
              "    .dataframe thead th {\n",
              "        text-align: right;\n",
              "    }\n",
              "</style>\n",
              "<table border=\"1\" class=\"dataframe\">\n",
              "  <thead>\n",
              "    <tr style=\"text-align: right;\">\n",
              "      <th></th>\n",
              "      <th>Data</th>\n",
              "      <th>Codigo Pais</th>\n",
              "      <th>Pais</th>\n",
              "      <th>Regiao</th>\n",
              "      <th>Casos Novos</th>\n",
              "      <th>Casos Acumulados</th>\n",
              "      <th>Novas Mortes</th>\n",
              "      <th>Mortes Acumuladas</th>\n",
              "    </tr>\n",
              "  </thead>\n",
              "  <tbody>\n",
              "    <tr>\n",
              "      <th>6917</th>\n",
              "      <td>2020-01-04</td>\n",
              "      <td>CN</td>\n",
              "      <td>China</td>\n",
              "      <td>WPRO</td>\n",
              "      <td>1</td>\n",
              "      <td>1</td>\n",
              "      <td>0</td>\n",
              "      <td>0</td>\n",
              "    </tr>\n",
              "    <tr>\n",
              "      <th>6918</th>\n",
              "      <td>2020-01-05</td>\n",
              "      <td>CN</td>\n",
              "      <td>China</td>\n",
              "      <td>WPRO</td>\n",
              "      <td>0</td>\n",
              "      <td>1</td>\n",
              "      <td>0</td>\n",
              "      <td>0</td>\n",
              "    </tr>\n",
              "    <tr>\n",
              "      <th>6919</th>\n",
              "      <td>2020-01-06</td>\n",
              "      <td>CN</td>\n",
              "      <td>China</td>\n",
              "      <td>WPRO</td>\n",
              "      <td>3</td>\n",
              "      <td>4</td>\n",
              "      <td>0</td>\n",
              "      <td>0</td>\n",
              "    </tr>\n",
              "    <tr>\n",
              "      <th>6920</th>\n",
              "      <td>2020-01-07</td>\n",
              "      <td>CN</td>\n",
              "      <td>China</td>\n",
              "      <td>WPRO</td>\n",
              "      <td>0</td>\n",
              "      <td>4</td>\n",
              "      <td>0</td>\n",
              "      <td>0</td>\n",
              "    </tr>\n",
              "    <tr>\n",
              "      <th>6921</th>\n",
              "      <td>2020-01-08</td>\n",
              "      <td>CN</td>\n",
              "      <td>China</td>\n",
              "      <td>WPRO</td>\n",
              "      <td>0</td>\n",
              "      <td>4</td>\n",
              "      <td>0</td>\n",
              "      <td>0</td>\n",
              "    </tr>\n",
              "    <tr>\n",
              "      <th>...</th>\n",
              "      <td>...</td>\n",
              "      <td>...</td>\n",
              "      <td>...</td>\n",
              "      <td>...</td>\n",
              "      <td>...</td>\n",
              "      <td>...</td>\n",
              "      <td>...</td>\n",
              "      <td>...</td>\n",
              "    </tr>\n",
              "    <tr>\n",
              "      <th>7144</th>\n",
              "      <td>2020-08-18</td>\n",
              "      <td>CN</td>\n",
              "      <td>China</td>\n",
              "      <td>WPRO</td>\n",
              "      <td>67</td>\n",
              "      <td>89926</td>\n",
              "      <td>0</td>\n",
              "      <td>4710</td>\n",
              "    </tr>\n",
              "    <tr>\n",
              "      <th>7145</th>\n",
              "      <td>2020-08-19</td>\n",
              "      <td>CN</td>\n",
              "      <td>China</td>\n",
              "      <td>WPRO</td>\n",
              "      <td>54</td>\n",
              "      <td>89980</td>\n",
              "      <td>2</td>\n",
              "      <td>4712</td>\n",
              "    </tr>\n",
              "    <tr>\n",
              "      <th>7146</th>\n",
              "      <td>2020-08-20</td>\n",
              "      <td>CN</td>\n",
              "      <td>China</td>\n",
              "      <td>WPRO</td>\n",
              "      <td>33</td>\n",
              "      <td>90013</td>\n",
              "      <td>1</td>\n",
              "      <td>4713</td>\n",
              "    </tr>\n",
              "    <tr>\n",
              "      <th>7147</th>\n",
              "      <td>2020-08-21</td>\n",
              "      <td>CN</td>\n",
              "      <td>China</td>\n",
              "      <td>WPRO</td>\n",
              "      <td>40</td>\n",
              "      <td>90053</td>\n",
              "      <td>3</td>\n",
              "      <td>4716</td>\n",
              "    </tr>\n",
              "    <tr>\n",
              "      <th>7148</th>\n",
              "      <td>2020-08-22</td>\n",
              "      <td>CN</td>\n",
              "      <td>China</td>\n",
              "      <td>WPRO</td>\n",
              "      <td>50</td>\n",
              "      <td>90103</td>\n",
              "      <td>0</td>\n",
              "      <td>4716</td>\n",
              "    </tr>\n",
              "  </tbody>\n",
              "</table>\n",
              "<p>232 rows × 8 columns</p>\n",
              "</div>"
            ],
            "text/plain": [
              "            Data Codigo Pais  ... Novas Mortes Mortes Acumuladas\n",
              "6917  2020-01-04          CN  ...            0                 0\n",
              "6918  2020-01-05          CN  ...            0                 0\n",
              "6919  2020-01-06          CN  ...            0                 0\n",
              "6920  2020-01-07          CN  ...            0                 0\n",
              "6921  2020-01-08          CN  ...            0                 0\n",
              "...          ...         ...  ...          ...               ...\n",
              "7144  2020-08-18          CN  ...            0              4710\n",
              "7145  2020-08-19          CN  ...            2              4712\n",
              "7146  2020-08-20          CN  ...            1              4713\n",
              "7147  2020-08-21          CN  ...            3              4716\n",
              "7148  2020-08-22          CN  ...            0              4716\n",
              "\n",
              "[232 rows x 8 columns]"
            ]
          },
          "metadata": {
            "tags": []
          },
          "execution_count": 25
        }
      ]
    },
    {
      "cell_type": "code",
      "metadata": {
        "id": "VZkPyB1FLDYR",
        "colab_type": "code",
        "colab": {
          "base_uri": "https://localhost:8080/",
          "height": 77
        },
        "outputId": "1fa38fdc-0316-4f0e-e66a-610ef435b5bd"
      },
      "source": [
        "Who_Cov_Data_China_Morte = Who_Cov_Data_China[Who_Cov_Data_China.Data=='2020-08-22']\n",
        "Who_Cov_Data_China_Morte.head()"
      ],
      "execution_count": 27,
      "outputs": [
        {
          "output_type": "execute_result",
          "data": {
            "text/html": [
              "<div>\n",
              "<style scoped>\n",
              "    .dataframe tbody tr th:only-of-type {\n",
              "        vertical-align: middle;\n",
              "    }\n",
              "\n",
              "    .dataframe tbody tr th {\n",
              "        vertical-align: top;\n",
              "    }\n",
              "\n",
              "    .dataframe thead th {\n",
              "        text-align: right;\n",
              "    }\n",
              "</style>\n",
              "<table border=\"1\" class=\"dataframe\">\n",
              "  <thead>\n",
              "    <tr style=\"text-align: right;\">\n",
              "      <th></th>\n",
              "      <th>Data</th>\n",
              "      <th>Codigo Pais</th>\n",
              "      <th>Pais</th>\n",
              "      <th>Regiao</th>\n",
              "      <th>Casos Novos</th>\n",
              "      <th>Casos Acumulados</th>\n",
              "      <th>Novas Mortes</th>\n",
              "      <th>Mortes Acumuladas</th>\n",
              "    </tr>\n",
              "  </thead>\n",
              "  <tbody>\n",
              "    <tr>\n",
              "      <th>7148</th>\n",
              "      <td>2020-08-22</td>\n",
              "      <td>CN</td>\n",
              "      <td>China</td>\n",
              "      <td>WPRO</td>\n",
              "      <td>50</td>\n",
              "      <td>90103</td>\n",
              "      <td>0</td>\n",
              "      <td>4716</td>\n",
              "    </tr>\n",
              "  </tbody>\n",
              "</table>\n",
              "</div>"
            ],
            "text/plain": [
              "            Data Codigo Pais  ... Novas Mortes Mortes Acumuladas\n",
              "7148  2020-08-22          CN  ...            0              4716\n",
              "\n",
              "[1 rows x 8 columns]"
            ]
          },
          "metadata": {
            "tags": []
          },
          "execution_count": 27
        }
      ]
    },
    {
      "cell_type": "code",
      "metadata": {
        "id": "8nj0ooCAQe2i",
        "colab_type": "code",
        "colab": {
          "base_uri": "https://localhost:8080/",
          "height": 70
        },
        "outputId": "5607f639-c472-419d-f5bf-d5976df73b8c"
      },
      "source": [
        "print('O No de mortes acumuladas na {} é de {}'.format(Who_Cov_Data_China_Morte['Pais'],Who_Cov_Data_China_Morte['Mortes Acumuladas'])) "
      ],
      "execution_count": 33,
      "outputs": [
        {
          "output_type": "stream",
          "text": [
            "O No de mortes acumuladas na 7148    China\n",
            "Name: Pais, dtype: object é de 7148    4716\n",
            "Name: Mortes Acumuladas, dtype: int64\n"
          ],
          "name": "stdout"
        }
      ]
    },
    {
      "cell_type": "markdown",
      "metadata": {
        "id": "MQZoxC-ZJzGP",
        "colab_type": "text"
      },
      "source": [
        "**Questão 3** *Resposta -* São 4.716 mortos, até a data do exercício, 2020-08-22, na China.\n",
        "**Embora muito baixo com o que está sendo reportado no site da WHO**"
      ]
    }
  ]
}