{
  "nbformat": 4,
  "nbformat_minor": 0,
  "metadata": {
    "colab": {
      "name": "Resumo da tabela 5.4.ipynb",
      "provenance": [],
      "collapsed_sections": [],
      "authorship_tag": "ABX9TyPO4BH4fNCYAkoAJR9BRicG",
      "include_colab_link": true
    },
    "kernelspec": {
      "name": "python3",
      "display_name": "Python 3"
    }
  },
  "cells": [
    {
      "cell_type": "markdown",
      "metadata": {
        "id": "view-in-github",
        "colab_type": "text"
      },
      "source": [
        "<a href=\"https://colab.research.google.com/github/barcellfe/datascience_study/blob/master/Resumo_da_tabela_5_4.ipynb\" target=\"_parent\"><img src=\"https://colab.research.google.com/assets/colab-badge.svg\" alt=\"Open In Colab\"/></a>"
      ]
    },
    {
      "cell_type": "markdown",
      "metadata": {
        "id": "kGAsZI3gVxvy"
      },
      "source": [
        "# Exercício aula de 03 - 11 - 2020 Pandas II"
      ]
    },
    {
      "cell_type": "code",
      "metadata": {
        "id": "GY3ROc5sVtjz"
      },
      "source": [
        "import pandas as pd\n",
        "import numpy as np"
      ],
      "execution_count": 1,
      "outputs": []
    },
    {
      "cell_type": "markdown",
      "metadata": {
        "id": "2OskqZWkXLse"
      },
      "source": [
        "**Tabela 5 .4** - Opções de indexação com DataFrame \n",
        "Tipos:  \n",
        "df[val] / df.loc[val] / df.loc[: , val] / df.loc[vall, val2]  / df.i.loc[where] / df.i.loc[:, where] / df.i.loc[where_i., where_j] / df . at[label_i., label_j]/ df. i.at [ i., j] / método rei.ndex / métodos get_value, set_va-lue"
      ]
    },
    {
      "cell_type": "code",
      "metadata": {
        "id": "tKpVpWaaV9HO"
      },
      "source": [
        "# Tabela 5 .4 - Opções de indexação com DataFrame \n",
        "# Tipos:  df[val] / df.loc[val] / df.loc[: , val] / df.loc[vall, val2]  / df.i.loc[where] / df.i.loc[:, where] / df.i.loc[where_i., where_j] \n",
        "#         df . at[label_i., label_j]/ df. i.at [ i., j] / método rei.ndex / métodos get_value, set_va-lue "
      ],
      "execution_count": null,
      "outputs": []
    },
    {
      "cell_type": "code",
      "metadata": {
        "id": "4PJnv6wEYexw",
        "outputId": "2c2344fd-0c84-4fa1-928c-547340765965",
        "colab": {
          "base_uri": "https://localhost:8080/",
          "height": 173
        }
      },
      "source": [
        "# Iniciando Data Frame para uso nos exercícios\n",
        "dado = pd.DataFrame(np.arange(16).reshape(4,4), index=['SP', 'RJ', 'MG', 'PR'],\n",
        "                    columns=['Um', 'Dois', 'Tres', 'Quatro'])\n",
        "dado"
      ],
      "execution_count": 2,
      "outputs": [
        {
          "output_type": "execute_result",
          "data": {
            "text/html": [
              "<div>\n",
              "<style scoped>\n",
              "    .dataframe tbody tr th:only-of-type {\n",
              "        vertical-align: middle;\n",
              "    }\n",
              "\n",
              "    .dataframe tbody tr th {\n",
              "        vertical-align: top;\n",
              "    }\n",
              "\n",
              "    .dataframe thead th {\n",
              "        text-align: right;\n",
              "    }\n",
              "</style>\n",
              "<table border=\"1\" class=\"dataframe\">\n",
              "  <thead>\n",
              "    <tr style=\"text-align: right;\">\n",
              "      <th></th>\n",
              "      <th>Um</th>\n",
              "      <th>Dois</th>\n",
              "      <th>Tres</th>\n",
              "      <th>Quatro</th>\n",
              "    </tr>\n",
              "  </thead>\n",
              "  <tbody>\n",
              "    <tr>\n",
              "      <th>SP</th>\n",
              "      <td>0</td>\n",
              "      <td>1</td>\n",
              "      <td>2</td>\n",
              "      <td>3</td>\n",
              "    </tr>\n",
              "    <tr>\n",
              "      <th>RJ</th>\n",
              "      <td>4</td>\n",
              "      <td>5</td>\n",
              "      <td>6</td>\n",
              "      <td>7</td>\n",
              "    </tr>\n",
              "    <tr>\n",
              "      <th>MG</th>\n",
              "      <td>8</td>\n",
              "      <td>9</td>\n",
              "      <td>10</td>\n",
              "      <td>11</td>\n",
              "    </tr>\n",
              "    <tr>\n",
              "      <th>PR</th>\n",
              "      <td>12</td>\n",
              "      <td>13</td>\n",
              "      <td>14</td>\n",
              "      <td>15</td>\n",
              "    </tr>\n",
              "  </tbody>\n",
              "</table>\n",
              "</div>"
            ],
            "text/plain": [
              "    Um  Dois  Tres  Quatro\n",
              "SP   0     1     2       3\n",
              "RJ   4     5     6       7\n",
              "MG   8     9    10      11\n",
              "PR  12    13    14      15"
            ]
          },
          "metadata": {
            "tags": []
          },
          "execution_count": 2
        }
      ]
    },
    {
      "cell_type": "markdown",
      "metadata": {
        "id": "pygmSeGdclCm"
      },
      "source": [
        "**Utilizando df [val]** - "
      ]
    },
    {
      "cell_type": "code",
      "metadata": {
        "id": "gVkXO8AfYIH9",
        "outputId": "69a92f4e-0336-4edb-9a0e-11ad96fdbe05",
        "colab": {
          "base_uri": "https://localhost:8080/"
        }
      },
      "source": [
        "# Seleciona uma única coluna ou uma sequência de colunas do DataFrame; \n",
        "\n",
        "dado['Tres']"
      ],
      "execution_count": 3,
      "outputs": [
        {
          "output_type": "execute_result",
          "data": {
            "text/plain": [
              "SP     2\n",
              "RJ     6\n",
              "MG    10\n",
              "PR    14\n",
              "Name: Tres, dtype: int64"
            ]
          },
          "metadata": {
            "tags": []
          },
          "execution_count": 3
        }
      ]
    },
    {
      "cell_type": "markdown",
      "metadata": {
        "id": "tS7_3uydc_aV"
      },
      "source": [
        "**Utilizando df.loc [val]** -"
      ]
    },
    {
      "cell_type": "code",
      "metadata": {
        "id": "-K_AsfBscKp2",
        "outputId": "f2d1540e-0e1e-4489-8008-23568679bde5",
        "colab": {
          "base_uri": "https://localhost:8080/"
        }
      },
      "source": [
        "# Seleciona uma única linha ou um subconjunto de linhas do DataFrame pelo rótulo\n",
        "\n",
        "dado.loc['PR']"
      ],
      "execution_count": 9,
      "outputs": [
        {
          "output_type": "execute_result",
          "data": {
            "text/plain": [
              "Um        12\n",
              "Dois      13\n",
              "Tres      14\n",
              "Quatro    15\n",
              "Name: PR, dtype: int64"
            ]
          },
          "metadata": {
            "tags": []
          },
          "execution_count": 9
        }
      ]
    },
    {
      "cell_type": "markdown",
      "metadata": {
        "id": "cYhQHbRReCmZ"
      },
      "source": [
        "**Utilizando df.loc[:, val]** -"
      ]
    },
    {
      "cell_type": "code",
      "metadata": {
        "id": "00lto7YXdXYT",
        "outputId": "c9abb06b-a584-48d9-8b6b-75170872066b",
        "colab": {
          "base_uri": "https://localhost:8080/"
        }
      },
      "source": [
        "# Seleciona uma única coluna ou um subconjunto de colunas pelo rótulo\n",
        "\n",
        "dado.loc[:, 'Dois']"
      ],
      "execution_count": 11,
      "outputs": [
        {
          "output_type": "execute_result",
          "data": {
            "text/plain": [
              "SP     1\n",
              "RJ     5\n",
              "MG     9\n",
              "PR    13\n",
              "Name: Dois, dtype: int64"
            ]
          },
          "metadata": {
            "tags": []
          },
          "execution_count": 11
        }
      ]
    },
    {
      "cell_type": "markdown",
      "metadata": {
        "id": "ccsigXPieqid"
      },
      "source": [
        "**Utilizando df.loc [val1, val2]** -"
      ]
    },
    {
      "cell_type": "code",
      "metadata": {
        "id": "JIZJyUSceYVJ",
        "outputId": "48c8c84c-bf3b-4a12-e3b0-f987d266ca8e",
        "colab": {
          "base_uri": "https://localhost:8080/"
        }
      },
      "source": [
        "# Seleciona tanto linhas quanto colunas pelo rótulo\n",
        "\n",
        "dado.loc['MG', 'Tres']"
      ],
      "execution_count": 12,
      "outputs": [
        {
          "output_type": "execute_result",
          "data": {
            "text/plain": [
              "10"
            ]
          },
          "metadata": {
            "tags": []
          },
          "execution_count": 12
        }
      ]
    },
    {
      "cell_type": "markdown",
      "metadata": {
        "id": "JJSOvYqVgg6A"
      },
      "source": [
        "**Utilizando df.iloc [where]** -"
      ]
    },
    {
      "cell_type": "code",
      "metadata": {
        "id": "aAPLXMAsfCeq",
        "outputId": "6ddcb3ad-8930-4c47-a694-c87ca6d5ab40",
        "colab": {
          "base_uri": "https://localhost:8080/"
        }
      },
      "source": [
        "# Seleciona uma única linha ou um subconjunto de linhas do DataFrame pela posição com um inteiro\n",
        "\n",
        "dado.iloc[1]"
      ],
      "execution_count": 18,
      "outputs": [
        {
          "output_type": "execute_result",
          "data": {
            "text/plain": [
              "Um        4\n",
              "Dois      5\n",
              "Tres      6\n",
              "Quatro    7\n",
              "Name: RJ, dtype: int64"
            ]
          },
          "metadata": {
            "tags": []
          },
          "execution_count": 18
        }
      ]
    },
    {
      "cell_type": "markdown",
      "metadata": {
        "id": "L1P4Vx5hhxq0"
      },
      "source": [
        "**Utilizando df.iloc [:, where]** -"
      ]
    },
    {
      "cell_type": "code",
      "metadata": {
        "id": "ulvdUiTBhQf_",
        "outputId": "0a665885-349e-4f54-c809-316cd55ed44a",
        "colab": {
          "base_uri": "https://localhost:8080/"
        }
      },
      "source": [
        "# Seleciona uma única coluna ou um subconjunto de colunas pela posição com um inteiro\n",
        "\n",
        "dado.iloc[:, 2]"
      ],
      "execution_count": 19,
      "outputs": [
        {
          "output_type": "execute_result",
          "data": {
            "text/plain": [
              "SP     2\n",
              "RJ     6\n",
              "MG    10\n",
              "PR    14\n",
              "Name: Tres, dtype: int64"
            ]
          },
          "metadata": {
            "tags": []
          },
          "execution_count": 19
        }
      ]
    },
    {
      "cell_type": "markdown",
      "metadata": {
        "id": "hmaKwWGXiWWl"
      },
      "source": [
        "**Utilizando df.iloc [where_i, where_j]** -"
      ]
    },
    {
      "cell_type": "code",
      "metadata": {
        "id": "P4hVU-sjiG1M",
        "outputId": "7f1dd969-e46c-4935-96d9-8a03e248fdd1",
        "colab": {
          "base_uri": "https://localhost:8080/"
        }
      },
      "source": [
        "# Seleciona tanto linhas quanto colunas pela posição com um inteiro\n",
        "\n",
        "dado.iloc[1, 2]"
      ],
      "execution_count": 21,
      "outputs": [
        {
          "output_type": "execute_result",
          "data": {
            "text/plain": [
              "6"
            ]
          },
          "metadata": {
            "tags": []
          },
          "execution_count": 21
        }
      ]
    },
    {
      "cell_type": "markdown",
      "metadata": {
        "id": "qE0czfIsi5Kw"
      },
      "source": [
        "**Utilizando df.at [label_i, label_j]** -"
      ]
    },
    {
      "cell_type": "code",
      "metadata": {
        "id": "-h2UeNZAitH9",
        "outputId": "5a075f6f-889c-48c7-93a7-59c2a2a87f4f",
        "colab": {
          "base_uri": "https://localhost:8080/"
        }
      },
      "source": [
        "# Seleciona um único valor escalar pelo rótulo da linha e da coluna\n",
        "\n",
        "dado.at['RJ', 'Quatro']"
      ],
      "execution_count": 22,
      "outputs": [
        {
          "output_type": "execute_result",
          "data": {
            "text/plain": [
              "7"
            ]
          },
          "metadata": {
            "tags": []
          },
          "execution_count": 22
        }
      ]
    },
    {
      "cell_type": "markdown",
      "metadata": {
        "id": "D4nihLGajW9c"
      },
      "source": [
        "**Utilizando df.iat [i, j]** -"
      ]
    },
    {
      "cell_type": "code",
      "metadata": {
        "id": "67hHaP02jSV1",
        "outputId": "5ad2de0f-9d2e-4ace-fc0c-f6f0de7e4f12",
        "colab": {
          "base_uri": "https://localhost:8080/"
        }
      },
      "source": [
        "# Seleciona um único valor escalar pela posição (inteiros) da linha e da coluna\n",
        "\n",
        "dado.iat[1, 3]"
      ],
      "execution_count": 24,
      "outputs": [
        {
          "output_type": "execute_result",
          "data": {
            "text/plain": [
              "7"
            ]
          },
          "metadata": {
            "tags": []
          },
          "execution_count": 24
        }
      ]
    },
    {
      "cell_type": "markdown",
      "metadata": {
        "id": "IQniMKPSo5SX"
      },
      "source": [
        "**Utilizando método Reindex** -"
      ]
    },
    {
      "cell_type": "code",
      "metadata": {
        "id": "c0BiYNqIjyhS",
        "outputId": "c941bb7c-5e3f-400b-c09b-a4389cc5c563",
        "colab": {
          "base_uri": "https://localhost:8080/",
          "height": 173
        }
      },
      "source": [
        "# Seleciona linhas ou colunas pelo rótulo\n",
        "novo_index = ['SP', 'ES', 'MG', 'PR']\n",
        "dado.reindex(novo_index)"
      ],
      "execution_count": 33,
      "outputs": [
        {
          "output_type": "execute_result",
          "data": {
            "text/html": [
              "<div>\n",
              "<style scoped>\n",
              "    .dataframe tbody tr th:only-of-type {\n",
              "        vertical-align: middle;\n",
              "    }\n",
              "\n",
              "    .dataframe tbody tr th {\n",
              "        vertical-align: top;\n",
              "    }\n",
              "\n",
              "    .dataframe thead th {\n",
              "        text-align: right;\n",
              "    }\n",
              "</style>\n",
              "<table border=\"1\" class=\"dataframe\">\n",
              "  <thead>\n",
              "    <tr style=\"text-align: right;\">\n",
              "      <th></th>\n",
              "      <th>Um</th>\n",
              "      <th>Dois</th>\n",
              "      <th>Tres</th>\n",
              "      <th>Quatro</th>\n",
              "    </tr>\n",
              "  </thead>\n",
              "  <tbody>\n",
              "    <tr>\n",
              "      <th>SP</th>\n",
              "      <td>0.0</td>\n",
              "      <td>1.0</td>\n",
              "      <td>2.0</td>\n",
              "      <td>3.0</td>\n",
              "    </tr>\n",
              "    <tr>\n",
              "      <th>ES</th>\n",
              "      <td>NaN</td>\n",
              "      <td>NaN</td>\n",
              "      <td>NaN</td>\n",
              "      <td>NaN</td>\n",
              "    </tr>\n",
              "    <tr>\n",
              "      <th>MG</th>\n",
              "      <td>8.0</td>\n",
              "      <td>9.0</td>\n",
              "      <td>10.0</td>\n",
              "      <td>11.0</td>\n",
              "    </tr>\n",
              "    <tr>\n",
              "      <th>PR</th>\n",
              "      <td>12.0</td>\n",
              "      <td>13.0</td>\n",
              "      <td>14.0</td>\n",
              "      <td>15.0</td>\n",
              "    </tr>\n",
              "  </tbody>\n",
              "</table>\n",
              "</div>"
            ],
            "text/plain": [
              "      Um  Dois  Tres  Quatro\n",
              "SP   0.0   1.0   2.0     3.0\n",
              "ES   NaN   NaN   NaN     NaN\n",
              "MG   8.0   9.0  10.0    11.0\n",
              "PR  12.0  13.0  14.0    15.0"
            ]
          },
          "metadata": {
            "tags": []
          },
          "execution_count": 33
        }
      ]
    },
    {
      "cell_type": "markdown",
      "metadata": {
        "id": "FCeNXx6PrMEM"
      },
      "source": [
        "**Utilizando get_value & set_value** -"
      ]
    },
    {
      "cell_type": "code",
      "metadata": {
        "id": "EtQJtnrGrDID",
        "outputId": "2e7320c8-1b2c-43a2-f71a-e05eaa7376a3",
        "colab": {
          "base_uri": "https://localhost:8080/",
          "height": 173
        }
      },
      "source": [
        "# utilizando o mesmo DF anterior:\n",
        "dado"
      ],
      "execution_count": 41,
      "outputs": [
        {
          "output_type": "execute_result",
          "data": {
            "text/html": [
              "<div>\n",
              "<style scoped>\n",
              "    .dataframe tbody tr th:only-of-type {\n",
              "        vertical-align: middle;\n",
              "    }\n",
              "\n",
              "    .dataframe tbody tr th {\n",
              "        vertical-align: top;\n",
              "    }\n",
              "\n",
              "    .dataframe thead th {\n",
              "        text-align: right;\n",
              "    }\n",
              "</style>\n",
              "<table border=\"1\" class=\"dataframe\">\n",
              "  <thead>\n",
              "    <tr style=\"text-align: right;\">\n",
              "      <th></th>\n",
              "      <th>Um</th>\n",
              "      <th>Dois</th>\n",
              "      <th>Tres</th>\n",
              "      <th>Quatro</th>\n",
              "    </tr>\n",
              "  </thead>\n",
              "  <tbody>\n",
              "    <tr>\n",
              "      <th>SP</th>\n",
              "      <td>0</td>\n",
              "      <td>1</td>\n",
              "      <td>2</td>\n",
              "      <td>3</td>\n",
              "    </tr>\n",
              "    <tr>\n",
              "      <th>RJ</th>\n",
              "      <td>4</td>\n",
              "      <td>5</td>\n",
              "      <td>6</td>\n",
              "      <td>7</td>\n",
              "    </tr>\n",
              "    <tr>\n",
              "      <th>MG</th>\n",
              "      <td>8</td>\n",
              "      <td>9</td>\n",
              "      <td>10</td>\n",
              "      <td>11</td>\n",
              "    </tr>\n",
              "    <tr>\n",
              "      <th>PR</th>\n",
              "      <td>12</td>\n",
              "      <td>13</td>\n",
              "      <td>14</td>\n",
              "      <td>15</td>\n",
              "    </tr>\n",
              "  </tbody>\n",
              "</table>\n",
              "</div>"
            ],
            "text/plain": [
              "    Um  Dois  Tres  Quatro\n",
              "SP   0     1     2       3\n",
              "RJ   4     5     6       7\n",
              "MG   8     9    10      11\n",
              "PR  12    13    14      15"
            ]
          },
          "metadata": {
            "tags": []
          },
          "execution_count": 41
        }
      ]
    },
    {
      "cell_type": "code",
      "metadata": {
        "id": "46-RBr2LpmrY",
        "outputId": "5ecc9131-e242-4ccb-f176-004cff659504",
        "colab": {
          "base_uri": "https://localhost:8080/"
        }
      },
      "source": [
        "dado1 = dado.get('Um')\n",
        "print(dado1)"
      ],
      "execution_count": 42,
      "outputs": [
        {
          "output_type": "stream",
          "text": [
            "SP     0\n",
            "RJ     4\n",
            "MG     8\n",
            "PR    12\n",
            "Name: Um, dtype: int64\n"
          ],
          "name": "stdout"
        }
      ]
    },
    {
      "cell_type": "code",
      "metadata": {
        "id": "CYXr91o5p9Zz",
        "outputId": "20ff4345-df21-4c1a-cac1-32fda5e870db",
        "colab": {
          "base_uri": "https://localhost:8080/",
          "height": 173
        }
      },
      "source": [
        "dado2 = dado.set_axis(['I', 'II', 'III', 'IV'], axis='columns')\n",
        "dado2"
      ],
      "execution_count": 44,
      "outputs": [
        {
          "output_type": "execute_result",
          "data": {
            "text/html": [
              "<div>\n",
              "<style scoped>\n",
              "    .dataframe tbody tr th:only-of-type {\n",
              "        vertical-align: middle;\n",
              "    }\n",
              "\n",
              "    .dataframe tbody tr th {\n",
              "        vertical-align: top;\n",
              "    }\n",
              "\n",
              "    .dataframe thead th {\n",
              "        text-align: right;\n",
              "    }\n",
              "</style>\n",
              "<table border=\"1\" class=\"dataframe\">\n",
              "  <thead>\n",
              "    <tr style=\"text-align: right;\">\n",
              "      <th></th>\n",
              "      <th>I</th>\n",
              "      <th>II</th>\n",
              "      <th>III</th>\n",
              "      <th>IV</th>\n",
              "    </tr>\n",
              "  </thead>\n",
              "  <tbody>\n",
              "    <tr>\n",
              "      <th>SP</th>\n",
              "      <td>0</td>\n",
              "      <td>1</td>\n",
              "      <td>2</td>\n",
              "      <td>3</td>\n",
              "    </tr>\n",
              "    <tr>\n",
              "      <th>RJ</th>\n",
              "      <td>4</td>\n",
              "      <td>5</td>\n",
              "      <td>6</td>\n",
              "      <td>7</td>\n",
              "    </tr>\n",
              "    <tr>\n",
              "      <th>MG</th>\n",
              "      <td>8</td>\n",
              "      <td>9</td>\n",
              "      <td>10</td>\n",
              "      <td>11</td>\n",
              "    </tr>\n",
              "    <tr>\n",
              "      <th>PR</th>\n",
              "      <td>12</td>\n",
              "      <td>13</td>\n",
              "      <td>14</td>\n",
              "      <td>15</td>\n",
              "    </tr>\n",
              "  </tbody>\n",
              "</table>\n",
              "</div>"
            ],
            "text/plain": [
              "     I  II  III  IV\n",
              "SP   0   1    2   3\n",
              "RJ   4   5    6   7\n",
              "MG   8   9   10  11\n",
              "PR  12  13   14  15"
            ]
          },
          "metadata": {
            "tags": []
          },
          "execution_count": 44
        }
      ]
    },
    {
      "cell_type": "code",
      "metadata": {
        "id": "3YmWFuC0riQp"
      },
      "source": [
        ""
      ],
      "execution_count": null,
      "outputs": []
    }
  ]
}